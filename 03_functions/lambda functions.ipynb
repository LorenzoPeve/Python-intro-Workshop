{
 "cells": [
  {
   "cell_type": "markdown",
   "id": "9c498ce6",
   "metadata": {},
   "source": [
    "# Lambda Functions"
   ]
  },
  {
   "attachments": {},
   "cell_type": "markdown",
   "id": "b3aacbe9",
   "metadata": {},
   "source": [
    "A starting point to think about them is as shorthand notation if you’re too lazy to define a function.\n",
    "\n",
    "Convenience at the expense of a few limitations."
   ]
  },
  {
   "cell_type": "markdown",
   "id": "e97b1bc0",
   "metadata": {},
   "source": [
    "``` lambda <parameters> : <body>```"
   ]
  },
  {
   "cell_type": "markdown",
   "id": "f7f5e97c",
   "metadata": {},
   "source": [
    "A regular function"
   ]
  },
  {
   "cell_type": "code",
   "execution_count": 7,
   "id": "248f5290",
   "metadata": {},
   "outputs": [
    {
     "data": {
      "text/plain": [
       "6"
      ]
     },
     "execution_count": 7,
     "metadata": {},
     "output_type": "execute_result"
    }
   ],
   "source": [
    "def add_one(x):\n",
    "    return x + 1\n",
    "\n",
    "add_one(5)"
   ]
  },
  {
   "cell_type": "markdown",
   "id": "b8316ef5",
   "metadata": {},
   "source": [
    "`lambda` function"
   ]
  },
  {
   "cell_type": "code",
   "execution_count": 5,
   "id": "29590d09",
   "metadata": {},
   "outputs": [
    {
     "data": {
      "text/plain": [
       "4"
      ]
     },
     "execution_count": 5,
     "metadata": {},
     "output_type": "execute_result"
    }
   ],
   "source": [
    "add_one = lambda x : x+1\n",
    "add_one(3)"
   ]
  },
  {
   "cell_type": "markdown",
   "id": "ce289b45",
   "metadata": {},
   "source": [
    "### Behavior"
   ]
  },
  {
   "cell_type": "markdown",
   "id": "bc676547",
   "metadata": {},
   "source": [
    "* It can only contain expressions and can’t include statements in its body.\n",
    "* It is written as a single line of execution.\n",
    "* It does not support type annotations."
   ]
  },
  {
   "cell_type": "code",
   "execution_count": 22,
   "id": "ba038d5b",
   "metadata": {},
   "outputs": [
    {
     "ename": "SyntaxError",
     "evalue": "invalid syntax (3505987814.py, line 1)",
     "output_type": "error",
     "traceback": [
      "\u001b[1;36m  Input \u001b[1;32mIn [22]\u001b[1;36m\u001b[0m\n\u001b[1;33m    lambda x: assert x == 2\u001b[0m\n\u001b[1;37m              ^\u001b[0m\n\u001b[1;31mSyntaxError\u001b[0m\u001b[1;31m:\u001b[0m invalid syntax\n"
     ]
    }
   ],
   "source": [
    "lambda x: assert x == 2  # return, pass, assert, or raise will raise a SyntaxError"
   ]
  },
  {
   "cell_type": "code",
   "execution_count": 23,
   "id": "49bd627c",
   "metadata": {},
   "outputs": [],
   "source": [
    "f = lambda x: x if x<3 else None"
   ]
  },
  {
   "cell_type": "markdown",
   "id": "69574282",
   "metadata": {},
   "source": [
    "### Usage"
   ]
  },
  {
   "cell_type": "markdown",
   "id": "40d63bcf",
   "metadata": {},
   "source": [
    "Use in higher-order functions (functions that take a function as an argument)"
   ]
  },
  {
   "cell_type": "markdown",
   "id": "fefa5351",
   "metadata": {},
   "source": [
    "`map( func, <iterable> )`"
   ]
  },
  {
   "cell_type": "code",
   "execution_count": 27,
   "id": "f388372e",
   "metadata": {},
   "outputs": [],
   "source": [
    "def make_string_uppercase(s):\n",
    "    return s.upper()"
   ]
  },
  {
   "cell_type": "code",
   "execution_count": 29,
   "id": "21e52e54",
   "metadata": {},
   "outputs": [
    {
     "name": "stdout",
     "output_type": "stream",
     "text": [
      "GOLF\n",
      "TENNIS\n",
      "SOCCER\n"
     ]
    }
   ],
   "source": [
    "for i in map(make_string_uppercase, ['golf', 'tennis', 'soccer']):\n",
    "    print(i)"
   ]
  },
  {
   "cell_type": "code",
   "execution_count": 30,
   "id": "b9ce8061",
   "metadata": {
    "scrolled": true
   },
   "outputs": [
    {
     "name": "stdout",
     "output_type": "stream",
     "text": [
      "GOLF\n",
      "TENNIS\n",
      "SOCCER\n"
     ]
    }
   ],
   "source": [
    "for i in map(lambda x: x.upper(), ['golf', 'tennis', 'soccer']):\n",
    "    print(i)"
   ]
  },
  {
   "cell_type": "markdown",
   "id": "1cad5a54",
   "metadata": {},
   "source": [
    "`filter( func, <iterable> )`"
   ]
  },
  {
   "cell_type": "code",
   "execution_count": 36,
   "id": "dcf623c7",
   "metadata": {},
   "outputs": [],
   "source": [
    "even = lambda x: x%2 == 0"
   ]
  },
  {
   "cell_type": "code",
   "execution_count": 37,
   "id": "b7406715",
   "metadata": {},
   "outputs": [
    {
     "data": {
      "text/plain": [
       "[0, 2, 4, 6, 8, 10]"
      ]
     },
     "execution_count": 37,
     "metadata": {},
     "output_type": "execute_result"
    }
   ],
   "source": [
    "list(filter(even, range(11)))"
   ]
  },
  {
   "attachments": {},
   "cell_type": "markdown",
   "id": "2ab8b071",
   "metadata": {},
   "source": [
    "Sorting by an alternate key"
   ]
  },
  {
   "cell_type": "code",
   "execution_count": 33,
   "id": "c67f6489",
   "metadata": {},
   "outputs": [],
   "source": [
    "nums = [-1, -2, 3, 4, 5, 6, 7, -8, -9]"
   ]
  },
  {
   "cell_type": "code",
   "execution_count": 34,
   "id": "73b0899f",
   "metadata": {},
   "outputs": [
    {
     "data": {
      "text/plain": [
       "[-9, -8, -2, -1, 3, 4, 5, 6, 7]"
      ]
     },
     "execution_count": 34,
     "metadata": {},
     "output_type": "execute_result"
    }
   ],
   "source": [
    "sorted(nums)"
   ]
  },
  {
   "cell_type": "code",
   "execution_count": 35,
   "id": "a7b3db6c",
   "metadata": {},
   "outputs": [
    {
     "data": {
      "text/plain": [
       "[-1, -2, 3, 4, 5, 6, 7, -8, -9]"
      ]
     },
     "execution_count": 35,
     "metadata": {},
     "output_type": "execute_result"
    }
   ],
   "source": [
    "sorted(nums, key=lambda x: abs(x))"
   ]
  },
  {
   "attachments": {},
   "cell_type": "markdown",
   "id": "dda61621",
   "metadata": {},
   "source": [
    "### lambda functions are Anonymous"
   ]
  },
  {
   "cell_type": "code",
   "execution_count": 10,
   "id": "7cc90cc3",
   "metadata": {},
   "outputs": [
    {
     "data": {
      "text/plain": [
       "'<function add_one at 0x0000028079C96DD0>'"
      ]
     },
     "execution_count": 10,
     "metadata": {},
     "output_type": "execute_result"
    }
   ],
   "source": [
    "def add_one(x):\n",
    "    return x + 1\n",
    "\n",
    "repr(add_one)"
   ]
  },
  {
   "cell_type": "code",
   "execution_count": 11,
   "id": "cfa8cb06",
   "metadata": {},
   "outputs": [
    {
     "data": {
      "text/plain": [
       "'<function <lambda> at 0x0000028079C97370>'"
      ]
     },
     "execution_count": 11,
     "metadata": {},
     "output_type": "execute_result"
    }
   ],
   "source": [
    "add_one = lambda x : x+1\n",
    "repr(add_one)"
   ]
  },
  {
   "cell_type": "code",
   "execution_count": 13,
   "id": "3978cc1d",
   "metadata": {},
   "outputs": [
    {
     "data": {
      "text/plain": [
       "'<function <lambda> at 0x0000028079C97370>'"
      ]
     },
     "execution_count": 13,
     "metadata": {},
     "output_type": "execute_result"
    }
   ],
   "source": [
    "substract_100 = lambda x : x-100\n",
    "repr(add_one)"
   ]
  }
 ],
 "metadata": {
  "kernelspec": {
   "display_name": "LR",
   "language": "python",
   "name": "lr"
  },
  "language_info": {
   "codemirror_mode": {
    "name": "ipython",
    "version": 3
   },
   "file_extension": ".py",
   "mimetype": "text/x-python",
   "name": "python",
   "nbconvert_exporter": "python",
   "pygments_lexer": "ipython3",
   "version": "3.10.2"
  }
 },
 "nbformat": 4,
 "nbformat_minor": 5
}
