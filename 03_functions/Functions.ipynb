{
 "cells": [
  {
   "cell_type": "markdown",
   "id": "dbd5aad1",
   "metadata": {},
   "source": [
    "## What is a function?"
   ]
  },
  {
   "cell_type": "markdown",
   "id": "83cfae52",
   "metadata": {},
   "source": [
    "Self-contained block of code that encapsulates a specific task or related group of tasks"
   ]
  },
  {
   "cell_type": "markdown",
   "id": "3b68f9b8",
   "metadata": {},
   "source": [
    "## Why bother defining function?"
   ]
  },
  {
   "cell_type": "markdown",
   "id": "ce386b74",
   "metadata": {},
   "source": [
    "1. Reusability\n",
    "2. Abstraction\n",
    "3. Modularity\n",
    "4. Namespace Separation"
   ]
  },
  {
   "cell_type": "markdown",
   "id": "975109cb",
   "metadata": {},
   "source": [
    "2. Abstraction"
   ]
  },
  {
   "cell_type": "code",
   "execution_count": 1,
   "id": "10161be5",
   "metadata": {},
   "outputs": [],
   "source": [
    "import math"
   ]
  },
  {
   "cell_type": "code",
   "execution_count": 2,
   "id": "71db1260",
   "metadata": {},
   "outputs": [
    {
     "data": {
      "text/plain": [
       "120"
      ]
     },
     "execution_count": 2,
     "metadata": {},
     "output_type": "execute_result"
    }
   ],
   "source": [
    "math.factorial(5)"
   ]
  },
  {
   "cell_type": "markdown",
   "id": "65fed490",
   "metadata": {},
   "source": [
    "3. Modularity"
   ]
  },
  {
   "cell_type": "code",
   "execution_count": 5,
   "id": "df890092",
   "metadata": {},
   "outputs": [],
   "source": [
    "# Main program\n",
    "\n",
    "# Code to read file in\n",
    "<statement>\n",
    "<statement>\n",
    "<statement>\n",
    "<statement>\n",
    "\n",
    "# Code to process file\n",
    "<statement>\n",
    "<statement>\n",
    "<statement>\n",
    "<statement>\n",
    "\n",
    "# Code to write file out\n",
    "<statement>\n",
    "<statement>\n",
    "<statement>\n",
    "<statement>"
   ]
  },
  {
   "cell_type": "code",
   "execution_count": null,
   "id": "b201369b",
   "metadata": {},
   "outputs": [],
   "source": [
    "# Main program\n",
    "read_file()\n",
    "process_file()\n",
    "write_file()"
   ]
  },
  {
   "cell_type": "markdown",
   "id": "5111d298",
   "metadata": {},
   "source": [
    "4. Namespace Separation"
   ]
  },
  {
   "cell_type": "code",
   "execution_count": 6,
   "id": "6c07c2c6",
   "metadata": {},
   "outputs": [
    {
     "data": {
      "text/plain": [
       "[11, 12, 13, 14]"
      ]
     },
     "execution_count": 6,
     "metadata": {},
     "output_type": "execute_result"
    }
   ],
   "source": [
    "delta = 45\n",
    "\n",
    "def add_delta(nums):\n",
    "    delta = 10\n",
    "    for i, num in enumerate(nums):\n",
    "        nums[i] = nums[i] + delta\n",
    "    \n",
    "\n",
    "nums = [1,2,3,4]\n",
    "add_delta(nums)\n",
    "nums"
   ]
  },
  {
   "cell_type": "code",
   "execution_count": 7,
   "id": "3437a1bd",
   "metadata": {},
   "outputs": [
    {
     "name": "stdout",
     "output_type": "stream",
     "text": [
      "45\n"
     ]
    }
   ],
   "source": [
    "print(delta)"
   ]
  },
  {
   "cell_type": "markdown",
   "id": "b760dc0e",
   "metadata": {},
   "source": [
    "## Function Calls and Definition"
   ]
  },
  {
   "cell_type": "markdown",
   "id": "8524f0d3",
   "metadata": {},
   "source": [
    "```def <function_name>([<parameters>]):\n",
    "    <statement(s)>\n",
    "    return <something if you wish>```"
   ]
  },
  {
   "cell_type": "code",
   "execution_count": 8,
   "id": "3d3026e5",
   "metadata": {},
   "outputs": [],
   "source": [
    "weird_string = \"\"\"Here   is   a   string   with   too234much space and234numbers\"\"\"\n",
    "\n",
    "import re\n",
    "import datetime\n",
    "\n",
    "def clean_phrase(phrase):\n",
    "\n",
    "    phrase = phrase.replace('234', ' ')\n",
    "    phrase = phrase.replace('   ', ' ')\n",
    "    print(phrase)"
   ]
  },
  {
   "cell_type": "code",
   "execution_count": 9,
   "id": "b7aa23c0",
   "metadata": {},
   "outputs": [
    {
     "name": "stdout",
     "output_type": "stream",
     "text": [
      "Here is a string with too much space and numbers\n"
     ]
    }
   ],
   "source": [
    "clean_phrase(weird_string)"
   ]
  },
  {
   "cell_type": "markdown",
   "id": "2e56c340",
   "metadata": {},
   "source": [
    "#### Parameters are optional"
   ]
  },
  {
   "cell_type": "code",
   "execution_count": 12,
   "id": "8635e381",
   "metadata": {},
   "outputs": [],
   "source": [
    "def print_todays_date():\n",
    "    print(datetime.datetime.now().date())"
   ]
  },
  {
   "cell_type": "code",
   "execution_count": 13,
   "id": "7aa5d1ec",
   "metadata": {},
   "outputs": [
    {
     "name": "stdout",
     "output_type": "stream",
     "text": [
      "2022-11-16\n"
     ]
    }
   ],
   "source": [
    "print_todays_date()"
   ]
  },
  {
   "cell_type": "markdown",
   "id": "5bb26559",
   "metadata": {},
   "source": [
    "#### A temporary placeholder"
   ]
  },
  {
   "cell_type": "code",
   "execution_count": 14,
   "id": "9a3675bb",
   "metadata": {},
   "outputs": [],
   "source": [
    "def f():\n",
    "    pass"
   ]
  },
  {
   "cell_type": "markdown",
   "id": "042e7c19",
   "metadata": {},
   "source": [
    "## Argument Passing"
   ]
  },
  {
   "cell_type": "markdown",
   "id": "0008cc38",
   "metadata": {},
   "source": [
    "#### Positional Arguments\n",
    "The most straightforward way to pass data to a function, but they also afford the least flexibility\n",
    "* Order must be matched\n",
    "* Number of arguments must be matched"
   ]
  },
  {
   "cell_type": "code",
   "execution_count": 15,
   "id": "2ea9d948",
   "metadata": {},
   "outputs": [],
   "source": [
    "def f(qty, item, price):\n",
    "    print(f'{qty} {item}s cost ${price*qty:.2f}')"
   ]
  },
  {
   "cell_type": "code",
   "execution_count": 16,
   "id": "86804361",
   "metadata": {},
   "outputs": [
    {
     "name": "stdout",
     "output_type": "stream",
     "text": [
      "6 bananas cost $1.50\n"
     ]
    }
   ],
   "source": [
    "f(6, 'banana', 0.25)"
   ]
  },
  {
   "cell_type": "code",
   "execution_count": 17,
   "id": "7776e439",
   "metadata": {},
   "outputs": [
    {
     "name": "stdout",
     "output_type": "stream",
     "text": [
      "0.25 bananas cost $1.50\n"
     ]
    }
   ],
   "source": [
    "f(0.25, 'banana', 6)"
   ]
  },
  {
   "cell_type": "markdown",
   "id": "63411d52",
   "metadata": {},
   "source": [
    "The order of the arguments in the call must match the order of the parameters in the definition"
   ]
  },
  {
   "cell_type": "code",
   "execution_count": 18,
   "id": "e006f00e",
   "metadata": {},
   "outputs": [
    {
     "name": "stdout",
     "output_type": "stream",
     "text": [
      "{'qty': 0.25, 'item': 6, 'price': 'banana'}\n"
     ]
    },
    {
     "ename": "TypeError",
     "evalue": "can't multiply sequence by non-int of type 'float'",
     "output_type": "error",
     "traceback": [
      "\u001b[1;31m---------------------------------------------------------------------------\u001b[0m",
      "\u001b[1;31mTypeError\u001b[0m                                 Traceback (most recent call last)",
      "Input \u001b[1;32mIn [18]\u001b[0m, in \u001b[0;36m<cell line: 4>\u001b[1;34m()\u001b[0m\n\u001b[0;32m      2\u001b[0m     \u001b[38;5;28mprint\u001b[39m(\u001b[38;5;28mlocals\u001b[39m()) \u001b[38;5;66;03m# prints the function's namespace\u001b[39;00m\n\u001b[0;32m      3\u001b[0m     \u001b[38;5;28mprint\u001b[39m(\u001b[38;5;124mf\u001b[39m\u001b[38;5;124m'\u001b[39m\u001b[38;5;132;01m{\u001b[39;00mqty\u001b[38;5;132;01m}\u001b[39;00m\u001b[38;5;124m \u001b[39m\u001b[38;5;132;01m{\u001b[39;00mitem\u001b[38;5;132;01m}\u001b[39;00m\u001b[38;5;124ms cost $\u001b[39m\u001b[38;5;132;01m{\u001b[39;00mprice\u001b[38;5;241m*\u001b[39mqty\u001b[38;5;132;01m:\u001b[39;00m\u001b[38;5;124m.2f\u001b[39m\u001b[38;5;132;01m}\u001b[39;00m\u001b[38;5;124m'\u001b[39m)\n\u001b[1;32m----> 4\u001b[0m \u001b[43mf\u001b[49m\u001b[43m(\u001b[49m\u001b[38;5;241;43m0.25\u001b[39;49m\u001b[43m,\u001b[49m\u001b[43m \u001b[49m\u001b[38;5;241;43m6\u001b[39;49m\u001b[43m,\u001b[49m\u001b[43m \u001b[49m\u001b[38;5;124;43m'\u001b[39;49m\u001b[38;5;124;43mbanana\u001b[39;49m\u001b[38;5;124;43m'\u001b[39;49m\u001b[43m)\u001b[49m\n",
      "Input \u001b[1;32mIn [18]\u001b[0m, in \u001b[0;36mf\u001b[1;34m(qty, item, price)\u001b[0m\n\u001b[0;32m      1\u001b[0m \u001b[38;5;28;01mdef\u001b[39;00m \u001b[38;5;21mf\u001b[39m(qty, item, price):\n\u001b[0;32m      2\u001b[0m     \u001b[38;5;28mprint\u001b[39m(\u001b[38;5;28mlocals\u001b[39m()) \u001b[38;5;66;03m# prints the function's namespace\u001b[39;00m\n\u001b[1;32m----> 3\u001b[0m     \u001b[38;5;28mprint\u001b[39m(\u001b[38;5;124mf\u001b[39m\u001b[38;5;124m'\u001b[39m\u001b[38;5;132;01m{\u001b[39;00mqty\u001b[38;5;132;01m}\u001b[39;00m\u001b[38;5;124m \u001b[39m\u001b[38;5;132;01m{\u001b[39;00mitem\u001b[38;5;132;01m}\u001b[39;00m\u001b[38;5;124ms cost $\u001b[39m\u001b[38;5;132;01m{\u001b[39;00mprice\u001b[38;5;241m*\u001b[39mqty\u001b[38;5;132;01m:\u001b[39;00m\u001b[38;5;124m.2f\u001b[39m\u001b[38;5;132;01m}\u001b[39;00m\u001b[38;5;124m'\u001b[39m)\n",
      "\u001b[1;31mTypeError\u001b[0m: can't multiply sequence by non-int of type 'float'"
     ]
    }
   ],
   "source": [
    "def f(qty, item, price):\n",
    "    print(locals()) # prints the function's namespace\n",
    "    print(f'{qty} {item}s cost ${price*qty:.2f}')\n",
    "f(0.25, 6, 'banana')"
   ]
  },
  {
   "cell_type": "markdown",
   "id": "4ebd7481",
   "metadata": {},
   "source": [
    "The arguments in the call and the parameters in the definition must agree not only in order but in number as well"
   ]
  },
  {
   "cell_type": "code",
   "execution_count": 19,
   "id": "9ae178fb",
   "metadata": {},
   "outputs": [
    {
     "ename": "TypeError",
     "evalue": "f() missing 1 required positional argument: 'price'",
     "output_type": "error",
     "traceback": [
      "\u001b[1;31m---------------------------------------------------------------------------\u001b[0m",
      "\u001b[1;31mTypeError\u001b[0m                                 Traceback (most recent call last)",
      "Input \u001b[1;32mIn [19]\u001b[0m, in \u001b[0;36m<cell line: 1>\u001b[1;34m()\u001b[0m\n\u001b[1;32m----> 1\u001b[0m \u001b[43mf\u001b[49m\u001b[43m(\u001b[49m\u001b[38;5;241;43m0.25\u001b[39;49m\u001b[43m,\u001b[49m\u001b[43m \u001b[49m\u001b[38;5;124;43m'\u001b[39;49m\u001b[38;5;124;43mbanana\u001b[39;49m\u001b[38;5;124;43m'\u001b[39;49m\u001b[43m)\u001b[49m\n",
      "\u001b[1;31mTypeError\u001b[0m: f() missing 1 required positional argument: 'price'"
     ]
    }
   ],
   "source": [
    "f(0.25, 'banana')"
   ]
  },
  {
   "cell_type": "markdown",
   "id": "39cace53",
   "metadata": {},
   "source": [
    "Nor can you specify extra ones:"
   ]
  },
  {
   "cell_type": "code",
   "execution_count": 20,
   "id": "860cf3c4",
   "metadata": {},
   "outputs": [
    {
     "ename": "TypeError",
     "evalue": "f() takes 3 positional arguments but 4 were given",
     "output_type": "error",
     "traceback": [
      "\u001b[1;31m---------------------------------------------------------------------------\u001b[0m",
      "\u001b[1;31mTypeError\u001b[0m                                 Traceback (most recent call last)",
      "Input \u001b[1;32mIn [20]\u001b[0m, in \u001b[0;36m<cell line: 1>\u001b[1;34m()\u001b[0m\n\u001b[1;32m----> 1\u001b[0m \u001b[43mf\u001b[49m\u001b[43m(\u001b[49m\u001b[38;5;241;43m6\u001b[39;49m\u001b[43m,\u001b[49m\u001b[43m \u001b[49m\u001b[38;5;124;43m'\u001b[39;49m\u001b[38;5;124;43mbananas\u001b[39;49m\u001b[38;5;124;43m'\u001b[39;49m\u001b[43m,\u001b[49m\u001b[43m \u001b[49m\u001b[38;5;241;43m1.74\u001b[39;49m\u001b[43m,\u001b[49m\u001b[43m \u001b[49m\u001b[38;5;124;43m'\u001b[39;49m\u001b[38;5;124;43mgrapes\u001b[39;49m\u001b[38;5;124;43m'\u001b[39;49m\u001b[43m)\u001b[49m\n",
      "\u001b[1;31mTypeError\u001b[0m: f() takes 3 positional arguments but 4 were given"
     ]
    }
   ],
   "source": [
    "f(6, 'bananas', 1.74, 'grapes')"
   ]
  },
  {
   "cell_type": "markdown",
   "id": "894da1bf",
   "metadata": {},
   "source": [
    "#### Keyword Arguments"
   ]
  },
  {
   "cell_type": "code",
   "execution_count": 21,
   "id": "2de8a43d",
   "metadata": {},
   "outputs": [],
   "source": [
    "def f(qty, item, price):\n",
    "    print(f'{qty} {item}s cost ${price*qty:.2f}')"
   ]
  },
  {
   "cell_type": "code",
   "execution_count": 22,
   "id": "ae63d174",
   "metadata": {},
   "outputs": [
    {
     "name": "stdout",
     "output_type": "stream",
     "text": [
      "6 bananass cost $1.50\n"
     ]
    }
   ],
   "source": [
    "f(qty=6, item='bananas', price=0.25)"
   ]
  },
  {
   "cell_type": "markdown",
   "id": "1c64dd48",
   "metadata": {},
   "source": [
    "Each `keyword` must match a parameter in the Python function definition. "
   ]
  },
  {
   "cell_type": "code",
   "execution_count": 23,
   "id": "aa820eb0",
   "metadata": {
    "scrolled": true
   },
   "outputs": [
    {
     "ename": "TypeError",
     "evalue": "f() got an unexpected keyword argument 'cost'",
     "output_type": "error",
     "traceback": [
      "\u001b[1;31m---------------------------------------------------------------------------\u001b[0m",
      "\u001b[1;31mTypeError\u001b[0m                                 Traceback (most recent call last)",
      "Input \u001b[1;32mIn [23]\u001b[0m, in \u001b[0;36m<cell line: 1>\u001b[1;34m()\u001b[0m\n\u001b[1;32m----> 1\u001b[0m \u001b[43mf\u001b[49m\u001b[43m(\u001b[49m\u001b[43mqty\u001b[49m\u001b[38;5;241;43m=\u001b[39;49m\u001b[38;5;241;43m6\u001b[39;49m\u001b[43m,\u001b[49m\u001b[43m \u001b[49m\u001b[43mitem\u001b[49m\u001b[38;5;241;43m=\u001b[39;49m\u001b[38;5;124;43m'\u001b[39;49m\u001b[38;5;124;43mbananas\u001b[39;49m\u001b[38;5;124;43m'\u001b[39;49m\u001b[43m,\u001b[49m\u001b[43m \u001b[49m\u001b[43mcost\u001b[49m\u001b[38;5;241;43m=\u001b[39;49m\u001b[38;5;241;43m0.25\u001b[39;49m\u001b[43m)\u001b[49m\n",
      "\u001b[1;31mTypeError\u001b[0m: f() got an unexpected keyword argument 'cost'"
     ]
    }
   ],
   "source": [
    "f(qty=6, item='bananas', cost=0.25)"
   ]
  },
  {
   "cell_type": "code",
   "execution_count": 24,
   "id": "af71717a",
   "metadata": {},
   "outputs": [
    {
     "name": "stdout",
     "output_type": "stream",
     "text": [
      "6 bananass cost $1.50\n"
     ]
    }
   ],
   "source": [
    "f(item='bananas', qty=6, price=0.25)"
   ]
  },
  {
   "cell_type": "markdown",
   "id": "8d44722d",
   "metadata": {},
   "source": [
    "#### Using both\n",
    "Keyword arguments must follow positional arguments"
   ]
  },
  {
   "cell_type": "code",
   "execution_count": 25,
   "id": "f42a565e",
   "metadata": {},
   "outputs": [
    {
     "name": "stdout",
     "output_type": "stream",
     "text": [
      "6 bananass cost $1.50\n"
     ]
    }
   ],
   "source": [
    "f(6, 'bananas', price=0.25)"
   ]
  },
  {
   "cell_type": "code",
   "execution_count": 26,
   "id": "13ca5879",
   "metadata": {},
   "outputs": [
    {
     "ename": "SyntaxError",
     "evalue": "positional argument follows keyword argument (1662042392.py, line 1)",
     "output_type": "error",
     "traceback": [
      "\u001b[1;36m  Input \u001b[1;32mIn [26]\u001b[1;36m\u001b[0m\n\u001b[1;33m    f(6, price=0.25, 'bananas')\u001b[0m\n\u001b[1;37m                              ^\u001b[0m\n\u001b[1;31mSyntaxError\u001b[0m\u001b[1;31m:\u001b[0m positional argument follows keyword argument\n"
     ]
    }
   ],
   "source": [
    "f(6, price=0.25, 'bananas')"
   ]
  },
  {
   "cell_type": "markdown",
   "id": "45d5e822",
   "metadata": {},
   "source": [
    "No argument may receive a value more than once"
   ]
  },
  {
   "cell_type": "code",
   "execution_count": 27,
   "id": "dc0d57d7",
   "metadata": {},
   "outputs": [
    {
     "ename": "TypeError",
     "evalue": "f() got multiple values for argument 'item'",
     "output_type": "error",
     "traceback": [
      "\u001b[1;31m---------------------------------------------------------------------------\u001b[0m",
      "\u001b[1;31mTypeError\u001b[0m                                 Traceback (most recent call last)",
      "Input \u001b[1;32mIn [27]\u001b[0m, in \u001b[0;36m<cell line: 2>\u001b[1;34m()\u001b[0m\n\u001b[0;32m      1\u001b[0m fruit \u001b[38;5;241m=\u001b[39m \u001b[38;5;124m'\u001b[39m\u001b[38;5;124mapple\u001b[39m\u001b[38;5;124m'\u001b[39m\n\u001b[1;32m----> 2\u001b[0m \u001b[43mf\u001b[49m\u001b[43m(\u001b[49m\u001b[38;5;241;43m6\u001b[39;49m\u001b[43m,\u001b[49m\u001b[43m \u001b[49m\u001b[43mfruit\u001b[49m\u001b[43m,\u001b[49m\u001b[43m \u001b[49m\u001b[43mitem\u001b[49m\u001b[43m \u001b[49m\u001b[38;5;241;43m=\u001b[39;49m\u001b[43m \u001b[49m\u001b[38;5;124;43m'\u001b[39;49m\u001b[38;5;124;43mbananas\u001b[39;49m\u001b[38;5;124;43m'\u001b[39;49m\u001b[43m)\u001b[49m\n",
      "\u001b[1;31mTypeError\u001b[0m: f() got multiple values for argument 'item'"
     ]
    }
   ],
   "source": [
    "fruit = 'apple'\n",
    "f(6, fruit, item = 'bananas')"
   ]
  },
  {
   "cell_type": "markdown",
   "id": "08f2d817",
   "metadata": {},
   "source": [
    "## Default Parameters"
   ]
  },
  {
   "cell_type": "code",
   "execution_count": 28,
   "id": "933c1ebf",
   "metadata": {},
   "outputs": [],
   "source": [
    "def raise_to_power(num, power=2):\n",
    "    print(num**power)"
   ]
  },
  {
   "cell_type": "code",
   "execution_count": 29,
   "id": "c8144377",
   "metadata": {},
   "outputs": [
    {
     "name": "stdout",
     "output_type": "stream",
     "text": [
      "4\n"
     ]
    }
   ],
   "source": [
    "raise_to_power(2)"
   ]
  },
  {
   "cell_type": "code",
   "execution_count": 30,
   "id": "f12f04b0",
   "metadata": {},
   "outputs": [
    {
     "name": "stdout",
     "output_type": "stream",
     "text": [
      "8\n"
     ]
    }
   ],
   "source": [
    "raise_to_power(2, 3)"
   ]
  },
  {
   "cell_type": "code",
   "execution_count": 31,
   "id": "a265a5ed",
   "metadata": {},
   "outputs": [
    {
     "name": "stdout",
     "output_type": "stream",
     "text": [
      "8\n"
     ]
    }
   ],
   "source": [
    "raise_to_power(num=2, power=3)"
   ]
  },
  {
   "cell_type": "code",
   "execution_count": 32,
   "id": "241df5c5",
   "metadata": {},
   "outputs": [
    {
     "name": "stdout",
     "output_type": "stream",
     "text": [
      "8\n"
     ]
    }
   ],
   "source": [
    "raise_to_power(power=3, num=2)"
   ]
  },
  {
   "cell_type": "code",
   "execution_count": 33,
   "id": "34ed8086",
   "metadata": {
    "scrolled": false
   },
   "outputs": [
    {
     "name": "stdout",
     "output_type": "stream",
     "text": [
      "9\n"
     ]
    }
   ],
   "source": [
    "raise_to_power(3, 2)"
   ]
  },
  {
   "cell_type": "markdown",
   "id": "d958118c",
   "metadata": {},
   "source": [
    "## Mutable Default Parameter Values"
   ]
  },
  {
   "cell_type": "code",
   "execution_count": 34,
   "id": "252252d2",
   "metadata": {},
   "outputs": [],
   "source": [
    "def f(a, my_list = []):\n",
    "    my_list.append(a)\n",
    "    return my_list"
   ]
  },
  {
   "cell_type": "code",
   "execution_count": 35,
   "id": "6d79f771",
   "metadata": {},
   "outputs": [
    {
     "data": {
      "text/plain": [
       "[2]"
      ]
     },
     "execution_count": 35,
     "metadata": {},
     "output_type": "execute_result"
    }
   ],
   "source": [
    "f(2)"
   ]
  },
  {
   "cell_type": "code",
   "execution_count": 36,
   "id": "606dad0d",
   "metadata": {},
   "outputs": [
    {
     "data": {
      "text/plain": [
       "[2, 3]"
      ]
     },
     "execution_count": 36,
     "metadata": {},
     "output_type": "execute_result"
    }
   ],
   "source": [
    "f(3)"
   ]
  },
  {
   "cell_type": "code",
   "execution_count": 37,
   "id": "5bc49834",
   "metadata": {},
   "outputs": [
    {
     "data": {
      "text/plain": [
       "[2, 3, 4]"
      ]
     },
     "execution_count": 37,
     "metadata": {},
     "output_type": "execute_result"
    }
   ],
   "source": [
    "f(4)"
   ]
  },
  {
   "cell_type": "code",
   "execution_count": 38,
   "id": "ae92cd02",
   "metadata": {},
   "outputs": [
    {
     "name": "stdout",
     "output_type": "stream",
     "text": [
      "1995222315392\n",
      "[2]\n",
      "\n",
      "1995222315392\n",
      "[2, 3]\n",
      "\n",
      "1995222315392\n",
      "[2, 3, 4]\n",
      "\n"
     ]
    }
   ],
   "source": [
    "def f(a, my_list = []):\n",
    "    print(id(my_list))\n",
    "    my_list.append(a)\n",
    "    print(my_list)\n",
    "    print()\n",
    "    \n",
    "f(2)\n",
    "f(3)\n",
    "f(4)"
   ]
  },
  {
   "cell_type": "markdown",
   "id": "338ab797",
   "metadata": {},
   "source": [
    "#### Mutable Default Parameter Values - The correct way"
   ]
  },
  {
   "cell_type": "markdown",
   "id": "ff19ff28",
   "metadata": {},
   "source": [
    "https://pythontutor.com/visualize.html#mode=edit"
   ]
  },
  {
   "cell_type": "code",
   "execution_count": 39,
   "id": "4b5c1144",
   "metadata": {},
   "outputs": [
    {
     "name": "stdout",
     "output_type": "stream",
     "text": [
      "[2]\n",
      "[3]\n",
      "[4]\n"
     ]
    }
   ],
   "source": [
    "def f(a, my_list = None):\n",
    "    if my_list is None:\n",
    "        my_list = []\n",
    "    my_list.append(a)\n",
    "    print(my_list)\n",
    "    \n",
    "f(2)\n",
    "f(3)\n",
    "f(4)"
   ]
  },
  {
   "cell_type": "markdown",
   "id": "3dd986a9",
   "metadata": {},
   "source": [
    "## Passing by what?"
   ]
  },
  {
   "cell_type": "markdown",
   "id": "1b8c1f87",
   "metadata": {},
   "source": [
    "Python passes values by assignment. If you understand assignment, you understand arguments passing."
   ]
  },
  {
   "cell_type": "code",
   "execution_count": 40,
   "id": "131e392e",
   "metadata": {},
   "outputs": [
    {
     "name": "stdout",
     "output_type": "stream",
     "text": [
      "1995113300560\n",
      "y references object @: 1995113300560\n",
      "y references object @: 1995113300720\n"
     ]
    }
   ],
   "source": [
    "x = 12\n",
    "\n",
    "def f(y):    \n",
    "    print(f'y references object @: {id(y)}')\n",
    "    y = y + 5 \n",
    "    print(f'y references object @: {id(y)}')\n",
    "\n",
    "print(id(x))\n",
    "f(x)"
   ]
  },
  {
   "cell_type": "code",
   "execution_count": 41,
   "id": "7c167d52",
   "metadata": {},
   "outputs": [
    {
     "name": "stdout",
     "output_type": "stream",
     "text": [
      "1995222316288\n",
      "y references: 1995222316288\n",
      "y references: 1995222316288\n"
     ]
    },
    {
     "data": {
      "text/plain": [
       "[44, 10, 8, 4]"
      ]
     },
     "execution_count": 41,
     "metadata": {},
     "output_type": "execute_result"
    }
   ],
   "source": [
    "x = [12, 10, 8, 4]\n",
    "\n",
    "def f(y):    \n",
    "    print(f'y references: {id(y)}')\n",
    "    y[0] = 44 \n",
    "    print(f'y references: {id(y)}')\n",
    "    \n",
    "print(id(x))\n",
    "f(x)\n",
    "x"
   ]
  },
  {
   "cell_type": "markdown",
   "id": "15758272",
   "metadata": {},
   "source": [
    "The only difference here is that a list is mutable whereas an integer is not."
   ]
  },
  {
   "cell_type": "code",
   "execution_count": 42,
   "id": "c1445ffb",
   "metadata": {},
   "outputs": [
    {
     "data": {
      "text/plain": [
       "['foo', 'bar', 'baz', 'qux']"
      ]
     },
     "execution_count": 42,
     "metadata": {},
     "output_type": "execute_result"
    }
   ],
   "source": [
    "def f(x):\n",
    "    x = 'foo'\n",
    "\n",
    "my_list = ['foo', 'bar', 'baz', 'qux']\n",
    "f(my_list)\n",
    "my_list"
   ]
  },
  {
   "cell_type": "markdown",
   "id": "76b81d46",
   "metadata": {},
   "source": [
    "## Side Effects"
   ]
  },
  {
   "cell_type": "markdown",
   "id": "75d92b2b",
   "metadata": {},
   "source": [
    "A function that causes change in the calling environment."
   ]
  },
  {
   "cell_type": "code",
   "execution_count": 43,
   "id": "553cd31b",
   "metadata": {},
   "outputs": [],
   "source": [
    "def double_list(x):\n",
    "    for i, n in enumerate(x):\n",
    "        x[i] = n*2"
   ]
  },
  {
   "cell_type": "code",
   "execution_count": 44,
   "id": "08db4d5c",
   "metadata": {},
   "outputs": [
    {
     "data": {
      "text/plain": [
       "[2, 4, 6, 8, 10]"
      ]
     },
     "execution_count": 44,
     "metadata": {},
     "output_type": "execute_result"
    }
   ],
   "source": [
    "x = [1,2,3,4,5]\n",
    "double_list(x)\n",
    "x"
   ]
  },
  {
   "cell_type": "code",
   "execution_count": 45,
   "id": "997e276f",
   "metadata": {},
   "outputs": [
    {
     "data": {
      "text/plain": [
       "[1, 2, 3, 4, 5]"
      ]
     },
     "execution_count": 45,
     "metadata": {},
     "output_type": "execute_result"
    }
   ],
   "source": [
    "def double_list(x):\n",
    "    r = []\n",
    "    for n in x:\n",
    "        r.append(n*2)\n",
    "        \n",
    "    return r\n",
    "\n",
    "x = [1,2,3,4,5]\n",
    "double_list(x)\n",
    "x"
   ]
  },
  {
   "cell_type": "code",
   "execution_count": 46,
   "id": "dc152765",
   "metadata": {},
   "outputs": [
    {
     "data": {
      "text/plain": [
       "[2, 4, 6, 8, 10]"
      ]
     },
     "execution_count": 46,
     "metadata": {},
     "output_type": "execute_result"
    }
   ],
   "source": [
    "x = double_list(x)\n",
    "x"
   ]
  },
  {
   "cell_type": "markdown",
   "id": "1f009d4c",
   "metadata": {},
   "source": [
    "## The `return` Statement"
   ]
  },
  {
   "cell_type": "markdown",
   "id": "3ae3170e",
   "metadata": {},
   "source": [
    "```def <function_name>([<parameters>]):\n",
    "    <statement(s)>\n",
    "    return <something if you wish>```"
   ]
  },
  {
   "cell_type": "markdown",
   "id": "abc9c310",
   "metadata": {},
   "source": [
    "Serves two purposes:\n",
    "\n",
    "1. It immediately terminates the function and passes execution control back to the caller.\n",
    "1. It provides a mechanism by which the function can pass data back to the caller"
   ]
  },
  {
   "cell_type": "code",
   "execution_count": 47,
   "id": "009eeae3",
   "metadata": {},
   "outputs": [],
   "source": [
    "def raise_to_power3(num):\n",
    "    num = num**3"
   ]
  },
  {
   "cell_type": "code",
   "execution_count": 48,
   "id": "5afe4cd6",
   "metadata": {},
   "outputs": [],
   "source": [
    "my_number = 4\n",
    "my_number_cubed = raise_to_power3(my_number)\n",
    "my_number_cubed"
   ]
  },
  {
   "cell_type": "code",
   "execution_count": 49,
   "id": "71276529",
   "metadata": {},
   "outputs": [
    {
     "name": "stdout",
     "output_type": "stream",
     "text": [
      "None\n"
     ]
    }
   ],
   "source": [
    "print(my_number_cubed)"
   ]
  },
  {
   "cell_type": "code",
   "execution_count": 50,
   "id": "56febc42",
   "metadata": {},
   "outputs": [
    {
     "data": {
      "text/plain": [
       "64"
      ]
     },
     "execution_count": 50,
     "metadata": {},
     "output_type": "execute_result"
    }
   ],
   "source": [
    "def raise_to_power3(num):\n",
    "    num = num**3\n",
    "    return num\n",
    "\n",
    "my_number_cubed = raise_to_power3(my_number)\n",
    "my_number_cubed"
   ]
  },
  {
   "cell_type": "code",
   "execution_count": 51,
   "id": "34ab849b",
   "metadata": {},
   "outputs": [
    {
     "data": {
      "text/plain": [
       "64"
      ]
     },
     "execution_count": 51,
     "metadata": {},
     "output_type": "execute_result"
    }
   ],
   "source": [
    "def raise_to_power3(num):\n",
    "    return num**3\n",
    "\n",
    "my_number_cubed = raise_to_power3(my_number)\n",
    "my_number_cubed"
   ]
  },
  {
   "cell_type": "code",
   "execution_count": 52,
   "id": "94d4bf1a",
   "metadata": {},
   "outputs": [],
   "source": [
    "def f(x):\n",
    "    if x < 0:\n",
    "        print('x is negative!')\n",
    "        return abs(x)\n",
    "    \n",
    "    if x > 0:\n",
    "        print('x is positive')\n",
    "        return\n",
    "    \n",
    "    print('I am here at the bottom')"
   ]
  },
  {
   "cell_type": "code",
   "execution_count": 53,
   "id": "3cb2f309",
   "metadata": {},
   "outputs": [
    {
     "name": "stdout",
     "output_type": "stream",
     "text": [
      "x is positive\n"
     ]
    }
   ],
   "source": [
    "f(12)"
   ]
  },
  {
   "cell_type": "code",
   "execution_count": 54,
   "id": "54154924",
   "metadata": {},
   "outputs": [
    {
     "name": "stdout",
     "output_type": "stream",
     "text": [
      "x is negative!\n"
     ]
    },
    {
     "data": {
      "text/plain": [
       "10"
      ]
     },
     "execution_count": 54,
     "metadata": {},
     "output_type": "execute_result"
    }
   ],
   "source": [
    "f(-10)"
   ]
  },
  {
   "cell_type": "markdown",
   "id": "58657717",
   "metadata": {},
   "source": [
    "## Multiple return values"
   ]
  },
  {
   "cell_type": "code",
   "execution_count": 55,
   "id": "ffafbe77",
   "metadata": {},
   "outputs": [],
   "source": [
    "def f():\n",
    "    return ('foo', 'bar', 'baz', 'qux')"
   ]
  },
  {
   "cell_type": "code",
   "execution_count": 56,
   "id": "df4d617d",
   "metadata": {},
   "outputs": [],
   "source": [
    "a = f()"
   ]
  },
  {
   "cell_type": "code",
   "execution_count": 57,
   "id": "f8c97bad",
   "metadata": {},
   "outputs": [
    {
     "data": {
      "text/plain": [
       "('foo', 'bar', 'baz', 'qux')"
      ]
     },
     "execution_count": 57,
     "metadata": {},
     "output_type": "execute_result"
    }
   ],
   "source": [
    "a"
   ]
  }
 ],
 "metadata": {
  "kernelspec": {
   "display_name": "LR",
   "language": "python",
   "name": "lr"
  },
  "language_info": {
   "codemirror_mode": {
    "name": "ipython",
    "version": 3
   },
   "file_extension": ".py",
   "mimetype": "text/x-python",
   "name": "python",
   "nbconvert_exporter": "python",
   "pygments_lexer": "ipython3",
   "version": "3.10.2"
  }
 },
 "nbformat": 4,
 "nbformat_minor": 5
}
