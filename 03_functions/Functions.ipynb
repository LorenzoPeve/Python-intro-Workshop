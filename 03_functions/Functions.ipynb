{
 "cells": [
  {
   "cell_type": "markdown",
   "id": "8e738480",
   "metadata": {},
   "source": [
    "## What is a function?"
   ]
  },
  {
   "cell_type": "markdown",
   "id": "32ea9205",
   "metadata": {},
   "source": [
    "Self-contained block of code that encapsulates a specific task or related group of tasks"
   ]
  },
  {
   "cell_type": "markdown",
   "id": "7f1ac782",
   "metadata": {},
   "source": [
    "## Why bother defining function?"
   ]
  },
  {
   "attachments": {},
   "cell_type": "markdown",
   "id": "b59eea3e",
   "metadata": {},
   "source": [
    "* Reusability (silly exmaple witha  list\n",
    "* Abstraction (HTTP Reques)\n",
    "* Modularity (example of Brewer)\n",
    "* Namespace Separation"
   ]
  },
  {
   "cell_type": "code",
   "execution_count": null,
   "id": "352a9ad0",
   "metadata": {},
   "outputs": [],
   "source": []
  },
  {
   "cell_type": "code",
   "execution_count": 10,
   "id": "6b2b4b36",
   "metadata": {},
   "outputs": [
    {
     "data": {
      "text/plain": [
       "[11, 12, 13, 14]"
      ]
     },
     "execution_count": 10,
     "metadata": {},
     "output_type": "execute_result"
    }
   ],
   "source": [
    "delta = 45\n",
    "\n",
    "def add_delta(nums, delta):\n",
    "    \n",
    "    for i, num in enumerate(nums):\n",
    "        nums[i] = nums[i] + delta\n",
    "    \n",
    "\n",
    "nums = [1,2,3,4]\n",
    "my_first_function(nums, 10)\n",
    "nums"
   ]
  },
  {
   "cell_type": "code",
   "execution_count": null,
   "id": "758aa16a",
   "metadata": {},
   "outputs": [],
   "source": []
  },
  {
   "cell_type": "markdown",
   "id": "da27bafb",
   "metadata": {},
   "source": [
    "## Function Calls and Definition"
   ]
  },
  {
   "cell_type": "markdown",
   "id": "130615e3",
   "metadata": {},
   "source": [
    "```def <function_name>([<parameters>]):\n",
    "    <statement(s)>```"
   ]
  },
  {
   "cell_type": "code",
   "execution_count": 18,
   "id": "6e309d5d",
   "metadata": {},
   "outputs": [],
   "source": [
    "weird_string = \"\"\"Here   is   a   string   with   too234much space and234numbers\"\"\"\n",
    "\n",
    "import re\n",
    "import datetime\n",
    "\n",
    "def clean_phrase(phrase):\n",
    "\n",
    "    phrase = phrase.replace('234', ' ')\n",
    "    phrase = phrase.replace('   ', ' ')\n",
    "    \n",
    "    return phrase\n",
    "    "
   ]
  },
  {
   "cell_type": "code",
   "execution_count": 17,
   "id": "68628bf2",
   "metadata": {},
   "outputs": [
    {
     "data": {
      "text/plain": [
       "'Here is a string with too much space and numbers'"
      ]
     },
     "execution_count": 17,
     "metadata": {},
     "output_type": "execute_result"
    }
   ],
   "source": [
    "clean_phrase(weird_string)"
   ]
  },
  {
   "cell_type": "markdown",
   "id": "ebb0c287",
   "metadata": {},
   "source": [
    "#### Parameters are optional"
   ]
  },
  {
   "cell_type": "code",
   "execution_count": 23,
   "id": "384e70b3",
   "metadata": {},
   "outputs": [],
   "source": [
    "def print_todays_date():\n",
    "    print(datetime.datetime.now().date())"
   ]
  },
  {
   "cell_type": "code",
   "execution_count": 24,
   "id": "cc4fc4e0",
   "metadata": {},
   "outputs": [
    {
     "name": "stdout",
     "output_type": "stream",
     "text": [
      "2022-11-15\n"
     ]
    }
   ],
   "source": [
    "print_time_now()"
   ]
  },
  {
   "cell_type": "markdown",
   "id": "c34d267b",
   "metadata": {},
   "source": [
    "#### A temporary placeholder"
   ]
  },
  {
   "cell_type": "code",
   "execution_count": 25,
   "id": "07208c13",
   "metadata": {},
   "outputs": [],
   "source": [
    "def f():\n",
    "    pass"
   ]
  },
  {
   "cell_type": "markdown",
   "id": "bed09bde",
   "metadata": {},
   "source": [
    "## Argument Passing"
   ]
  },
  {
   "cell_type": "markdown",
   "id": "afb5a1c7",
   "metadata": {},
   "source": [
    "#### Positional Arguments\n",
    "The most straightforward way to pass data to a function, but they also afford the least flexibility\n",
    "* Order must be matched\n",
    "* Number of arguments must be matched"
   ]
  },
  {
   "cell_type": "code",
   "execution_count": 33,
   "id": "1184bf0f",
   "metadata": {},
   "outputs": [],
   "source": [
    "def f(qty, item, price):\n",
    "    print(f'{qty} {item}s cost ${price*qty:.2f}')"
   ]
  },
  {
   "cell_type": "code",
   "execution_count": 34,
   "id": "f26470d8",
   "metadata": {},
   "outputs": [
    {
     "name": "stdout",
     "output_type": "stream",
     "text": [
      "{'qty': 6, 'item': 'banana', 'price': 0.25}\n",
      "6 bananas cost $1.50\n"
     ]
    }
   ],
   "source": [
    "f(6, 'banana', 0.25)"
   ]
  },
  {
   "cell_type": "code",
   "execution_count": 35,
   "id": "013f58ae",
   "metadata": {},
   "outputs": [
    {
     "name": "stdout",
     "output_type": "stream",
     "text": [
      "{'qty': 0.25, 'item': 'banana', 'price': 6}\n",
      "0.25 bananas cost $1.50\n"
     ]
    }
   ],
   "source": [
    "f(0.25, 'banana', 6)"
   ]
  },
  {
   "cell_type": "markdown",
   "id": "34d07b0b",
   "metadata": {},
   "source": [
    "The order of the arguments in the call must match the order of the parameters in the definition"
   ]
  },
  {
   "cell_type": "code",
   "execution_count": 36,
   "id": "a7ab5ca4",
   "metadata": {},
   "outputs": [
    {
     "name": "stdout",
     "output_type": "stream",
     "text": [
      "{'qty': 0.25, 'item': 6, 'price': 'banana'}\n"
     ]
    },
    {
     "ename": "TypeError",
     "evalue": "can't multiply sequence by non-int of type 'float'",
     "output_type": "error",
     "traceback": [
      "\u001b[1;31m---------------------------------------------------------------------------\u001b[0m",
      "\u001b[1;31mTypeError\u001b[0m                                 Traceback (most recent call last)",
      "Input \u001b[1;32mIn [36]\u001b[0m, in \u001b[0;36m<cell line: 1>\u001b[1;34m()\u001b[0m\n\u001b[1;32m----> 1\u001b[0m \u001b[43mf\u001b[49m\u001b[43m(\u001b[49m\u001b[38;5;241;43m0.25\u001b[39;49m\u001b[43m,\u001b[49m\u001b[43m \u001b[49m\u001b[38;5;241;43m6\u001b[39;49m\u001b[43m,\u001b[49m\u001b[43m \u001b[49m\u001b[38;5;124;43m'\u001b[39;49m\u001b[38;5;124;43mbanana\u001b[39;49m\u001b[38;5;124;43m'\u001b[39;49m\u001b[43m)\u001b[49m\n",
      "Input \u001b[1;32mIn [33]\u001b[0m, in \u001b[0;36mf\u001b[1;34m(qty, item, price)\u001b[0m\n\u001b[0;32m      1\u001b[0m \u001b[38;5;28;01mdef\u001b[39;00m \u001b[38;5;21mf\u001b[39m(qty, item, price):\n\u001b[0;32m      2\u001b[0m     \u001b[38;5;28mprint\u001b[39m(\u001b[38;5;28mlocals\u001b[39m())\n\u001b[1;32m----> 3\u001b[0m     \u001b[38;5;28mprint\u001b[39m(\u001b[38;5;124mf\u001b[39m\u001b[38;5;124m'\u001b[39m\u001b[38;5;132;01m{\u001b[39;00mqty\u001b[38;5;132;01m}\u001b[39;00m\u001b[38;5;124m \u001b[39m\u001b[38;5;132;01m{\u001b[39;00mitem\u001b[38;5;132;01m}\u001b[39;00m\u001b[38;5;124ms cost $\u001b[39m\u001b[38;5;132;01m{\u001b[39;00mprice\u001b[38;5;241m*\u001b[39mqty\u001b[38;5;132;01m:\u001b[39;00m\u001b[38;5;124m.2f\u001b[39m\u001b[38;5;132;01m}\u001b[39;00m\u001b[38;5;124m'\u001b[39m)\n",
      "\u001b[1;31mTypeError\u001b[0m: can't multiply sequence by non-int of type 'float'"
     ]
    }
   ],
   "source": [
    "def f(qty, item, price):\n",
    "    print(locals()) # prints the function's namespace\n",
    "    print(f'{qty} {item}s cost ${price*qty:.2f}')\n",
    "f(0.25, 6, 'banana')"
   ]
  },
  {
   "cell_type": "markdown",
   "id": "af4e3b0a",
   "metadata": {},
   "source": [
    "The arguments in the call and the parameters in the definition must agree not only in order but in number as well"
   ]
  },
  {
   "cell_type": "code",
   "execution_count": 38,
   "id": "84c702c9",
   "metadata": {},
   "outputs": [
    {
     "ename": "TypeError",
     "evalue": "f() missing 1 required positional argument: 'price'",
     "output_type": "error",
     "traceback": [
      "\u001b[1;31m---------------------------------------------------------------------------\u001b[0m",
      "\u001b[1;31mTypeError\u001b[0m                                 Traceback (most recent call last)",
      "Input \u001b[1;32mIn [38]\u001b[0m, in \u001b[0;36m<cell line: 1>\u001b[1;34m()\u001b[0m\n\u001b[1;32m----> 1\u001b[0m \u001b[43mf\u001b[49m\u001b[43m(\u001b[49m\u001b[38;5;241;43m0.25\u001b[39;49m\u001b[43m,\u001b[49m\u001b[43m \u001b[49m\u001b[38;5;124;43m'\u001b[39;49m\u001b[38;5;124;43mbanana\u001b[39;49m\u001b[38;5;124;43m'\u001b[39;49m\u001b[43m)\u001b[49m\n",
      "\u001b[1;31mTypeError\u001b[0m: f() missing 1 required positional argument: 'price'"
     ]
    }
   ],
   "source": [
    "f(0.25, 'banana')"
   ]
  },
  {
   "cell_type": "code",
   "execution_count": null,
   "id": "75acc735",
   "metadata": {},
   "outputs": [],
   "source": []
  }
 ],
 "metadata": {
  "kernelspec": {
   "display_name": "LR",
   "language": "python",
   "name": "lr"
  },
  "language_info": {
   "codemirror_mode": {
    "name": "ipython",
    "version": 3
   },
   "file_extension": ".py",
   "mimetype": "text/x-python",
   "name": "python",
   "nbconvert_exporter": "python",
   "pygments_lexer": "ipython3",
   "version": "3.10.2"
  }
 },
 "nbformat": 4,
 "nbformat_minor": 5
}
