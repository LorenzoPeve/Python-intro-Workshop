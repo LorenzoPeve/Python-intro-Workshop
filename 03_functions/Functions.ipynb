{
 "cells": [
  {
   "cell_type": "markdown",
   "id": "b1e8c160",
   "metadata": {},
   "source": [
    "## What is a function?"
   ]
  },
  {
   "cell_type": "markdown",
   "id": "0142f1f4",
   "metadata": {},
   "source": [
    "Self-contained block of code that encapsulates a specific task or related group of tasks"
   ]
  },
  {
   "cell_type": "markdown",
   "id": "28d2542a",
   "metadata": {},
   "source": [
    "## Why bother defining function?"
   ]
  },
  {
   "attachments": {},
   "cell_type": "markdown",
   "id": "b81a3bde",
   "metadata": {},
   "source": [
    "* Reusability (silly exmaple witha  list\n",
    "* Abstraction (HTTP Reques)\n",
    "* Modularity (example of Brewer)"
   ]
  }
 ],
 "metadata": {
  "kernelspec": {
   "display_name": "LR",
   "language": "python",
   "name": "lr"
  },
  "language_info": {
   "codemirror_mode": {
    "name": "ipython",
    "version": 3
   },
   "file_extension": ".py",
   "mimetype": "text/x-python",
   "name": "python",
   "nbconvert_exporter": "python",
   "pygments_lexer": "ipython3",
   "version": "3.10.2"
  }
 },
 "nbformat": 4,
 "nbformat_minor": 5
}
