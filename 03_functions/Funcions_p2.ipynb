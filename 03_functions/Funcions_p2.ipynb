{
 "cells": [
  {
   "cell_type": "markdown",
   "id": "1001eeca",
   "metadata": {},
   "source": [
    "## Functions Part II"
   ]
  },
  {
   "cell_type": "markdown",
   "id": "5a3e1d75",
   "metadata": {},
   "source": [
    "Last session we covered the following topics related to functions:\n",
    "* Why use functions?\n",
    "* Syntax and Function calls\n",
    "* Argument Passing\n",
    " * Positional Arguments\n",
    " * Keyword Arguments\n",
    " * Default Arguments (with emphasis on Mutable Default Arguments)\n",
    "* Passing by reference\n",
    "* Side Effects\n",
    "* The return statement"
   ]
  },
  {
   "cell_type": "markdown",
   "id": "73abfc17",
   "metadata": {},
   "source": [
    "## 1.0 Variable-Length Argument Lists"
   ]
  },
  {
   "cell_type": "markdown",
   "id": "d99ef764",
   "metadata": {},
   "source": [
    "Motivating example"
   ]
  },
  {
   "cell_type": "code",
   "execution_count": 1,
   "id": "dd7c3720",
   "metadata": {},
   "outputs": [],
   "source": [
    "def avg(a, b, c):\n",
    "    return (a + b + c) / 3"
   ]
  },
  {
   "cell_type": "code",
   "execution_count": 2,
   "id": "a7fa5c7f",
   "metadata": {},
   "outputs": [
    {
     "data": {
      "text/plain": [
       "2.0"
      ]
     },
     "execution_count": 2,
     "metadata": {},
     "output_type": "execute_result"
    }
   ],
   "source": [
    "avg(1, 2, 3)"
   ]
  },
  {
   "cell_type": "code",
   "execution_count": 3,
   "id": "e1af0288",
   "metadata": {},
   "outputs": [
    {
     "ename": "TypeError",
     "evalue": "avg() takes 3 positional arguments but 4 were given",
     "output_type": "error",
     "traceback": [
      "\u001b[1;31m---------------------------------------------------------------------------\u001b[0m",
      "\u001b[1;31mTypeError\u001b[0m                                 Traceback (most recent call last)",
      "Input \u001b[1;32mIn [3]\u001b[0m, in \u001b[0;36m<cell line: 1>\u001b[1;34m()\u001b[0m\n\u001b[1;32m----> 1\u001b[0m \u001b[43mavg\u001b[49m\u001b[43m(\u001b[49m\u001b[38;5;241;43m1\u001b[39;49m\u001b[43m,\u001b[49m\u001b[43m \u001b[49m\u001b[38;5;241;43m2\u001b[39;49m\u001b[43m,\u001b[49m\u001b[43m \u001b[49m\u001b[38;5;241;43m3\u001b[39;49m\u001b[43m,\u001b[49m\u001b[43m \u001b[49m\u001b[38;5;241;43m4\u001b[39;49m\u001b[43m)\u001b[49m\n",
      "\u001b[1;31mTypeError\u001b[0m: avg() takes 3 positional arguments but 4 were given"
     ]
    }
   ],
   "source": [
    "avg(1, 2, 3, 4)"
   ]
  },
  {
   "cell_type": "code",
   "execution_count": 4,
   "id": "5116d875",
   "metadata": {},
   "outputs": [],
   "source": [
    "def avg(a, b=0, c=0, d=0, e=0): # \n",
    "    pass"
   ]
  },
  {
   "cell_type": "code",
   "execution_count": 5,
   "id": "ce6b7034",
   "metadata": {},
   "outputs": [
    {
     "data": {
      "text/plain": [
       "3.5"
      ]
     },
     "execution_count": 5,
     "metadata": {},
     "output_type": "execute_result"
    }
   ],
   "source": [
    "def avg(a):\n",
    "    total = 0\n",
    "    for v in a:\n",
    "        total += v\n",
    "    return total / len(a)\n",
    "\n",
    "avg([1,2,3,4,5,6])"
   ]
  },
  {
   "cell_type": "markdown",
   "id": "912be23d",
   "metadata": {},
   "source": [
    "### Argument Tuple Packing with `*args`"
   ]
  },
  {
   "cell_type": "markdown",
   "id": "bca7ec90",
   "metadata": {},
   "source": [
    "With `*args` the positional arguments **beyond** the formal parameter list are **packed** into a tuple."
   ]
  },
  {
   "cell_type": "code",
   "execution_count": 6,
   "id": "938055e7",
   "metadata": {},
   "outputs": [],
   "source": [
    "def f(*args):\n",
    "    print(args)\n",
    "    print(type(args), len(args))\n",
    "    \n",
    "    for x in args:\n",
    "        print(x)"
   ]
  },
  {
   "cell_type": "code",
   "execution_count": 7,
   "id": "7ca09827",
   "metadata": {},
   "outputs": [
    {
     "name": "stdout",
     "output_type": "stream",
     "text": [
      "(1, 2, 3)\n",
      "<class 'tuple'> 3\n",
      "1\n",
      "2\n",
      "3\n"
     ]
    }
   ],
   "source": [
    "f(1, 2, 3)"
   ]
  },
  {
   "cell_type": "markdown",
   "id": "c831576d",
   "metadata": {},
   "source": [
    "It can be any word but `*args` is the convention"
   ]
  },
  {
   "cell_type": "code",
   "execution_count": 8,
   "id": "58e42718",
   "metadata": {},
   "outputs": [],
   "source": [
    "def f(*anyword):\n",
    "    print(anyword)\n",
    "    print(type(anyword), len(anyword))"
   ]
  },
  {
   "cell_type": "code",
   "execution_count": 9,
   "id": "d64643f7",
   "metadata": {},
   "outputs": [],
   "source": [
    "def avg(*args):\n",
    "    return sum(args) / len(args)"
   ]
  },
  {
   "cell_type": "code",
   "execution_count": 10,
   "id": "7ff83d28",
   "metadata": {},
   "outputs": [
    {
     "data": {
      "text/plain": [
       "2.0"
      ]
     },
     "execution_count": 10,
     "metadata": {},
     "output_type": "execute_result"
    }
   ],
   "source": [
    "avg(1, 2, 3)"
   ]
  },
  {
   "cell_type": "code",
   "execution_count": 11,
   "id": "2e096e92",
   "metadata": {
    "scrolled": true
   },
   "outputs": [
    {
     "data": {
      "text/plain": [
       "3.0"
      ]
     },
     "execution_count": 11,
     "metadata": {},
     "output_type": "execute_result"
    }
   ],
   "source": [
    "avg(1, 2, 3, 4, 5)"
   ]
  },
  {
   "cell_type": "markdown",
   "id": "e9f26b6e",
   "metadata": {},
   "source": [
    "### Argument Tuple Unpacking"
   ]
  },
  {
   "cell_type": "markdown",
   "id": "b1f281eb",
   "metadata": {},
   "source": [
    "This is the opposite operation to what we saw above."
   ]
  },
  {
   "cell_type": "code",
   "execution_count": 12,
   "id": "cc755a03",
   "metadata": {},
   "outputs": [
    {
     "name": "stdout",
     "output_type": "stream",
     "text": [
      "1 2 3\n"
     ]
    }
   ],
   "source": [
    "m = [1,2,3]\n",
    "print(*m)"
   ]
  },
  {
   "cell_type": "code",
   "execution_count": 13,
   "id": "35aee3aa",
   "metadata": {},
   "outputs": [
    {
     "name": "stdout",
     "output_type": "stream",
     "text": [
      "1 2 3\n"
     ]
    }
   ],
   "source": [
    "print(1,2,3)"
   ]
  },
  {
   "cell_type": "code",
   "execution_count": 14,
   "id": "232d6edf",
   "metadata": {},
   "outputs": [
    {
     "name": "stdout",
     "output_type": "stream",
     "text": [
      "x = 1\n",
      "y = 2\n",
      "z = 3\n"
     ]
    }
   ],
   "source": [
    "def f(x, y, z):\n",
    "    print(f'x = {x}')\n",
    "    print(f'y = {y}')\n",
    "    print(f'z = {z}')\n",
    "    \n",
    "f(1,2,3)"
   ]
  },
  {
   "cell_type": "code",
   "execution_count": 15,
   "id": "5001500b",
   "metadata": {},
   "outputs": [
    {
     "ename": "TypeError",
     "evalue": "f() missing 2 required positional arguments: 'y' and 'z'",
     "output_type": "error",
     "traceback": [
      "\u001b[1;31m---------------------------------------------------------------------------\u001b[0m",
      "\u001b[1;31mTypeError\u001b[0m                                 Traceback (most recent call last)",
      "Input \u001b[1;32mIn [15]\u001b[0m, in \u001b[0;36m<cell line: 2>\u001b[1;34m()\u001b[0m\n\u001b[0;32m      1\u001b[0m t \u001b[38;5;241m=\u001b[39m (\u001b[38;5;241m1\u001b[39m,\u001b[38;5;241m2\u001b[39m,\u001b[38;5;241m3\u001b[39m)\n\u001b[1;32m----> 2\u001b[0m \u001b[43mf\u001b[49m\u001b[43m(\u001b[49m\u001b[43mt\u001b[49m\u001b[43m)\u001b[49m\n",
      "\u001b[1;31mTypeError\u001b[0m: f() missing 2 required positional arguments: 'y' and 'z'"
     ]
    }
   ],
   "source": [
    "t = (1,2,3)\n",
    "f(t)"
   ]
  },
  {
   "cell_type": "code",
   "execution_count": 16,
   "id": "d6c54aa2",
   "metadata": {},
   "outputs": [
    {
     "name": "stdout",
     "output_type": "stream",
     "text": [
      "x = 1\n",
      "y = 2\n",
      "z = 3\n"
     ]
    }
   ],
   "source": [
    "f(*t)"
   ]
  },
  {
   "cell_type": "markdown",
   "id": "a36ad9cf",
   "metadata": {},
   "source": [
    "You can see both usage of the `*` at:\n",
    " - Function definition\n",
    " - Function calling"
   ]
  },
  {
   "cell_type": "code",
   "execution_count": 17,
   "id": "5c186cce",
   "metadata": {},
   "outputs": [
    {
     "name": "stdout",
     "output_type": "stream",
     "text": [
      "<class 'tuple'> ('foo', 'bar', 'baz', 'qux')\n"
     ]
    }
   ],
   "source": [
    "def f(*args):\n",
    "    print(type(args), args)\n",
    "\n",
    "\n",
    "a = ['foo', 'bar', 'baz', 'qux']\n",
    "f(*a)"
   ]
  },
  {
   "cell_type": "code",
   "execution_count": 18,
   "id": "629827c7",
   "metadata": {},
   "outputs": [
    {
     "name": "stdout",
     "output_type": "stream",
     "text": [
      "<class 'tuple'> (['foo', 'bar', 'baz', 'qux'],)\n"
     ]
    }
   ],
   "source": [
    "f(a)"
   ]
  },
  {
   "cell_type": "markdown",
   "id": "3019360c",
   "metadata": {},
   "source": [
    "### Argument Dictionary Packing"
   ]
  },
  {
   "cell_type": "markdown",
   "id": "8565d797",
   "metadata": {},
   "source": [
    "Exact same idea as above but this time applied to **keyword arguments** and dictionaries using `**kwargs`"
   ]
  },
  {
   "cell_type": "code",
   "execution_count": 19,
   "id": "d2a3087d",
   "metadata": {},
   "outputs": [],
   "source": [
    "def f(**kwargs):\n",
    "    print(type(kwargs))\n",
    "    print(kwargs)"
   ]
  },
  {
   "cell_type": "code",
   "execution_count": 20,
   "id": "4786a349",
   "metadata": {},
   "outputs": [
    {
     "name": "stdout",
     "output_type": "stream",
     "text": [
      "<class 'dict'>\n",
      "{'a': 'foo', 'b': 25, 'c': 'qux'}\n"
     ]
    }
   ],
   "source": [
    "f(a='foo', b=25, c='qux')"
   ]
  },
  {
   "cell_type": "markdown",
   "id": "ce8cc040",
   "metadata": {},
   "source": [
    "Remember the word **beyond** "
   ]
  },
  {
   "cell_type": "code",
   "execution_count": 21,
   "id": "fa618162",
   "metadata": {},
   "outputs": [],
   "source": [
    "def f(a, b, **kwargs):\n",
    "    print(type(kwargs))\n",
    "    print(kwargs)"
   ]
  },
  {
   "cell_type": "code",
   "execution_count": 22,
   "id": "35ad9c45",
   "metadata": {},
   "outputs": [
    {
     "name": "stdout",
     "output_type": "stream",
     "text": [
      "<class 'dict'>\n",
      "{'c': 'qux'}\n"
     ]
    }
   ],
   "source": [
    "f(a='foo', b=25, c='qux')"
   ]
  },
  {
   "cell_type": "markdown",
   "id": "2aafb3a0",
   "metadata": {},
   "source": [
    "### Argument Dictionary Unpacking"
   ]
  },
  {
   "cell_type": "code",
   "execution_count": 23,
   "id": "33760cbd",
   "metadata": {
    "scrolled": true
   },
   "outputs": [
    {
     "name": "stdout",
     "output_type": "stream",
     "text": [
      "a is 1\n",
      "b is 2\n",
      "<class 'dict'>\n",
      "{}\n"
     ]
    }
   ],
   "source": [
    "def f(a, b, **kwargs):\n",
    "    print(f'a is {a}')\n",
    "    print(f'b is {b}')\n",
    "    print(type(kwargs))\n",
    "    print(kwargs)\n",
    "    \n",
    "a_dict = {'a': 1, 'b': 2}\n",
    "f(**a_dict)"
   ]
  },
  {
   "cell_type": "markdown",
   "id": "b6c2b311",
   "metadata": {},
   "source": [
    "## 2.0 Function Order"
   ]
  },
  {
   "cell_type": "code",
   "execution_count": 24,
   "id": "ab3eb211",
   "metadata": {},
   "outputs": [],
   "source": [
    "def display_args(a, b, c, *args, world_cup_winner = 'Argentina', **kwargs):\n",
    "    print(a, b, c)\n",
    "    print(args)\n",
    "    print(world_cup_winner)\n",
    "    print(kwargs)"
   ]
  },
  {
   "cell_type": "code",
   "execution_count": 25,
   "id": "f39b74d7",
   "metadata": {},
   "outputs": [
    {
     "name": "stdout",
     "output_type": "stream",
     "text": [
      "1 2 3\n",
      "()\n",
      "Argentina\n",
      "{}\n"
     ]
    }
   ],
   "source": [
    "display_args(1,2,3)"
   ]
  },
  {
   "cell_type": "code",
   "execution_count": 26,
   "id": "5c5b10ba",
   "metadata": {},
   "outputs": [
    {
     "name": "stdout",
     "output_type": "stream",
     "text": [
      "1 2 3\n",
      "(4, 5, 6)\n",
      "Argentina\n",
      "{}\n"
     ]
    }
   ],
   "source": [
    "display_args(1,2,3, 4, 5, 6)"
   ]
  },
  {
   "cell_type": "code",
   "execution_count": 27,
   "id": "829b98b2",
   "metadata": {},
   "outputs": [
    {
     "name": "stdout",
     "output_type": "stream",
     "text": [
      "1 2 3\n",
      "()\n",
      "France wins. Oh, no!\n",
      "{}\n"
     ]
    }
   ],
   "source": [
    "display_args(1,2,3, world_cup_winner='France wins. Oh, no!')"
   ]
  },
  {
   "cell_type": "code",
   "execution_count": 28,
   "id": "8d2f6f6a",
   "metadata": {},
   "outputs": [
    {
     "name": "stdout",
     "output_type": "stream",
     "text": [
      "1 2 3\n",
      "()\n",
      "France wins. Oh, no!\n",
      "{'goal_keeper': 'Martinez'}\n"
     ]
    }
   ],
   "source": [
    "display_args(1,2,3, world_cup_winner='France wins. Oh, no!', goal_keeper = 'Martinez')"
   ]
  },
  {
   "cell_type": "markdown",
   "id": "b320aa8d",
   "metadata": {},
   "source": [
    "A common function structure\n",
    "\n",
    "```\n",
    "def f(arg1, arg2, *args, **kwargs):\n",
    "```"
   ]
  },
  {
   "cell_type": "markdown",
   "id": "42dd1c32",
   "metadata": {},
   "source": [
    "## 3.0 Function Lambdas"
   ]
  },
  {
   "cell_type": "markdown",
   "id": "62bc248b",
   "metadata": {},
   "source": [
    "Python lambdas are a shorthand notation to define a function. Mostly used with other functions that take a function as an argument (higher-order funcs).\n",
    "\n",
    "They are okay for one-liners."
   ]
  },
  {
   "cell_type": "markdown",
   "id": "bef0a6d0",
   "metadata": {},
   "source": [
    "``` lambda <parameters> : <body>```"
   ]
  },
  {
   "cell_type": "code",
   "execution_count": 29,
   "id": "98d718da",
   "metadata": {},
   "outputs": [
    {
     "data": {
      "text/plain": [
       "6"
      ]
     },
     "execution_count": 29,
     "metadata": {},
     "output_type": "execute_result"
    }
   ],
   "source": [
    "def add_one(x):\n",
    "    return x + 1\n",
    "\n",
    "add_one(5)"
   ]
  },
  {
   "cell_type": "code",
   "execution_count": 30,
   "id": "e5ac69d6",
   "metadata": {},
   "outputs": [
    {
     "data": {
      "text/plain": [
       "'add_one'"
      ]
     },
     "execution_count": 30,
     "metadata": {},
     "output_type": "execute_result"
    }
   ],
   "source": [
    "add_one.__name__"
   ]
  },
  {
   "cell_type": "code",
   "execution_count": 31,
   "id": "318b3780",
   "metadata": {},
   "outputs": [],
   "source": [
    "f = lambda x: x+1"
   ]
  },
  {
   "cell_type": "code",
   "execution_count": 32,
   "id": "439ea1c8",
   "metadata": {
    "scrolled": true
   },
   "outputs": [
    {
     "data": {
      "text/plain": [
       "6"
      ]
     },
     "execution_count": 32,
     "metadata": {},
     "output_type": "execute_result"
    }
   ],
   "source": [
    "f(5)"
   ]
  },
  {
   "cell_type": "markdown",
   "id": "c2f91a19",
   "metadata": {},
   "source": [
    "Lambda functions are anonymous"
   ]
  },
  {
   "cell_type": "code",
   "execution_count": 33,
   "id": "475cd058",
   "metadata": {},
   "outputs": [
    {
     "data": {
      "text/plain": [
       "'add_one'"
      ]
     },
     "execution_count": 33,
     "metadata": {},
     "output_type": "execute_result"
    }
   ],
   "source": [
    "add_one.__name__"
   ]
  },
  {
   "cell_type": "code",
   "execution_count": 34,
   "id": "ea81ab8a",
   "metadata": {},
   "outputs": [
    {
     "data": {
      "text/plain": [
       "'<lambda>'"
      ]
     },
     "execution_count": 34,
     "metadata": {},
     "output_type": "execute_result"
    }
   ],
   "source": [
    "f.__name__"
   ]
  },
  {
   "cell_type": "code",
   "execution_count": 35,
   "id": "fe0ae124",
   "metadata": {},
   "outputs": [],
   "source": [
    "#help(map)"
   ]
  },
  {
   "cell_type": "code",
   "execution_count": 36,
   "id": "6bf87f01",
   "metadata": {},
   "outputs": [
    {
     "name": "stdout",
     "output_type": "stream",
     "text": [
      "2\n",
      "3\n",
      "4\n",
      "5\n"
     ]
    }
   ],
   "source": [
    "for n in map(add_one, [1,2,3,4]):\n",
    "    print(n)"
   ]
  },
  {
   "cell_type": "code",
   "execution_count": 37,
   "id": "184485b6",
   "metadata": {},
   "outputs": [
    {
     "name": "stdout",
     "output_type": "stream",
     "text": [
      "2\n",
      "3\n",
      "4\n",
      "5\n"
     ]
    }
   ],
   "source": [
    "for n in map(lambda x:x+1, [1,2,3,4]):\n",
    "    print(n)"
   ]
  },
  {
   "cell_type": "code",
   "execution_count": 38,
   "id": "f9c54a98",
   "metadata": {},
   "outputs": [
    {
     "name": "stdout",
     "output_type": "stream",
     "text": [
      "GOLF\n",
      "TENNIS\n",
      "SOCCER\n"
     ]
    }
   ],
   "source": [
    "for i in map(lambda x: x.upper(), ['golf', 'tennis', 'soccer']):\n",
    "    print(i)"
   ]
  },
  {
   "cell_type": "code",
   "execution_count": 39,
   "id": "3496bdc7",
   "metadata": {},
   "outputs": [],
   "source": [
    "nums = [-1, -2, 3, 4, 5, 6, 7, -8, -9]"
   ]
  },
  {
   "cell_type": "code",
   "execution_count": 40,
   "id": "1b334a23",
   "metadata": {},
   "outputs": [
    {
     "data": {
      "text/plain": [
       "[-9, -8, -2, -1, 3, 4, 5, 6, 7]"
      ]
     },
     "execution_count": 40,
     "metadata": {},
     "output_type": "execute_result"
    }
   ],
   "source": [
    "sorted(nums)"
   ]
  },
  {
   "cell_type": "code",
   "execution_count": 41,
   "id": "3a2011b6",
   "metadata": {},
   "outputs": [
    {
     "data": {
      "text/plain": [
       "[-1, -2, 3, 4, 5, 6, 7, -8, -9]"
      ]
     },
     "execution_count": 41,
     "metadata": {},
     "output_type": "execute_result"
    }
   ],
   "source": [
    "sorted(nums, key=lambda x: abs(x))"
   ]
  },
  {
   "cell_type": "markdown",
   "id": "8d1c3c1a",
   "metadata": {},
   "source": [
    "## 4.0 Function Docstrings"
   ]
  },
  {
   "cell_type": "markdown",
   "id": "bb3af94f",
   "metadata": {},
   "source": [
    "For more info: [Google Python Style Guide](https://google.github.io/styleguide/pyguide.html#s3.8.1-comments-in-doc-strings)"
   ]
  },
  {
   "cell_type": "markdown",
   "id": "8374233e",
   "metadata": {},
   "source": [
    "Fromm Google docs:\n",
    "* A docstring is a string that is the first statement in a package, module, class or function.\n",
    "* These strings can be extracted automatically through the `__doc__`"
   ]
  },
  {
   "cell_type": "code",
   "execution_count": 42,
   "id": "7e55a722",
   "metadata": {},
   "outputs": [],
   "source": [
    "def find_value(value, iterable):\n",
    "    \n",
    "    \"\"\"Return True if value is in iterable, False otherwise.\"\"\"\n",
    "    \n",
    "    for item in iterable:\n",
    "        if value == item:  # Find the target value by equality\n",
    "            return True\n",
    "    return False"
   ]
  },
  {
   "cell_type": "code",
   "execution_count": 43,
   "id": "83879b12",
   "metadata": {},
   "outputs": [
    {
     "data": {
      "text/plain": [
       "'Return True if value is in iterable, False otherwise.'"
      ]
     },
     "execution_count": 43,
     "metadata": {},
     "output_type": "execute_result"
    }
   ],
   "source": [
    "find_value.__doc__"
   ]
  }
 ],
 "metadata": {
  "kernelspec": {
   "display_name": "LR",
   "language": "python",
   "name": "lr"
  },
  "language_info": {
   "codemirror_mode": {
    "name": "ipython",
    "version": 3
   },
   "file_extension": ".py",
   "mimetype": "text/x-python",
   "name": "python",
   "nbconvert_exporter": "python",
   "pygments_lexer": "ipython3",
   "version": "3.10.2"
  }
 },
 "nbformat": 4,
 "nbformat_minor": 5
}
