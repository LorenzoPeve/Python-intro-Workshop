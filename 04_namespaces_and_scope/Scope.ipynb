{
 "cells": [
  {
   "cell_type": "markdown",
   "id": "e4336345",
   "metadata": {},
   "source": [
    "# Namespaces ans Scope in Python"
   ]
  },
  {
   "cell_type": "markdown",
   "id": "31e3510e",
   "metadata": {},
   "source": [
    "1. What is a Namespace?\n",
    "2. Which namespaces are there? \n",
    " 1. Built-In\n",
    " 2. Global\n",
    " 3. Enclosing\n",
    " 4. Local\n",
    " \n",
    "3. LEGB Rule "
   ]
  },
  {
   "cell_type": "markdown",
   "id": "20cab693",
   "metadata": {},
   "source": [
    "## 1. What is a Namespace?"
   ]
  },
  {
   "cell_type": "markdown",
   "id": "c472e394",
   "metadata": {},
   "source": [
    "* A namespace is a mapping from names to objects.\n",
    "* Different namespaces with different lifetimes exist in Python"
   ]
  },
  {
   "cell_type": "markdown",
   "id": "886b2f9c",
   "metadata": {},
   "source": [
    "Motivating Example"
   ]
  },
  {
   "cell_type": "code",
   "execution_count": 1,
   "id": "6df3244d",
   "metadata": {},
   "outputs": [],
   "source": [
    "magic_number = 20"
   ]
  },
  {
   "cell_type": "code",
   "execution_count": 2,
   "id": "44f5aebe",
   "metadata": {},
   "outputs": [
    {
     "data": {
      "text/plain": [
       "14"
      ]
     },
     "execution_count": 2,
     "metadata": {},
     "output_type": "execute_result"
    }
   ],
   "source": [
    "def add_magic_num(a):\n",
    "    magic_number = 10\n",
    "    return a + magic_number\n",
    "\n",
    "add_magic_num(4)"
   ]
  },
  {
   "cell_type": "code",
   "execution_count": 3,
   "id": "79395998",
   "metadata": {},
   "outputs": [
    {
     "name": "stdout",
     "output_type": "stream",
     "text": [
      "20\n"
     ]
    }
   ],
   "source": [
    "print(magic_number)"
   ]
  },
  {
   "cell_type": "markdown",
   "id": "aac6f996",
   "metadata": {},
   "source": [
    "This is because in this example there are two namespaces, the global and local namespaces"
   ]
  },
  {
   "cell_type": "markdown",
   "id": "f64e5711",
   "metadata": {},
   "source": [
    "## 2. Which namespaces are there?"
   ]
  },
  {
   "cell_type": "markdown",
   "id": "3c58b25d",
   "metadata": {},
   "source": [
    "### Built-In"
   ]
  },
  {
   "cell_type": "markdown",
   "id": "1b19932c",
   "metadata": {},
   "source": [
    "* The Python interpreter creates the built-in namespace when it starts up. \n",
    "* This namespace remains in existence until the interpreter terminates.\n",
    "* It contains names that are built into Python, such as keywords, built-in functions, exceptions, and other attributes."
   ]
  },
  {
   "cell_type": "code",
   "execution_count": 4,
   "id": "b73be211",
   "metadata": {},
   "outputs": [
    {
     "data": {
      "text/plain": [
       "['ArithmeticError',\n",
       " 'AssertionError',\n",
       " 'AttributeError',\n",
       " 'BaseException',\n",
       " 'BlockingIOError',\n",
       " 'BrokenPipeError',\n",
       " 'BufferError',\n",
       " 'BytesWarning',\n",
       " 'ChildProcessError',\n",
       " 'ConnectionAbortedError',\n",
       " 'ConnectionError',\n",
       " 'ConnectionRefusedError',\n",
       " 'ConnectionResetError',\n",
       " 'DeprecationWarning',\n",
       " 'EOFError',\n",
       " 'Ellipsis',\n",
       " 'EncodingWarning',\n",
       " 'EnvironmentError',\n",
       " 'Exception',\n",
       " 'False',\n",
       " 'FileExistsError',\n",
       " 'FileNotFoundError',\n",
       " 'FloatingPointError',\n",
       " 'FutureWarning',\n",
       " 'GeneratorExit',\n",
       " 'IOError',\n",
       " 'ImportError',\n",
       " 'ImportWarning',\n",
       " 'IndentationError',\n",
       " 'IndexError',\n",
       " 'InterruptedError',\n",
       " 'IsADirectoryError',\n",
       " 'KeyError',\n",
       " 'KeyboardInterrupt',\n",
       " 'LookupError',\n",
       " 'MemoryError',\n",
       " 'ModuleNotFoundError',\n",
       " 'NameError',\n",
       " 'None',\n",
       " 'NotADirectoryError',\n",
       " 'NotImplemented',\n",
       " 'NotImplementedError',\n",
       " 'OSError',\n",
       " 'OverflowError',\n",
       " 'PendingDeprecationWarning',\n",
       " 'PermissionError',\n",
       " 'ProcessLookupError',\n",
       " 'RecursionError',\n",
       " 'ReferenceError',\n",
       " 'ResourceWarning',\n",
       " 'RuntimeError',\n",
       " 'RuntimeWarning',\n",
       " 'StopAsyncIteration',\n",
       " 'StopIteration',\n",
       " 'SyntaxError',\n",
       " 'SyntaxWarning',\n",
       " 'SystemError',\n",
       " 'SystemExit',\n",
       " 'TabError',\n",
       " 'TimeoutError',\n",
       " 'True',\n",
       " 'TypeError',\n",
       " 'UnboundLocalError',\n",
       " 'UnicodeDecodeError',\n",
       " 'UnicodeEncodeError',\n",
       " 'UnicodeError',\n",
       " 'UnicodeTranslateError',\n",
       " 'UnicodeWarning',\n",
       " 'UserWarning',\n",
       " 'ValueError',\n",
       " 'Warning',\n",
       " 'WindowsError',\n",
       " 'ZeroDivisionError',\n",
       " '__IPYTHON__',\n",
       " '__build_class__',\n",
       " '__debug__',\n",
       " '__doc__',\n",
       " '__import__',\n",
       " '__loader__',\n",
       " '__name__',\n",
       " '__package__',\n",
       " '__spec__',\n",
       " 'abs',\n",
       " 'aiter',\n",
       " 'all',\n",
       " 'anext',\n",
       " 'any',\n",
       " 'ascii',\n",
       " 'bin',\n",
       " 'bool',\n",
       " 'breakpoint',\n",
       " 'bytearray',\n",
       " 'bytes',\n",
       " 'callable',\n",
       " 'chr',\n",
       " 'classmethod',\n",
       " 'compile',\n",
       " 'complex',\n",
       " 'copyright',\n",
       " 'credits',\n",
       " 'delattr',\n",
       " 'dict',\n",
       " 'dir',\n",
       " 'display',\n",
       " 'divmod',\n",
       " 'enumerate',\n",
       " 'eval',\n",
       " 'exec',\n",
       " 'execfile',\n",
       " 'filter',\n",
       " 'float',\n",
       " 'format',\n",
       " 'frozenset',\n",
       " 'get_ipython',\n",
       " 'getattr',\n",
       " 'globals',\n",
       " 'hasattr',\n",
       " 'hash',\n",
       " 'help',\n",
       " 'hex',\n",
       " 'id',\n",
       " 'input',\n",
       " 'int',\n",
       " 'isinstance',\n",
       " 'issubclass',\n",
       " 'iter',\n",
       " 'len',\n",
       " 'license',\n",
       " 'list',\n",
       " 'locals',\n",
       " 'map',\n",
       " 'max',\n",
       " 'memoryview',\n",
       " 'min',\n",
       " 'next',\n",
       " 'object',\n",
       " 'oct',\n",
       " 'open',\n",
       " 'ord',\n",
       " 'pow',\n",
       " 'print',\n",
       " 'property',\n",
       " 'range',\n",
       " 'repr',\n",
       " 'reversed',\n",
       " 'round',\n",
       " 'runfile',\n",
       " 'set',\n",
       " 'setattr',\n",
       " 'slice',\n",
       " 'sorted',\n",
       " 'staticmethod',\n",
       " 'str',\n",
       " 'sum',\n",
       " 'super',\n",
       " 'tuple',\n",
       " 'type',\n",
       " 'vars',\n",
       " 'zip']"
      ]
     },
     "execution_count": 4,
     "metadata": {},
     "output_type": "execute_result"
    }
   ],
   "source": [
    "dir(__builtins__)"
   ]
  },
  {
   "cell_type": "markdown",
   "id": "0e92c9c5",
   "metadata": {},
   "source": [
    "### Global "
   ]
  },
  {
   "cell_type": "markdown",
   "id": "733f3eab",
   "metadata": {},
   "source": [
    "* Contains any names defined at the level of the main program. \n",
    "* Can be inspected with `globals()`\n",
    "* Names in the global scope are visible from everywhere in your code (including functions)"
   ]
  },
  {
   "cell_type": "code",
   "execution_count": 5,
   "id": "6dd25dfc",
   "metadata": {},
   "outputs": [],
   "source": [
    "magic_number = 20\n",
    "my_car = 'Audi'"
   ]
  },
  {
   "cell_type": "markdown",
   "id": "f4fa2ddc",
   "metadata": {},
   "source": [
    "### Local"
   ]
  },
  {
   "cell_type": "markdown",
   "id": "c48c25ff",
   "metadata": {},
   "source": [
    "* Everytime you call a function\n",
    "* Remains in existence until the function terminates\n",
    "* `locals()"
   ]
  },
  {
   "cell_type": "code",
   "execution_count": 6,
   "id": "25abf45e",
   "metadata": {},
   "outputs": [
    {
     "data": {
      "text/plain": [
       "14"
      ]
     },
     "execution_count": 6,
     "metadata": {},
     "output_type": "execute_result"
    }
   ],
   "source": [
    "def add_magic_num(a):\n",
    "    local_magic_number = 10\n",
    "    return a + local_magic_number\n",
    "\n",
    "add_magic_num(4)"
   ]
  },
  {
   "cell_type": "code",
   "execution_count": 7,
   "id": "3eacc1a2",
   "metadata": {},
   "outputs": [
    {
     "ename": "NameError",
     "evalue": "name 'local_magic_number' is not defined",
     "output_type": "error",
     "traceback": [
      "\u001b[1;31m---------------------------------------------------------------------------\u001b[0m",
      "\u001b[1;31mNameError\u001b[0m                                 Traceback (most recent call last)",
      "Input \u001b[1;32mIn [7]\u001b[0m, in \u001b[0;36m<cell line: 1>\u001b[1;34m()\u001b[0m\n\u001b[1;32m----> 1\u001b[0m \u001b[43mlocal_magic_number\u001b[49m\n",
      "\u001b[1;31mNameError\u001b[0m: name 'local_magic_number' is not defined"
     ]
    }
   ],
   "source": [
    "local_magic_number # is not defined in global namespace"
   ]
  },
  {
   "cell_type": "code",
   "execution_count": 8,
   "id": "a85f39f8",
   "metadata": {},
   "outputs": [
    {
     "name": "stdout",
     "output_type": "stream",
     "text": [
      "{'a': 4, 'local_magic_number': 10}\n"
     ]
    },
    {
     "data": {
      "text/plain": [
       "14"
      ]
     },
     "execution_count": 8,
     "metadata": {},
     "output_type": "execute_result"
    }
   ],
   "source": [
    "def add_magic_num(a):    \n",
    "    local_magic_number = 10\n",
    "    print(locals())\n",
    "    return a + local_magic_number\n",
    "\n",
    "add_magic_num(4)"
   ]
  },
  {
   "cell_type": "markdown",
   "id": "4117f510",
   "metadata": {},
   "source": [
    "### Enclosing Namespaces"
   ]
  },
  {
   "cell_type": "markdown",
   "id": "5bf75a70",
   "metadata": {},
   "source": [
    "The enclosing scope is a special scope that only exists for nested functions.\n"
   ]
  },
  {
   "cell_type": "code",
   "execution_count": 9,
   "id": "ceebea45",
   "metadata": {},
   "outputs": [],
   "source": [
    "def outer_func():\n",
    "    \n",
    "    print('Start of outer_func()')\n",
    "    var = 100  # A nonlocal var\n",
    "            \n",
    "    def inner_func():\n",
    "        f = \"I'm local\"\n",
    "        print('Start of inner_func()')\n",
    "        print(f)\n",
    "        print(var)\n",
    "        print('End of inner_func()')\n",
    "    \n",
    "    inner_func()\n",
    "    \n",
    "    f = \"I'm enclosing inner_func\" \n",
    "    print(f)\n",
    "    print('End of outer_func()')"
   ]
  },
  {
   "cell_type": "code",
   "execution_count": 10,
   "id": "208e17d1",
   "metadata": {},
   "outputs": [
    {
     "name": "stdout",
     "output_type": "stream",
     "text": [
      "Start of outer_func()\n",
      "Start of inner_func()\n",
      "I'm local\n",
      "100\n",
      "End of inner_func()\n",
      "I'm enclosing inner_func\n",
      "End of outer_func()\n"
     ]
    }
   ],
   "source": [
    "a = outer_func()"
   ]
  },
  {
   "cell_type": "markdown",
   "id": "506cd1a0",
   "metadata": {},
   "source": [
    "## Scope vs Namespace"
   ]
  },
  {
   "cell_type": "markdown",
   "id": "a155104e",
   "metadata": {},
   "source": [
    "* *Scope* defines the area of a program in which you can unambiguously access that name\n",
    "* *Scope* is a concept and *NameSpace* is the implementation"
   ]
  },
  {
   "cell_type": "markdown",
   "id": "be477404",
   "metadata": {},
   "source": [
    "LEGB: Local --> Enclosing --> Global --> Built-in"
   ]
  },
  {
   "cell_type": "markdown",
   "id": "3e8cd1f8",
   "metadata": {},
   "source": [
    "## All of them together"
   ]
  },
  {
   "cell_type": "code",
   "execution_count": 11,
   "id": "907853d0",
   "metadata": {
    "scrolled": true
   },
   "outputs": [
    {
     "name": "stdout",
     "output_type": "stream",
     "text": [
      "global\n"
     ]
    }
   ],
   "source": [
    "# LEGB: Local --> Enclosing --> Global --> Built-in\n",
    "x = 'global'\n",
    "\n",
    "def f():\n",
    "    \n",
    "    def g():\n",
    "        print(x)\n",
    "    \n",
    "    g()\n",
    "\n",
    "f()"
   ]
  },
  {
   "cell_type": "code",
   "execution_count": 12,
   "id": "10b50085",
   "metadata": {
    "scrolled": true
   },
   "outputs": [
    {
     "name": "stdout",
     "output_type": "stream",
     "text": [
      "<built-in function abs>\n"
     ]
    }
   ],
   "source": [
    "x = 'global'\n",
    "\n",
    "def f():\n",
    "    x = 'enclosing'\n",
    "\n",
    "    def g():\n",
    "        print(abs)\n",
    "\n",
    "    g()\n",
    "\n",
    "\n",
    "f()"
   ]
  },
  {
   "cell_type": "code",
   "execution_count": 13,
   "id": "93d85e5b",
   "metadata": {},
   "outputs": [
    {
     "name": "stdout",
     "output_type": "stream",
     "text": [
      "local\n"
     ]
    }
   ],
   "source": [
    "x = 'global'\n",
    "\n",
    "def f():\n",
    "    x = 'enclosing'\n",
    "\n",
    "    def g():\n",
    "        x = 'local'\n",
    "        print(x)\n",
    "\n",
    "    g()\n",
    "\n",
    "f()"
   ]
  },
  {
   "cell_type": "code",
   "execution_count": 14,
   "id": "2be02e7a",
   "metadata": {},
   "outputs": [
    {
     "ename": "NameError",
     "evalue": "name 'b' is not defined",
     "output_type": "error",
     "traceback": [
      "\u001b[1;31m---------------------------------------------------------------------------\u001b[0m",
      "\u001b[1;31mNameError\u001b[0m                                 Traceback (most recent call last)",
      "Input \u001b[1;32mIn [14]\u001b[0m, in \u001b[0;36m<cell line: 4>\u001b[1;34m()\u001b[0m\n\u001b[0;32m      1\u001b[0m \u001b[38;5;28;01mdef\u001b[39;00m \u001b[38;5;21mf\u001b[39m():\n\u001b[0;32m      2\u001b[0m     b \u001b[38;5;241m=\u001b[39m \u001b[38;5;124m'\u001b[39m\u001b[38;5;124mHere is a local variable\u001b[39m\u001b[38;5;124m'\u001b[39m\n\u001b[1;32m----> 4\u001b[0m \u001b[38;5;28mprint\u001b[39m(\u001b[43mb\u001b[49m)\n",
      "\u001b[1;31mNameError\u001b[0m: name 'b' is not defined"
     ]
    }
   ],
   "source": [
    "def f():\n",
    "    b = 'Here is a local variable'\n",
    "\n",
    "print(b)"
   ]
  },
  {
   "cell_type": "markdown",
   "id": "1c1e7255",
   "metadata": {},
   "source": [
    "## Modify Variables Out of Scope"
   ]
  },
  {
   "cell_type": "code",
   "execution_count": 15,
   "id": "ebd24206",
   "metadata": {},
   "outputs": [],
   "source": [
    "nums = [1, 2, 3, 4]\n",
    "\n",
    "def square(nums):\n",
    "    for i, n in enumerate(nums):\n",
    "        nums[i] = n**2\n",
    "    return nums"
   ]
  },
  {
   "cell_type": "code",
   "execution_count": 16,
   "id": "2ee42a66",
   "metadata": {},
   "outputs": [
    {
     "name": "stdout",
     "output_type": "stream",
     "text": [
      "[1, 2, 3, 4]\n",
      "[1, 4, 9, 16]\n",
      "[1, 4, 9, 16]\n"
     ]
    }
   ],
   "source": [
    "print(nums)\n",
    "print(square(nums))\n",
    "print(nums)"
   ]
  },
  {
   "cell_type": "code",
   "execution_count": 17,
   "id": "ab0fc3f7",
   "metadata": {},
   "outputs": [
    {
     "name": "stdout",
     "output_type": "stream",
     "text": [
      "x inside f() is 40\n",
      "x in global namespace is 20\n"
     ]
    }
   ],
   "source": [
    "x = 20\n",
    "def f():\n",
    "    x = 40   # Creates a new local reference\n",
    "    print(f'x inside f() is {x}')\n",
    "    \n",
    "f()\n",
    "print(f'x in global namespace is {x}')"
   ]
  },
  {
   "cell_type": "code",
   "execution_count": 18,
   "id": "ad664bdf",
   "metadata": {},
   "outputs": [
    {
     "name": "stdout",
     "output_type": "stream",
     "text": [
      "{}\n",
      "x inside f() is 40\n",
      "{'x': 40}\n",
      "x in global namespace is 20\n"
     ]
    }
   ],
   "source": [
    "x = 20\n",
    "def f():\n",
    "    print(locals())\n",
    "    x = 40   # Creates a new local reference\n",
    "    print(f'x inside f() is {x}')\n",
    "    print(locals())\n",
    "    \n",
    "f()\n",
    "print(f'x in global namespace is {x}')"
   ]
  },
  {
   "cell_type": "code",
   "execution_count": 19,
   "id": "376f7841",
   "metadata": {},
   "outputs": [
    {
     "data": {
      "text/plain": [
       "['foo', 'quux', 'baz']"
      ]
     },
     "execution_count": 19,
     "metadata": {},
     "output_type": "execute_result"
    }
   ],
   "source": [
    "my_list = ['foo', 'bar', 'baz']\n",
    "def f():\n",
    "    my_list[1] = 'quux'\n",
    "\n",
    "f()\n",
    "my_list"
   ]
  },
  {
   "cell_type": "code",
   "execution_count": 20,
   "id": "5a077e70",
   "metadata": {},
   "outputs": [
    {
     "data": {
      "text/plain": [
       "['foo', 'bar', 'baz']"
      ]
     },
     "execution_count": 20,
     "metadata": {},
     "output_type": "execute_result"
    }
   ],
   "source": [
    "my_list = ['foo', 'bar', 'baz']\n",
    "def f():\n",
    "    my_list = ['qux', 'quux']\n",
    "\n",
    "f()\n",
    "my_list"
   ]
  },
  {
   "cell_type": "markdown",
   "id": "3317865b",
   "metadata": {},
   "source": [
    "*With great power comes great responsibility*"
   ]
  },
  {
   "cell_type": "code",
   "execution_count": 21,
   "id": "48036df0",
   "metadata": {},
   "outputs": [
    {
     "name": "stdout",
     "output_type": "stream",
     "text": [
      "x inside f() is 40\n",
      "x in global namespace is 40\n"
     ]
    }
   ],
   "source": [
    "x = 20\n",
    "def f():\n",
    "    global x\n",
    "    x = 40\n",
    "    print(f'x inside f() is {x}')\n",
    "\n",
    "f()\n",
    "print(f'x in global namespace is {x}')"
   ]
  },
  {
   "cell_type": "code",
   "execution_count": 22,
   "id": "9bdf0c85",
   "metadata": {},
   "outputs": [],
   "source": [
    "def f():\n",
    "    x = 20\n",
    "\n",
    "    def g():\n",
    "        nonlocal x\n",
    "        x = 40\n",
    "\n",
    "    g()\n",
    "    print(x)"
   ]
  },
  {
   "cell_type": "code",
   "execution_count": 23,
   "id": "8c49d16b",
   "metadata": {},
   "outputs": [
    {
     "name": "stdout",
     "output_type": "stream",
     "text": [
      "40\n"
     ]
    }
   ],
   "source": [
    "f()"
   ]
  },
  {
   "cell_type": "markdown",
   "id": "625f7928",
   "metadata": {},
   "source": [
    "## `UnboundLocalError`"
   ]
  },
  {
   "cell_type": "code",
   "execution_count": 24,
   "id": "1fe8a6ab",
   "metadata": {},
   "outputs": [
    {
     "name": "stdout",
     "output_type": "stream",
     "text": [
      "100\n"
     ]
    }
   ],
   "source": [
    "# Assignment operations vs Reference or access operations \n",
    "\n",
    "# This works\n",
    "var = 100\n",
    "def f():\n",
    "    print(var)\n",
    "\n",
    "f()"
   ]
  },
  {
   "cell_type": "code",
   "execution_count": 25,
   "id": "702146aa",
   "metadata": {
    "scrolled": false
   },
   "outputs": [
    {
     "ename": "UnboundLocalError",
     "evalue": "local variable 'var' referenced before assignment",
     "output_type": "error",
     "traceback": [
      "\u001b[1;31m---------------------------------------------------------------------------\u001b[0m",
      "\u001b[1;31mUnboundLocalError\u001b[0m                         Traceback (most recent call last)",
      "Input \u001b[1;32mIn [25]\u001b[0m, in \u001b[0;36m<cell line: 6>\u001b[1;34m()\u001b[0m\n\u001b[0;32m      3\u001b[0m     var \u001b[38;5;241m=\u001b[39m var \u001b[38;5;241m+\u001b[39m \u001b[38;5;241m100\u001b[39m \n\u001b[0;32m      4\u001b[0m     \u001b[38;5;28mprint\u001b[39m(var)\n\u001b[1;32m----> 6\u001b[0m \u001b[43mf\u001b[49m\u001b[43m(\u001b[49m\u001b[43m)\u001b[49m\n",
      "Input \u001b[1;32mIn [25]\u001b[0m, in \u001b[0;36mf\u001b[1;34m()\u001b[0m\n\u001b[0;32m      2\u001b[0m \u001b[38;5;28;01mdef\u001b[39;00m \u001b[38;5;21mf\u001b[39m():\n\u001b[1;32m----> 3\u001b[0m     var \u001b[38;5;241m=\u001b[39m \u001b[43mvar\u001b[49m \u001b[38;5;241m+\u001b[39m \u001b[38;5;241m100\u001b[39m \n\u001b[0;32m      4\u001b[0m     \u001b[38;5;28mprint\u001b[39m(var)\n",
      "\u001b[1;31mUnboundLocalError\u001b[0m: local variable 'var' referenced before assignment"
     ]
    }
   ],
   "source": [
    "var = 100\n",
    "def f():\n",
    "    var = var + 100 \n",
    "    print(var)\n",
    "\n",
    "f()"
   ]
  },
  {
   "cell_type": "code",
   "execution_count": 26,
   "id": "c490764a",
   "metadata": {},
   "outputs": [
    {
     "ename": "UnboundLocalError",
     "evalue": "local variable 'var' referenced before assignment",
     "output_type": "error",
     "traceback": [
      "\u001b[1;31m---------------------------------------------------------------------------\u001b[0m",
      "\u001b[1;31mUnboundLocalError\u001b[0m                         Traceback (most recent call last)",
      "Input \u001b[1;32mIn [26]\u001b[0m, in \u001b[0;36m<cell line: 7>\u001b[1;34m()\u001b[0m\n\u001b[0;32m      4\u001b[0m     var \u001b[38;5;241m=\u001b[39m \u001b[38;5;241m200\u001b[39m\n\u001b[0;32m      5\u001b[0m     \u001b[38;5;28mprint\u001b[39m(var)\n\u001b[1;32m----> 7\u001b[0m \u001b[43mf\u001b[49m\u001b[43m(\u001b[49m\u001b[43m)\u001b[49m\n",
      "Input \u001b[1;32mIn [26]\u001b[0m, in \u001b[0;36mf\u001b[1;34m()\u001b[0m\n\u001b[0;32m      2\u001b[0m \u001b[38;5;28;01mdef\u001b[39;00m \u001b[38;5;21mf\u001b[39m():\n\u001b[1;32m----> 3\u001b[0m     \u001b[38;5;28mprint\u001b[39m(\u001b[43mvar\u001b[49m)\n\u001b[0;32m      4\u001b[0m     var \u001b[38;5;241m=\u001b[39m \u001b[38;5;241m200\u001b[39m\n\u001b[0;32m      5\u001b[0m     \u001b[38;5;28mprint\u001b[39m(var)\n",
      "\u001b[1;31mUnboundLocalError\u001b[0m: local variable 'var' referenced before assignment"
     ]
    }
   ],
   "source": [
    "var = 100\n",
    "def f():\n",
    "    print(var)\n",
    "    var = 200\n",
    "\n",
    "f()"
   ]
  },
  {
   "cell_type": "code",
   "execution_count": 27,
   "id": "ca411e7c",
   "metadata": {},
   "outputs": [
    {
     "name": "stdout",
     "output_type": "stream",
     "text": [
      "200\n"
     ]
    }
   ],
   "source": [
    "var = 100\n",
    "def f():\n",
    "    var = 200\n",
    "    print(var)\n",
    "\n",
    "f()"
   ]
  }
 ],
 "metadata": {
  "kernelspec": {
   "display_name": "LR",
   "language": "python",
   "name": "lr"
  },
  "language_info": {
   "codemirror_mode": {
    "name": "ipython",
    "version": 3
   },
   "file_extension": ".py",
   "mimetype": "text/x-python",
   "name": "python",
   "nbconvert_exporter": "python",
   "pygments_lexer": "ipython3",
   "version": "3.10.2"
  }
 },
 "nbformat": 4,
 "nbformat_minor": 5
}
