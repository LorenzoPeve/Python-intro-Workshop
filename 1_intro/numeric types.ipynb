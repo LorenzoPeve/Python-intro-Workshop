{
 "cells": [
  {
   "cell_type": "markdown",
   "id": "8a1ddbb4",
   "metadata": {},
   "source": [
    "# Numeric Types in Python and Operations"
   ]
  },
  {
   "cell_type": "markdown",
   "id": "d5068a58",
   "metadata": {},
   "source": [
    "https://docs.python.org/3/library/stdtypes.html#numeric-types-int-float-complex"
   ]
  },
  {
   "cell_type": "markdown",
   "id": "a8d61715",
   "metadata": {},
   "source": [
    " Python has three numeric types built into its syntax\n",
    "* Integers (int): `-3 , 0 , 42`\n",
    "    * Unlimited, arbitrary precision\n",
    " <pre>\n",
    "* Floating-Point Numbers (float): `-2.72 , 3.14` \\\n",
    "    Minimum: $-2.22 × 10^{308}$ \\\n",
    "    Maximum: $1.79 × 10^{308}$ \n",
    " <pre>\n",
    "* Complex Numbers: -0.744 + 0.132j"
   ]
  },
  {
   "cell_type": "markdown",
   "id": "16a509f4",
   "metadata": {},
   "source": [
    "## Integers"
   ]
  },
  {
   "cell_type": "code",
   "execution_count": 1,
   "id": "f3c9b3be",
   "metadata": {},
   "outputs": [],
   "source": [
    "favorite_number = 31"
   ]
  },
  {
   "cell_type": "code",
   "execution_count": 2,
   "id": "0466f85b",
   "metadata": {},
   "outputs": [
    {
     "data": {
      "text/plain": [
       "int"
      ]
     },
     "execution_count": 2,
     "metadata": {},
     "output_type": "execute_result"
    }
   ],
   "source": [
    "type(favorite_number)"
   ]
  },
  {
   "cell_type": "code",
   "execution_count": 15,
   "id": "376b540c",
   "metadata": {},
   "outputs": [],
   "source": [
    "negative_number = -7"
   ]
  },
  {
   "cell_type": "code",
   "execution_count": 3,
   "id": "a2015a13",
   "metadata": {},
   "outputs": [],
   "source": [
    "big_number = 10_000"
   ]
  },
  {
   "cell_type": "code",
   "execution_count": 5,
   "id": "6b68bbd7",
   "metadata": {},
   "outputs": [
    {
     "data": {
      "text/plain": [
       "42"
      ]
     },
     "execution_count": 5,
     "metadata": {},
     "output_type": "execute_result"
    }
   ],
   "source": [
    "int('42')"
   ]
  },
  {
   "cell_type": "code",
   "execution_count": 6,
   "id": "d1b53100",
   "metadata": {},
   "outputs": [
    {
     "data": {
      "text/plain": [
       "3"
      ]
     },
     "execution_count": 6,
     "metadata": {},
     "output_type": "execute_result"
    }
   ],
   "source": [
    "int(3.14) # It truncates and returns the whole part only. Try int(3.6)"
   ]
  },
  {
   "cell_type": "markdown",
   "id": "2329dc40",
   "metadata": {},
   "source": [
    "## Floating-Point Numbers"
   ]
  },
  {
   "cell_type": "markdown",
   "id": "da08dde6",
   "metadata": {},
   "source": [
    "`-4.2` \\\n",
    "`.42`\\\n",
    "`42.`\\\n",
    "`42_000_000.`"
   ]
  },
  {
   "cell_type": "code",
   "execution_count": 8,
   "id": "791543af",
   "metadata": {},
   "outputs": [
    {
     "data": {
      "text/plain": [
       "int"
      ]
     },
     "execution_count": 8,
     "metadata": {},
     "output_type": "execute_result"
    }
   ],
   "source": [
    "type(42)"
   ]
  },
  {
   "cell_type": "code",
   "execution_count": 9,
   "id": "e1aafbee",
   "metadata": {},
   "outputs": [
    {
     "data": {
      "text/plain": [
       "float"
      ]
     },
     "execution_count": 9,
     "metadata": {},
     "output_type": "execute_result"
    }
   ],
   "source": [
    "type(42.)"
   ]
  },
  {
   "cell_type": "code",
   "execution_count": 10,
   "id": "83a6ad87",
   "metadata": {},
   "outputs": [],
   "source": [
    "favorite_decimal_number = 7.11"
   ]
  },
  {
   "cell_type": "code",
   "execution_count": 27,
   "id": "a30f84aa",
   "metadata": {},
   "outputs": [
    {
     "data": {
      "text/plain": [
       "42.0"
      ]
     },
     "execution_count": 27,
     "metadata": {},
     "output_type": "execute_result"
    }
   ],
   "source": [
    "float('42')"
   ]
  },
  {
   "cell_type": "code",
   "execution_count": 28,
   "id": "cb2ba133",
   "metadata": {},
   "outputs": [
    {
     "data": {
      "text/plain": [
       "42.0"
      ]
     },
     "execution_count": 28,
     "metadata": {},
     "output_type": "execute_result"
    }
   ],
   "source": [
    "float(42) # Integer to float"
   ]
  },
  {
   "cell_type": "markdown",
   "id": "7421a4a5",
   "metadata": {},
   "source": [
    "#### Scientific Notation"
   ]
  },
  {
   "cell_type": "code",
   "execution_count": 13,
   "id": "f565529a",
   "metadata": {},
   "outputs": [
    {
     "data": {
      "text/plain": [
       "42000000.0"
      ]
     },
     "execution_count": 13,
     "metadata": {},
     "output_type": "execute_result"
    }
   ],
   "source": [
    "4.2e7"
   ]
  },
  {
   "cell_type": "code",
   "execution_count": 17,
   "id": "9e78674b",
   "metadata": {},
   "outputs": [
    {
     "data": {
      "text/plain": [
       "4.2e-07"
      ]
     },
     "execution_count": 17,
     "metadata": {},
     "output_type": "execute_result"
    }
   ],
   "source": [
    "4.2e-7"
   ]
  },
  {
   "cell_type": "markdown",
   "id": "f228f9e5",
   "metadata": {},
   "source": [
    "#### Special Values"
   ]
  },
  {
   "cell_type": "code",
   "execution_count": 18,
   "id": "6426cef7",
   "metadata": {},
   "outputs": [
    {
     "data": {
      "text/plain": [
       "-inf"
      ]
     },
     "execution_count": 18,
     "metadata": {},
     "output_type": "execute_result"
    }
   ],
   "source": [
    "float(\"-inf\")"
   ]
  },
  {
   "cell_type": "code",
   "execution_count": 20,
   "id": "06a88bf8",
   "metadata": {},
   "outputs": [
    {
     "data": {
      "text/plain": [
       "inf"
      ]
     },
     "execution_count": 20,
     "metadata": {},
     "output_type": "execute_result"
    }
   ],
   "source": [
    "float(\"inf\")"
   ]
  },
  {
   "cell_type": "code",
   "execution_count": 21,
   "id": "64f8a6a6",
   "metadata": {},
   "outputs": [
    {
     "data": {
      "text/plain": [
       "nan"
      ]
     },
     "execution_count": 21,
     "metadata": {},
     "output_type": "execute_result"
    }
   ],
   "source": [
    "float(\"nan\")"
   ]
  },
  {
   "cell_type": "markdown",
   "id": "ea9350e5",
   "metadata": {},
   "source": [
    "# Arithmetic Operators"
   ]
  },
  {
   "cell_type": "markdown",
   "id": "9e7d8f7b",
   "metadata": {},
   "source": [
    "Operations for both `float` and `int`:\n",
    "\n",
    "Addition: `5 + 2`\\\n",
    "Subtraction: `5 - 2`\\\n",
    "Multiplication: `5 * 2`\\\n",
    "Exponentiation: `5 ** 2`\\\n",
    "Division: `5 / 2`\\\n",
    "Integer or Floor Division: `5 // 2 ` \\\n",
    "Modulus: `5 % 2`\n",
    "\n",
    "Note: When you do operations between int and float Python will a return a floating-point number. "
   ]
  },
  {
   "cell_type": "code",
   "execution_count": 29,
   "id": "972e9149",
   "metadata": {},
   "outputs": [
    {
     "data": {
      "text/plain": [
       "2.5"
      ]
     },
     "execution_count": 29,
     "metadata": {},
     "output_type": "execute_result"
    }
   ],
   "source": [
    "5/2 # Always returns a float"
   ]
  },
  {
   "cell_type": "code",
   "execution_count": 30,
   "id": "c6df549a",
   "metadata": {},
   "outputs": [
    {
     "data": {
      "text/plain": [
       "2.0"
      ]
     },
     "execution_count": 30,
     "metadata": {},
     "output_type": "execute_result"
    }
   ],
   "source": [
    "4/2"
   ]
  },
  {
   "cell_type": "code",
   "execution_count": 31,
   "id": "7c46248a",
   "metadata": {},
   "outputs": [
    {
     "data": {
      "text/plain": [
       "2"
      ]
     },
     "execution_count": 31,
     "metadata": {},
     "output_type": "execute_result"
    }
   ],
   "source": [
    "5//2"
   ]
  },
  {
   "cell_type": "code",
   "execution_count": 32,
   "id": "64d2e6db",
   "metadata": {},
   "outputs": [
    {
     "data": {
      "text/plain": [
       "1"
      ]
     },
     "execution_count": 32,
     "metadata": {},
     "output_type": "execute_result"
    }
   ],
   "source": [
    "5 % 2"
   ]
  },
  {
   "cell_type": "code",
   "execution_count": 33,
   "id": "4d7d2741",
   "metadata": {},
   "outputs": [
    {
     "data": {
      "text/plain": [
       "7.0"
      ]
     },
     "execution_count": 33,
     "metadata": {},
     "output_type": "execute_result"
    }
   ],
   "source": [
    "2.3 + 4.7"
   ]
  },
  {
   "cell_type": "code",
   "execution_count": 35,
   "id": "dd7bfec1",
   "metadata": {},
   "outputs": [
    {
     "data": {
      "text/plain": [
       "8.0"
      ]
     },
     "execution_count": 35,
     "metadata": {},
     "output_type": "execute_result"
    }
   ],
   "source": [
    "2 ** 3.0"
   ]
  },
  {
   "cell_type": "code",
   "execution_count": 38,
   "id": "bfad51b6",
   "metadata": {
    "scrolled": true
   },
   "outputs": [
    {
     "ename": "ZeroDivisionError",
     "evalue": "division by zero",
     "output_type": "error",
     "traceback": [
      "\u001b[1;31m---------------------------------------------------------------------------\u001b[0m",
      "\u001b[1;31mZeroDivisionError\u001b[0m                         Traceback (most recent call last)",
      "Cell \u001b[1;32mIn [38], line 1\u001b[0m\n\u001b[1;32m----> 1\u001b[0m \u001b[38;5;241;43m5\u001b[39;49m\u001b[43m \u001b[49m\u001b[38;5;241;43m/\u001b[39;49m\u001b[43m \u001b[49m\u001b[38;5;241;43m0\u001b[39;49m\n",
      "\u001b[1;31mZeroDivisionError\u001b[0m: division by zero"
     ]
    }
   ],
   "source": [
    "5 / 0"
   ]
  },
  {
   "cell_type": "markdown",
   "id": "e20322ad",
   "metadata": {},
   "source": [
    "## Operators Precedence and Floating Point Imprecision"
   ]
  },
  {
   "cell_type": "code",
   "execution_count": 3,
   "id": "3796583a",
   "metadata": {},
   "outputs": [
    {
     "data": {
      "text/plain": [
       "14"
      ]
     },
     "execution_count": 3,
     "metadata": {},
     "output_type": "execute_result"
    }
   ],
   "source": [
    "2 + 3 *4 "
   ]
  },
  {
   "cell_type": "code",
   "execution_count": 4,
   "id": "63c08664",
   "metadata": {},
   "outputs": [
    {
     "data": {
      "text/plain": [
       "20"
      ]
     },
     "execution_count": 4,
     "metadata": {},
     "output_type": "execute_result"
    }
   ],
   "source": [
    "(2 + 3)*4 "
   ]
  },
  {
   "cell_type": "code",
   "execution_count": 41,
   "id": "4f6c5757",
   "metadata": {},
   "outputs": [
    {
     "data": {
      "text/plain": [
       "False"
      ]
     },
     "execution_count": 41,
     "metadata": {},
     "output_type": "execute_result"
    }
   ],
   "source": [
    "0.1 + 0.2 == 0.3 # Floating Point Imprecision"
   ]
  },
  {
   "cell_type": "code",
   "execution_count": 42,
   "id": "ee5c2672",
   "metadata": {},
   "outputs": [
    {
     "data": {
      "text/plain": [
       "0.30000000000000004"
      ]
     },
     "execution_count": 42,
     "metadata": {},
     "output_type": "execute_result"
    }
   ],
   "source": [
    "0.1 + 0.2  # "
   ]
  },
  {
   "cell_type": "code",
   "execution_count": 43,
   "id": "93e4ecc4",
   "metadata": {},
   "outputs": [
    {
     "data": {
      "text/plain": [
       "True"
      ]
     },
     "execution_count": 43,
     "metadata": {},
     "output_type": "execute_result"
    }
   ],
   "source": [
    "0.25 + 0.5 == 0.75"
   ]
  },
  {
   "cell_type": "markdown",
   "id": "c6c42020",
   "metadata": {},
   "source": [
    "## Math Functions"
   ]
  },
  {
   "cell_type": "markdown",
   "id": "fb6129f1",
   "metadata": {},
   "source": [
    "[math module](https://docs.python.org/3/library/math.html)"
   ]
  },
  {
   "cell_type": "code",
   "execution_count": 1,
   "id": "5c4f4abc",
   "metadata": {},
   "outputs": [
    {
     "name": "stdout",
     "output_type": "stream",
     "text": [
      "2\n",
      "3.142\n"
     ]
    }
   ],
   "source": [
    "print(round(2.3))\n",
    "print(round(3.1415, 3))"
   ]
  },
  {
   "cell_type": "code",
   "execution_count": 50,
   "id": "1bc204ae",
   "metadata": {},
   "outputs": [
    {
     "name": "stdout",
     "output_type": "stream",
     "text": [
      "42\n",
      "42\n"
     ]
    }
   ],
   "source": [
    "print(abs(42))\n",
    "print(abs(-42))"
   ]
  },
  {
   "cell_type": "code",
   "execution_count": 52,
   "id": "76418f15",
   "metadata": {},
   "outputs": [
    {
     "name": "stdout",
     "output_type": "stream",
     "text": [
      "8\n",
      "1.4142135623730951\n"
     ]
    }
   ],
   "source": [
    "print(pow(2, 3))\n",
    "print(pow(2, 0.5))"
   ]
  }
 ],
 "metadata": {
  "kernelspec": {
   "display_name": "python_workshop",
   "language": "python",
   "name": "python_workshop"
  },
  "language_info": {
   "codemirror_mode": {
    "name": "ipython",
    "version": 3
   },
   "file_extension": ".py",
   "mimetype": "text/x-python",
   "name": "python",
   "nbconvert_exporter": "python",
   "pygments_lexer": "ipython3",
   "version": "3.10.2"
  }
 },
 "nbformat": 4,
 "nbformat_minor": 5
}
