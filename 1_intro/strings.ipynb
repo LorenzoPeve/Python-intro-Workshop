{
 "cells": [
  {
   "attachments": {},
   "cell_type": "markdown",
   "id": "adc0668d",
   "metadata": {},
   "source": [
    "### What is a String?\n",
    "\n",
    "Strings are a **fundamental data** type used to represent text.\n",
    "* **Fundamental data type** can’t be broken into smaller values of a different type.\n",
    "* Unlike a compound data type, which are known as data structures\n",
    "\n",
    "The string data type has a special abbreviated name in Python: *str*"
   ]
  },
  {
   "cell_type": "code",
   "execution_count": 2,
   "id": "25986e58",
   "metadata": {},
   "outputs": [
    {
     "data": {
      "text/plain": [
       "str"
      ]
     },
     "execution_count": 2,
     "metadata": {},
     "output_type": "execute_result"
    }
   ],
   "source": [
    "my_name = 'Roger Federer'\n",
    "type(my_name)"
   ]
  },
  {
   "cell_type": "markdown",
   "id": "1e699036",
   "metadata": {
    "slideshow": {
     "slide_type": "slide"
    }
   },
   "source": [
    "### How to create a string?\n",
    "Either single quotes or double quotes can be used as long as the same type is used at the beginning and end of the string."
   ]
  },
  {
   "cell_type": "code",
   "execution_count": 8,
   "id": "0e3f551b",
   "metadata": {
    "slideshow": {
     "slide_type": "-"
    }
   },
   "outputs": [
    {
     "data": {
      "text/plain": [
       "True"
      ]
     },
     "execution_count": 8,
     "metadata": {},
     "output_type": "execute_result"
    }
   ],
   "source": [
    "string1 = 'Hello, World' # Single Quoted\n",
    "string2 = \"1234\"         # Double Quoted\n",
    "#string3 = 'Invalid String\" # Invalid\n",
    "\n",
    "type(string1) == type(string2)"
   ]
  },
  {
   "cell_type": "code",
   "execution_count": 30,
   "id": "4a35d7ce",
   "metadata": {
    "slideshow": {
     "slide_type": "fragment"
    }
   },
   "outputs": [],
   "source": [
    "message = \"I've said 17 is my favorite number.\""
   ]
  },
  {
   "cell_type": "markdown",
   "id": "9394e6de",
   "metadata": {
    "slideshow": {
     "slide_type": "slide"
    }
   },
   "source": [
    "*Long Strings*\n",
    "PEP 8 recommends each line of Python code contain no more than 79\n",
    "characters – including spaces"
   ]
  },
  {
   "cell_type": "code",
   "execution_count": 38,
   "id": "eafb4567",
   "metadata": {
    "slideshow": {
     "slide_type": "fragment"
    }
   },
   "outputs": [
    {
     "data": {
      "text/plain": [
       "'\"We\\'ll rent a car in Las Vegas and we\\'ll drive from Las Vegas through Mojave National Preserve and possibly do a short hike on our way down.\"'"
      ]
     },
     "execution_count": 38,
     "metadata": {},
     "output_type": "execute_result"
    }
   ],
   "source": [
    "string4 = '''Three single quotes'''\n",
    "string5 =\"\"\"Three double quotes\"\"\"\n",
    "\n",
    "message1 = \"\"\"We'll rent a car in Las Vegas and\n",
    "we'll drive from Las Vegas through Mojave National Preserve and \n",
    "possibly do a short hike on our way down.\"\"\"\n",
    "\n",
    "message2 = \"We'll rent a car in Las Vegas and \\\n",
    "we'll drive from Las Vegas through Mojave National Preserve and \\\n",
    "possibly do a short hike on our way down.\" \n",
    "\n",
    "# print(message1) # See all the newline characters\n",
    "# print(message2) \n",
    "\n",
    "repr(message1)\n",
    "repr(message2)\n",
    "\n",
    "# Syntax Error\n",
    "# message = \"We'll rent a car in Las Vegas and\n",
    "# we'll drive from Las Vegas through Mojave National Preserve and \n",
    "# possibly do a short hike on our way down.\""
   ]
  },
  {
   "cell_type": "code",
   "execution_count": 36,
   "id": "fd46f53b",
   "metadata": {
    "scrolled": true
   },
   "outputs": [
    {
     "name": "stdout",
     "output_type": "stream",
     "text": [
      "We'll rent a car in Las Vegas and we'll drive from Las Vegas through Mojave National Preserve and possibly do a short hike on our way down.\n"
     ]
    }
   ],
   "source": [
    "print(message2) "
   ]
  },
  {
   "cell_type": "markdown",
   "id": "4547d03c",
   "metadata": {},
   "source": [
    "#### Three Main properties\n",
    "\n",
    "Strings have three important properties:\n",
    "\n",
    "1. Contain individual letters or symbols (commas, colons, ?, any valid Unicode) called **characters**\n",
    "2. Have a **length** defined as the number of characters contained\n",
    "3. Characters in a string appear in a sequence. Each character has a\n",
    "numbered position called an **index**.\n"
   ]
  },
  {
   "cell_type": "code",
   "execution_count": 26,
   "id": "f35f165b",
   "metadata": {},
   "outputs": [
    {
     "name": "stdout",
     "output_type": "stream",
     "text": [
      "😀 😂\n"
     ]
    }
   ],
   "source": [
    "# Any Valid Unicode \n",
    "st1 = \"We're #1!!!!!\"\n",
    "st2 = \"1234\"\n",
    "st3 = \"×Pýŧħøŋ×\"\n",
    "st4 = \"\\U0001F600 \\U0001F602\" # Even emojis!\n",
    "print(st4)"
   ]
  },
  {
   "cell_type": "code",
   "execution_count": 28,
   "id": "800bc3a8",
   "metadata": {},
   "outputs": [
    {
     "data": {
      "text/plain": [
       "13"
      ]
     },
     "execution_count": 28,
     "metadata": {},
     "output_type": "execute_result"
    }
   ],
   "source": [
    "len('Roger Federer') "
   ]
  },
  {
   "cell_type": "code",
   "execution_count": 27,
   "id": "5ec5bc13",
   "metadata": {},
   "outputs": [
    {
     "name": "stdout",
     "output_type": "stream",
     "text": [
      "R\n",
      "r\n",
      "r\n"
     ]
    }
   ],
   "source": [
    "my_name = 'Roger Federer'\n",
    "print(my_name[0])\n",
    "print(my_name[4])\n",
    "print(my_name[-1])"
   ]
  },
  {
   "cell_type": "markdown",
   "id": "8b8d9793",
   "metadata": {},
   "source": [
    "## String Operations"
   ]
  },
  {
   "cell_type": "markdown",
   "id": "58e20d3a",
   "metadata": {},
   "source": [
    "#### Concatenation\n",
    "\n",
    "Concatenation joins two strings together\n",
    "* Use the + operator `string1 + string2`"
   ]
  },
  {
   "cell_type": "code",
   "execution_count": 42,
   "id": "c1064792",
   "metadata": {},
   "outputs": [
    {
     "data": {
      "text/plain": [
       "'abracadabra'"
      ]
     },
     "execution_count": 42,
     "metadata": {},
     "output_type": "execute_result"
    }
   ],
   "source": [
    "string1 = \"abra\"\n",
    "string2 = \"cadabra\"\n",
    "magic_string = string1 + string2\n",
    "magic_string"
   ]
  },
  {
   "cell_type": "code",
   "execution_count": 45,
   "id": "049f38c1",
   "metadata": {},
   "outputs": [
    {
     "data": {
      "text/plain": [
       "'Conor Mcgregor'"
      ]
     },
     "execution_count": 45,
     "metadata": {},
     "output_type": "execute_result"
    }
   ],
   "source": [
    "name = \"Conor\"\n",
    "lastname = \"Mcgregor\"\n",
    "fullname = name + \" \" + lastname\n",
    "fullname"
   ]
  },
  {
   "cell_type": "markdown",
   "id": "146cdf29",
   "metadata": {},
   "source": [
    "### Indexing\n",
    "\n",
    "Indexing gets a single character from a string\n",
    "* Place the index number inside a pair of square brackets after the string\n",
    "`my_string[3]`.\n",
    "* The index count starts with zero\n",
    " * Be careful of **off-by-one** errors\n",
    "* Negative Indexing is allowed"
   ]
  },
  {
   "cell_type": "markdown",
   "id": "e1d68845",
   "metadata": {},
   "source": [
    "<img src=\".\\images\\string_indexing.PNG\" width=300/>"
   ]
  },
  {
   "cell_type": "code",
   "execution_count": 58,
   "id": "05399aeb",
   "metadata": {},
   "outputs": [],
   "source": [
    "string1 = \"Python\"\n",
    "\n",
    "assert string1[5] == string1[-1]\n",
    "assert string1[-1] == string1[len(string1) - 1] # Negative indexing is convenient"
   ]
  },
  {
   "cell_type": "code",
   "execution_count": 59,
   "id": "ff969500",
   "metadata": {},
   "outputs": [
    {
     "data": {
      "text/plain": [
       "5"
      ]
     },
     "execution_count": 59,
     "metadata": {},
     "output_type": "execute_result"
    }
   ],
   "source": [
    "len(string1) - 1"
   ]
  },
  {
   "cell_type": "code",
   "execution_count": 66,
   "id": "5159c6eb",
   "metadata": {},
   "outputs": [
    {
     "ename": "IndexError",
     "evalue": "string index out of range",
     "output_type": "error",
     "traceback": [
      "\u001b[1;31m---------------------------------------------------------------------\u001b[0m",
      "\u001b[1;31mIndexError\u001b[0m                          Traceback (most recent call last)",
      "Cell \u001b[1;32mIn [66], line 1\u001b[0m\n\u001b[1;32m----> 1\u001b[0m \u001b[43mstring1\u001b[49m\u001b[43m[\u001b[49m\u001b[38;5;241;43m7\u001b[39;49m\u001b[43m]\u001b[49m\n",
      "\u001b[1;31mIndexError\u001b[0m: string index out of range"
     ]
    }
   ],
   "source": [
    "string1[7] # Showing an error in purpose"
   ]
  },
  {
   "cell_type": "markdown",
   "id": "d5639072",
   "metadata": {
    "slideshow": {
     "slide_type": "slide"
    }
   },
   "source": [
    "### Slicing\n",
    "\n",
    "To extract a portion of a string, called a substring\n",
    "\n",
    "* Insert a colon between two index numbers `my_string[0:4]`.\n",
    "* Omitting the index before the colon, starts with first character. `my_string[0:4] == my_string[:4]`\n",
    "* Omitting the index after the colon, ends with the last character"
   ]
  },
  {
   "cell_type": "code",
   "execution_count": 60,
   "id": "24869875",
   "metadata": {
    "slideshow": {
     "slide_type": "fragment"
    }
   },
   "outputs": [
    {
     "data": {
      "text/plain": [
       "'apple'"
      ]
     },
     "execution_count": 60,
     "metadata": {},
     "output_type": "execute_result"
    }
   ],
   "source": [
    "dessert = \"apple pie\"\n",
    "dessert[0:5]"
   ]
  },
  {
   "cell_type": "markdown",
   "id": "7fb23faf",
   "metadata": {
    "slideshow": {
     "slide_type": "fragment"
    }
   },
   "source": [
    "<font color='red'>A slice of `[x:y]` starts from the character at index `x` , and goes up to, but does not include the character at the index `y` .</font>"
   ]
  },
  {
   "cell_type": "code",
   "execution_count": 63,
   "id": "cb01cb6a",
   "metadata": {
    "slideshow": {
     "slide_type": "fragment"
    }
   },
   "outputs": [
    {
     "data": {
      "text/plain": [
       "'AUS'"
      ]
     },
     "execution_count": 63,
     "metadata": {},
     "output_type": "execute_result"
    }
   ],
   "source": [
    "great_city = 'AUSTIN'\n",
    "great_city[:3] "
   ]
  },
  {
   "cell_type": "markdown",
   "id": "3ac26555",
   "metadata": {
    "slideshow": {
     "slide_type": "fragment"
    }
   },
   "source": [
    "For slicing, indicies behave more like boundaries around characters"
   ]
  },
  {
   "cell_type": "markdown",
   "id": "71dc1cc3",
   "metadata": {
    "slideshow": {
     "slide_type": "fragment"
    }
   },
   "source": [
    "<img src=\".\\images\\string_slicing.PNG\" width=300/>"
   ]
  },
  {
   "cell_type": "code",
   "execution_count": null,
   "id": "f6c98428",
   "metadata": {},
   "outputs": [],
   "source": []
  },
  {
   "cell_type": "code",
   "execution_count": null,
   "id": "775008c9",
   "metadata": {},
   "outputs": [],
   "source": []
  },
  {
   "cell_type": "code",
   "execution_count": null,
   "id": "d5dd57b5",
   "metadata": {},
   "outputs": [],
   "source": []
  },
  {
   "cell_type": "markdown",
   "id": "2c29eb57",
   "metadata": {},
   "source": [
    "#### Concatenation, Indexing, and Slicing\n",
    "\n",
    "* Concatenation: Joins two strings together\n",
    "* Indexing: Gets a single character from a string\n",
    "* Slicing: Gets several characters from a string at once"
   ]
  },
  {
   "cell_type": "code",
   "execution_count": null,
   "id": "69bcc8e0",
   "metadata": {},
   "outputs": [],
   "source": []
  }
 ],
 "metadata": {
  "celltoolbar": "Slideshow",
  "kernelspec": {
   "display_name": "python_workshop",
   "language": "python",
   "name": "python_workshop"
  },
  "language_info": {
   "codemirror_mode": {
    "name": "ipython",
    "version": 3
   },
   "file_extension": ".py",
   "mimetype": "text/x-python",
   "name": "python",
   "nbconvert_exporter": "python",
   "pygments_lexer": "ipython3",
   "version": "3.10.2"
  }
 },
 "nbformat": 4,
 "nbformat_minor": 5
}
