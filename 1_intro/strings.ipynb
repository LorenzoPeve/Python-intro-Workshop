{
 "cells": [
  {
   "attachments": {},
   "cell_type": "markdown",
   "id": "31b2a20c",
   "metadata": {},
   "source": [
    "## What is a String?\n",
    "\n",
    "Strings are a **fundamental data** type used to represent text.\n",
    "* **Fundamental data type** can’t be broken into smaller values of a different type.\n",
    "* Unlike a compound data type, which are known as data structures\n",
    "\n",
    "The string data type has a special abbreviated name in Python: *str*"
   ]
  },
  {
   "cell_type": "code",
   "execution_count": 33,
   "id": "b0378c5e",
   "metadata": {},
   "outputs": [
    {
     "data": {
      "text/plain": [
       "str"
      ]
     },
     "execution_count": 33,
     "metadata": {},
     "output_type": "execute_result"
    }
   ],
   "source": [
    "my_name = 'Roger Federer'\n",
    "type(my_name)"
   ]
  },
  {
   "cell_type": "markdown",
   "id": "3783b8de",
   "metadata": {
    "slideshow": {
     "slide_type": "slide"
    }
   },
   "source": [
    "## How to create a string?\n",
    "Either single quotes or double quotes can be used as long as the same type is used at the beginning and end of the string."
   ]
  },
  {
   "cell_type": "code",
   "execution_count": 34,
   "id": "d87b4bc5",
   "metadata": {
    "slideshow": {
     "slide_type": "-"
    }
   },
   "outputs": [
    {
     "data": {
      "text/plain": [
       "True"
      ]
     },
     "execution_count": 34,
     "metadata": {},
     "output_type": "execute_result"
    }
   ],
   "source": [
    "string1 = 'Hello, World' # Single Quoted\n",
    "string2 = \"1234\"         # Double Quoted\n",
    "#string3 = 'Invalid String\" # Invalid\n",
    "\n",
    "type(string1) == type(string2)"
   ]
  },
  {
   "cell_type": "code",
   "execution_count": 35,
   "id": "e7ac6a1e",
   "metadata": {
    "slideshow": {
     "slide_type": "fragment"
    }
   },
   "outputs": [],
   "source": [
    "message = \"I've said 17 is my favorite number.\""
   ]
  },
  {
   "cell_type": "code",
   "execution_count": 36,
   "id": "003d991d",
   "metadata": {},
   "outputs": [],
   "source": [
    "empty_string = ''"
   ]
  },
  {
   "cell_type": "markdown",
   "id": "36b7e423",
   "metadata": {
    "slideshow": {
     "slide_type": "slide"
    }
   },
   "source": [
    "*Long Strings*\n",
    "PEP 8 recommends each line of Python code contain no more than 79\n",
    "characters – including spaces"
   ]
  },
  {
   "cell_type": "code",
   "execution_count": 37,
   "id": "9d7ddbea",
   "metadata": {
    "slideshow": {
     "slide_type": "fragment"
    }
   },
   "outputs": [
    {
     "data": {
      "text/plain": [
       "'\"We\\'ll rent a car in Las Vegas and we\\'ll drive from Las Vegas through Mojave National Preserve and possibly do a short hike on our way down.\"'"
      ]
     },
     "execution_count": 37,
     "metadata": {},
     "output_type": "execute_result"
    }
   ],
   "source": [
    "string4 = '''Three single quotes'''\n",
    "string5 =\"\"\"Three double quotes\"\"\"\n",
    "\n",
    "message1 = \"\"\"We'll rent a car in Las Vegas and\n",
    "we'll drive from Las Vegas through Mojave National Preserve and \n",
    "possibly do a short hike on our way down.\"\"\"\n",
    "\n",
    "message2 = \"We'll rent a car in Las Vegas and \\\n",
    "we'll drive from Las Vegas through Mojave National Preserve and \\\n",
    "possibly do a short hike on our way down.\" \n",
    "\n",
    "# print(message1) # See all the newline characters\n",
    "# print(message2) \n",
    "\n",
    "repr(message1)\n",
    "repr(message2)\n",
    "\n",
    "# Syntax Error\n",
    "# message = \"We'll rent a car in Las Vegas and\n",
    "# we'll drive from Las Vegas through Mojave National Preserve and \n",
    "# possibly do a short hike on our way down.\""
   ]
  },
  {
   "cell_type": "code",
   "execution_count": 38,
   "id": "6fcd7906",
   "metadata": {
    "scrolled": true
   },
   "outputs": [
    {
     "name": "stdout",
     "output_type": "stream",
     "text": [
      "We'll rent a car in Las Vegas and we'll drive from Las Vegas through Mojave National Preserve and possibly do a short hike on our way down.\n"
     ]
    }
   ],
   "source": [
    "print(message2) "
   ]
  },
  {
   "cell_type": "markdown",
   "id": "5d85a97b",
   "metadata": {},
   "source": [
    "## Four Main properties\n",
    "\n",
    "Strings have three important properties:\n",
    "\n",
    "1. Contain individual letters or symbols (commas, colons, ?, any valid Unicode) called **characters**\n",
    "2. Have a **length** defined as the number of characters contained\n",
    "3. Characters in a string appear in a sequence. Each character has a\n",
    "numbered position called an **index**.\n",
    "4. Strings are immutable (See below).\n"
   ]
  },
  {
   "cell_type": "code",
   "execution_count": 39,
   "id": "a921dca6",
   "metadata": {},
   "outputs": [
    {
     "name": "stdout",
     "output_type": "stream",
     "text": [
      "😀 😂\n"
     ]
    }
   ],
   "source": [
    "# Any Valid Unicode \n",
    "st1 = \"We're #1!!!!!\"\n",
    "st2 = \"1234\"\n",
    "st3 = \"×Pýŧħøŋ×\"\n",
    "st4 = \"\\U0001F600 \\U0001F602\" # Even emojis!\n",
    "print(st4)"
   ]
  },
  {
   "cell_type": "code",
   "execution_count": 40,
   "id": "d8bcf553",
   "metadata": {},
   "outputs": [
    {
     "data": {
      "text/plain": [
       "13"
      ]
     },
     "execution_count": 40,
     "metadata": {},
     "output_type": "execute_result"
    }
   ],
   "source": [
    "len('Roger Federer') "
   ]
  },
  {
   "cell_type": "code",
   "execution_count": 41,
   "id": "41c8ab30",
   "metadata": {},
   "outputs": [
    {
     "name": "stdout",
     "output_type": "stream",
     "text": [
      "R\n",
      "r\n",
      "r\n"
     ]
    }
   ],
   "source": [
    "my_name = 'Roger Federer'\n",
    "print(my_name[0])\n",
    "print(my_name[4])\n",
    "print(my_name[-1])"
   ]
  },
  {
   "cell_type": "markdown",
   "id": "7ba496d3",
   "metadata": {},
   "source": [
    "## String Operations"
   ]
  },
  {
   "cell_type": "markdown",
   "id": "bef35908",
   "metadata": {},
   "source": [
    "### Concatenation\n",
    "\n",
    "Concatenation joins two strings together\n",
    "* Use the + operator `string1 + string2`"
   ]
  },
  {
   "cell_type": "code",
   "execution_count": 42,
   "id": "eb10484f",
   "metadata": {},
   "outputs": [
    {
     "data": {
      "text/plain": [
       "'abracadabra'"
      ]
     },
     "execution_count": 42,
     "metadata": {},
     "output_type": "execute_result"
    }
   ],
   "source": [
    "string1 = \"abra\"\n",
    "string2 = \"cadabra\"\n",
    "magic_string = string1 + string2\n",
    "magic_string"
   ]
  },
  {
   "cell_type": "code",
   "execution_count": 10,
   "id": "2319f6ca",
   "metadata": {},
   "outputs": [
    {
     "data": {
      "text/plain": [
       "'Conor Mcgregor'"
      ]
     },
     "execution_count": 10,
     "metadata": {},
     "output_type": "execute_result"
    }
   ],
   "source": [
    "name = \"Conor\"\n",
    "lastname = \"Mcgregor\"\n",
    "fullname = name + \" \" + lastname\n",
    "fullname"
   ]
  },
  {
   "cell_type": "markdown",
   "id": "574d378e",
   "metadata": {},
   "source": [
    "### Indexing\n",
    "\n",
    "Indexing gets a single character from a string\n",
    "* Place the index number inside a pair of square brackets after the string\n",
    "`my_string[3]`.\n",
    "* The index count starts with zero\n",
    " * Be careful of **off-by-one** errors\n",
    "* Negative Indexing is allowed"
   ]
  },
  {
   "cell_type": "markdown",
   "id": "6d9f0ada",
   "metadata": {},
   "source": [
    "<img src=\".\\images\\string_indexing.PNG\" width=300/>"
   ]
  },
  {
   "cell_type": "code",
   "execution_count": 11,
   "id": "ed78b60d",
   "metadata": {},
   "outputs": [],
   "source": [
    "string1 = \"Python\"\n",
    "\n",
    "assert string1[5] == string1[-1]\n",
    "assert string1[-1] == string1[len(string1) - 1] # Negative indexing is convenient"
   ]
  },
  {
   "cell_type": "code",
   "execution_count": 12,
   "id": "e2067d2c",
   "metadata": {},
   "outputs": [
    {
     "data": {
      "text/plain": [
       "5"
      ]
     },
     "execution_count": 12,
     "metadata": {},
     "output_type": "execute_result"
    }
   ],
   "source": [
    "len(string1) - 1"
   ]
  },
  {
   "cell_type": "code",
   "execution_count": 13,
   "id": "3209e58b",
   "metadata": {},
   "outputs": [
    {
     "ename": "IndexError",
     "evalue": "string index out of range",
     "output_type": "error",
     "traceback": [
      "\u001b[1;31m---------------------------------------------------------------------\u001b[0m",
      "\u001b[1;31mIndexError\u001b[0m                          Traceback (most recent call last)",
      "Cell \u001b[1;32mIn [13], line 1\u001b[0m\n\u001b[1;32m----> 1\u001b[0m \u001b[43mstring1\u001b[49m\u001b[43m[\u001b[49m\u001b[38;5;241;43m7\u001b[39;49m\u001b[43m]\u001b[49m\n",
      "\u001b[1;31mIndexError\u001b[0m: string index out of range"
     ]
    }
   ],
   "source": [
    "string1[7] # Showing an error in purpose"
   ]
  },
  {
   "cell_type": "markdown",
   "id": "31dfd2c4",
   "metadata": {
    "slideshow": {
     "slide_type": "slide"
    }
   },
   "source": [
    "### Slicing\n",
    "\n",
    "To extract a portion of a string, called a substring\n",
    "\n",
    "* Insert a colon between two index numbers `my_string[0:5]`.\n",
    " * <font color='red'>A slice of `[x:y]` starts from the character at index `x` , and goes up to, but does not include the character at the index `y` .</font>\n",
    " \n",
    " \n",
    "* Omitting the index before the colon, starts with first character. `my_string[0:4] == my_string[:4]`\n",
    "* Omitting the index after the colon, ends with the last character.`my_string[3:9] == my_string[3:]`\n",
    "* Omitting both indexes returns the whole string `my_string[:]`.\n",
    "* Negative slicing is possible"
   ]
  },
  {
   "cell_type": "code",
   "execution_count": null,
   "id": "1b418707",
   "metadata": {},
   "outputs": [],
   "source": [
    "my_string[0:5]"
   ]
  },
  {
   "cell_type": "code",
   "execution_count": 17,
   "id": "9d833246",
   "metadata": {
    "slideshow": {
     "slide_type": "fragment"
    }
   },
   "outputs": [
    {
     "name": "stdout",
     "output_type": "stream",
     "text": [
      "apple\n",
      "pie\n"
     ]
    }
   ],
   "source": [
    "dessert = \"apple pie\"\n",
    "print(dessert[0:5])\n",
    "print(dessert[6:9])"
   ]
  },
  {
   "cell_type": "code",
   "execution_count": 19,
   "id": "ee8dfa7c",
   "metadata": {},
   "outputs": [],
   "source": [
    "assert dessert[0:5] == dessert[:5]\n",
    "assert dessert[6:9] == dessert[6:]"
   ]
  },
  {
   "cell_type": "code",
   "execution_count": 23,
   "id": "e38f46f9",
   "metadata": {},
   "outputs": [
    {
     "data": {
      "text/plain": [
       "''"
      ]
     },
     "execution_count": 23,
     "metadata": {},
     "output_type": "execute_result"
    }
   ],
   "source": [
    "# dessert[10] # This is an IndexError\n",
    "dessert[100:140] # This is not an Error. Simply returns an empty string"
   ]
  },
  {
   "cell_type": "code",
   "execution_count": null,
   "id": "c5b1280e",
   "metadata": {
    "slideshow": {
     "slide_type": "fragment"
    }
   },
   "outputs": [],
   "source": [
    "great_city = 'AUSTIN'\n",
    "great_city[:3] "
   ]
  },
  {
   "cell_type": "markdown",
   "id": "820c5378",
   "metadata": {
    "slideshow": {
     "slide_type": "fragment"
    }
   },
   "source": [
    "For slicing, indicies behave more like boundaries around characters"
   ]
  },
  {
   "cell_type": "markdown",
   "id": "c20b63c3",
   "metadata": {
    "slideshow": {
     "slide_type": "fragment"
    }
   },
   "source": [
    "<img src=\".\\images\\string_slicing.PNG\" width=300/>"
   ]
  },
  {
   "cell_type": "markdown",
   "id": "3ee6b17b",
   "metadata": {},
   "source": [
    "Negative Slicing"
   ]
  },
  {
   "cell_type": "code",
   "execution_count": 26,
   "id": "d8207049",
   "metadata": {},
   "outputs": [
    {
     "data": {
      "text/plain": [
       "'this_is_a_report'"
      ]
     },
     "execution_count": 26,
     "metadata": {},
     "output_type": "execute_result"
    }
   ],
   "source": [
    "filename = 'this_is_a_report.pdf'\n",
    "filename[:-4]"
   ]
  },
  {
   "cell_type": "code",
   "execution_count": 32,
   "id": "32cba941",
   "metadata": {},
   "outputs": [
    {
     "data": {
      "text/plain": [
       "'is_a_report'"
      ]
     },
     "execution_count": 32,
     "metadata": {},
     "output_type": "execute_result"
    }
   ],
   "source": [
    "filename[-15:-4] # Works but kind of nonsense"
   ]
  },
  {
   "cell_type": "markdown",
   "id": "4deaaa10",
   "metadata": {},
   "source": [
    "## String are immutable\n",
    "\n",
    "* To alter a string, you must create a new one"
   ]
  },
  {
   "cell_type": "code",
   "execution_count": 44,
   "id": "e3db7529",
   "metadata": {},
   "outputs": [
    {
     "ename": "TypeError",
     "evalue": "'str' object does not support item assignment",
     "output_type": "error",
     "traceback": [
      "\u001b[1;31m---------------------------------------------------------------------\u001b[0m",
      "\u001b[1;31mTypeError\u001b[0m                           Traceback (most recent call last)",
      "Cell \u001b[1;32mIn [44], line 2\u001b[0m\n\u001b[0;32m      1\u001b[0m word \u001b[38;5;241m=\u001b[39m \u001b[38;5;124m'\u001b[39m\u001b[38;5;124mboil\u001b[39m\u001b[38;5;124m'\u001b[39m\n\u001b[1;32m----> 2\u001b[0m \u001b[43mword\u001b[49m\u001b[43m[\u001b[49m\u001b[38;5;241;43m0\u001b[39;49m\u001b[43m]\u001b[49m \u001b[38;5;241m=\u001b[39m \u001b[38;5;124m'\u001b[39m\u001b[38;5;124ms\u001b[39m\u001b[38;5;124m'\u001b[39m\n",
      "\u001b[1;31mTypeError\u001b[0m: 'str' object does not support item assignment"
     ]
    }
   ],
   "source": [
    "word = 'boil'\n",
    "word[0] = 's'"
   ]
  },
  {
   "cell_type": "code",
   "execution_count": 46,
   "id": "1f6071bf",
   "metadata": {},
   "outputs": [
    {
     "data": {
      "text/plain": [
       "'soil'"
      ]
     },
     "execution_count": 46,
     "metadata": {},
     "output_type": "execute_result"
    }
   ],
   "source": [
    "word = 'boil'\n",
    "word = 's'  + word[1:] # Or simply word = 'soil'\n",
    "word"
   ]
  },
  {
   "cell_type": "code",
   "execution_count": null,
   "id": "5943d14f",
   "metadata": {},
   "outputs": [],
   "source": []
  }
 ],
 "metadata": {
  "kernelspec": {
   "display_name": "python_workshop",
   "language": "python",
   "name": "python_workshop"
  },
  "language_info": {
   "codemirror_mode": {
    "name": "ipython",
    "version": 3
   },
   "file_extension": ".py",
   "mimetype": "text/x-python",
   "name": "python",
   "nbconvert_exporter": "python",
   "pygments_lexer": "ipython3",
   "version": "3.10.2"
  }
 },
 "nbformat": 4,
 "nbformat_minor": 5
}
