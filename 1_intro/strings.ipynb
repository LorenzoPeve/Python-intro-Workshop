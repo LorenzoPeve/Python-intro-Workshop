{
 "cells": [
  {
   "cell_type": "markdown",
   "id": "74f74c59",
   "metadata": {},
   "source": [
    "## What is a `String`?\n",
    "\n",
    "Strings are a **fundamental data** type used to represent text.\n",
    "* **Fundamental data type** can’t be broken into smaller values of a different type.\n",
    "* Unlike a compound data type, which are known as data structures\n",
    "\n",
    "The string data type has a special abbreviated name in Python: *str*"
   ]
  },
  {
   "cell_type": "code",
   "execution_count": 33,
   "id": "84f7170e",
   "metadata": {},
   "outputs": [
    {
     "data": {
      "text/plain": [
       "str"
      ]
     },
     "execution_count": 33,
     "metadata": {},
     "output_type": "execute_result"
    }
   ],
   "source": [
    "my_name = 'Roger Federer'\n",
    "type(my_name)"
   ]
  },
  {
   "cell_type": "markdown",
   "id": "3b6039e6",
   "metadata": {
    "slideshow": {
     "slide_type": "slide"
    }
   },
   "source": [
    "## How to create a string?\n",
    "Either single quotes or double quotes can be used as long as the same type is used at the beginning and end of the string."
   ]
  },
  {
   "cell_type": "code",
   "execution_count": 34,
   "id": "0c2fbbe0",
   "metadata": {
    "slideshow": {
     "slide_type": "-"
    }
   },
   "outputs": [
    {
     "data": {
      "text/plain": [
       "True"
      ]
     },
     "execution_count": 34,
     "metadata": {},
     "output_type": "execute_result"
    }
   ],
   "source": [
    "string1 = 'Hello, World' # Single Quoted\n",
    "string2 = \"1234\"         # Double Quoted\n",
    "#string3 = 'Invalid String\" # Invalid\n",
    "\n",
    "type(string1) == type(string2)"
   ]
  },
  {
   "cell_type": "code",
   "execution_count": 35,
   "id": "b7b5a48f",
   "metadata": {
    "slideshow": {
     "slide_type": "fragment"
    }
   },
   "outputs": [],
   "source": [
    "message = \"I've said 17 is my favorite number.\""
   ]
  },
  {
   "cell_type": "code",
   "execution_count": 36,
   "id": "35410f4d",
   "metadata": {},
   "outputs": [],
   "source": [
    "empty_string = ''"
   ]
  },
  {
   "cell_type": "markdown",
   "id": "13438d69",
   "metadata": {
    "slideshow": {
     "slide_type": "slide"
    }
   },
   "source": [
    "*Long Strings*\n",
    "PEP 8 recommends each line of Python code contain no more than 79\n",
    "characters – including spaces"
   ]
  },
  {
   "cell_type": "code",
   "execution_count": 37,
   "id": "06f1c60a",
   "metadata": {
    "slideshow": {
     "slide_type": "fragment"
    }
   },
   "outputs": [
    {
     "data": {
      "text/plain": [
       "'\"We\\'ll rent a car in Las Vegas and we\\'ll drive from Las Vegas through Mojave National Preserve and possibly do a short hike on our way down.\"'"
      ]
     },
     "execution_count": 37,
     "metadata": {},
     "output_type": "execute_result"
    }
   ],
   "source": [
    "string4 = '''Three single quotes'''\n",
    "string5 =\"\"\"Three double quotes\"\"\"\n",
    "\n",
    "message1 = \"\"\"We'll rent a car in Las Vegas and\n",
    "we'll drive from Las Vegas through Mojave National Preserve and \n",
    "possibly do a short hike on our way down.\"\"\"\n",
    "\n",
    "message2 = \"We'll rent a car in Las Vegas and \\\n",
    "we'll drive from Las Vegas through Mojave National Preserve and \\\n",
    "possibly do a short hike on our way down.\" \n",
    "\n",
    "# print(message1) # See all the newline characters\n",
    "# print(message2) \n",
    "\n",
    "repr(message1)\n",
    "repr(message2)\n",
    "\n",
    "# Syntax Error\n",
    "# message = \"We'll rent a car in Las Vegas and\n",
    "# we'll drive from Las Vegas through Mojave National Preserve and \n",
    "# possibly do a short hike on our way down.\""
   ]
  },
  {
   "cell_type": "code",
   "execution_count": 38,
   "id": "3bfcf3a6",
   "metadata": {
    "scrolled": true
   },
   "outputs": [
    {
     "name": "stdout",
     "output_type": "stream",
     "text": [
      "We'll rent a car in Las Vegas and we'll drive from Las Vegas through Mojave National Preserve and possibly do a short hike on our way down.\n"
     ]
    }
   ],
   "source": [
    "print(message2) "
   ]
  },
  {
   "cell_type": "markdown",
   "id": "12f771ea",
   "metadata": {},
   "source": [
    "## Four Main properties\n",
    "\n",
    "Strings have four important properties:\n",
    "\n",
    "1. Contain individual letters or symbols (commas, colons, ?, any valid Unicode) called **characters**\n",
    "2. Have a **length** defined as the number of characters contained\n",
    "3. Characters in a string appear in a sequence. Each character has a\n",
    "numbered position called an **index**.\n",
    "4. Strings are immutable (See below).\n"
   ]
  },
  {
   "cell_type": "code",
   "execution_count": 39,
   "id": "ddffcd60",
   "metadata": {},
   "outputs": [
    {
     "name": "stdout",
     "output_type": "stream",
     "text": [
      "😀 😂\n"
     ]
    }
   ],
   "source": [
    "# Any Valid Unicode \n",
    "st1 = \"We're #1!!!!!\"\n",
    "st2 = \"1234\"\n",
    "st3 = \"×Pýŧħøŋ×\"\n",
    "st4 = \"\\U0001F600 \\U0001F602\" # Even emojis!\n",
    "print(st4)"
   ]
  },
  {
   "cell_type": "code",
   "execution_count": 40,
   "id": "94ff3287",
   "metadata": {},
   "outputs": [
    {
     "data": {
      "text/plain": [
       "13"
      ]
     },
     "execution_count": 40,
     "metadata": {},
     "output_type": "execute_result"
    }
   ],
   "source": [
    "len('Roger Federer') "
   ]
  },
  {
   "cell_type": "code",
   "execution_count": 41,
   "id": "33c01150",
   "metadata": {},
   "outputs": [
    {
     "name": "stdout",
     "output_type": "stream",
     "text": [
      "R\n",
      "r\n",
      "r\n"
     ]
    }
   ],
   "source": [
    "my_name = 'Roger Federer'\n",
    "print(my_name[0])\n",
    "print(my_name[4])\n",
    "print(my_name[-1])"
   ]
  },
  {
   "cell_type": "markdown",
   "id": "498dfb03",
   "metadata": {},
   "source": [
    "## String Operations"
   ]
  },
  {
   "cell_type": "markdown",
   "id": "beb3be8d",
   "metadata": {},
   "source": [
    "### Concatenation\n",
    "\n",
    "Joining strings together\n",
    "* The + operator concatenates two strings together `string1 + string2`\n",
    "* The * operator with a integer concatenates multiple copies of a string\n"
   ]
  },
  {
   "cell_type": "code",
   "execution_count": 42,
   "id": "879701c4",
   "metadata": {},
   "outputs": [
    {
     "data": {
      "text/plain": [
       "'abracadabra'"
      ]
     },
     "execution_count": 42,
     "metadata": {},
     "output_type": "execute_result"
    }
   ],
   "source": [
    "string1 = \"abra\"\n",
    "string2 = \"cadabra\"\n",
    "magic_string = string1 + string2\n",
    "magic_string"
   ]
  },
  {
   "cell_type": "code",
   "execution_count": 10,
   "id": "db17147f",
   "metadata": {},
   "outputs": [
    {
     "data": {
      "text/plain": [
       "'Conor Mcgregor'"
      ]
     },
     "execution_count": 10,
     "metadata": {},
     "output_type": "execute_result"
    }
   ],
   "source": [
    "name = \"Conor\"\n",
    "lastname = \"Mcgregor\"\n",
    "fullname = name + \" \" + lastname\n",
    "fullname"
   ]
  },
  {
   "cell_type": "code",
   "execution_count": 15,
   "id": "5e648e29",
   "metadata": {},
   "outputs": [
    {
     "data": {
      "text/plain": [
       "'myhousemyhousemyhouse'"
      ]
     },
     "execution_count": 15,
     "metadata": {},
     "output_type": "execute_result"
    }
   ],
   "source": [
    "'myhouse' * 3"
   ]
  },
  {
   "cell_type": "code",
   "execution_count": 16,
   "id": "e69bbd50",
   "metadata": {},
   "outputs": [
    {
     "ename": "TypeError",
     "evalue": "can't multiply sequence by non-int of type 'str'",
     "output_type": "error",
     "traceback": [
      "\u001b[1;31m---------------------------------------------------------------------------\u001b[0m",
      "\u001b[1;31mTypeError\u001b[0m                                 Traceback (most recent call last)",
      "Cell \u001b[1;32mIn [16], line 1\u001b[0m\n\u001b[1;32m----> 1\u001b[0m \u001b[38;5;124;43m'\u001b[39;49m\u001b[38;5;124;43mmyhouse\u001b[39;49m\u001b[38;5;124;43m'\u001b[39;49m\u001b[43m \u001b[49m\u001b[38;5;241;43m*\u001b[39;49m\u001b[43m \u001b[49m\u001b[38;5;124;43m\"\u001b[39;49m\u001b[38;5;124;43m3\u001b[39;49m\u001b[38;5;124;43m\"\u001b[39;49m\n",
      "\u001b[1;31mTypeError\u001b[0m: can't multiply sequence by non-int of type 'str'"
     ]
    }
   ],
   "source": [
    "'myhouse' * \"3\" # An error in purpose"
   ]
  },
  {
   "cell_type": "markdown",
   "id": "173737b4",
   "metadata": {},
   "source": [
    "### Indexing\n",
    "\n",
    "Indexing gets a single character from a string\n",
    "* Place the index number inside a pair of square brackets after the string\n",
    "`my_string[3]`.\n",
    "* The index count starts with zero\n",
    " * Be careful of **off-by-one** errors\n",
    "* Negative Indexing is allowed"
   ]
  },
  {
   "cell_type": "markdown",
   "id": "f73aed28",
   "metadata": {},
   "source": [
    "<img src=\".\\images\\string_indexing.PNG\" width=300/>"
   ]
  },
  {
   "cell_type": "code",
   "execution_count": 11,
   "id": "75efd820",
   "metadata": {},
   "outputs": [],
   "source": [
    "string1 = \"Python\"\n",
    "\n",
    "assert string1[5] == string1[-1]\n",
    "assert string1[-1] == string1[len(string1) - 1] # Negative indexing is convenient"
   ]
  },
  {
   "cell_type": "code",
   "execution_count": 12,
   "id": "dba1a28a",
   "metadata": {},
   "outputs": [
    {
     "data": {
      "text/plain": [
       "5"
      ]
     },
     "execution_count": 12,
     "metadata": {},
     "output_type": "execute_result"
    }
   ],
   "source": [
    "len(string1) - 1"
   ]
  },
  {
   "cell_type": "code",
   "execution_count": 13,
   "id": "2e4bd282",
   "metadata": {},
   "outputs": [
    {
     "ename": "IndexError",
     "evalue": "string index out of range",
     "output_type": "error",
     "traceback": [
      "\u001b[1;31m---------------------------------------------------------------------\u001b[0m",
      "\u001b[1;31mIndexError\u001b[0m                          Traceback (most recent call last)",
      "Cell \u001b[1;32mIn [13], line 1\u001b[0m\n\u001b[1;32m----> 1\u001b[0m \u001b[43mstring1\u001b[49m\u001b[43m[\u001b[49m\u001b[38;5;241;43m7\u001b[39;49m\u001b[43m]\u001b[49m\n",
      "\u001b[1;31mIndexError\u001b[0m: string index out of range"
     ]
    }
   ],
   "source": [
    "string1[7] # Showing an error in purpose"
   ]
  },
  {
   "cell_type": "markdown",
   "id": "1c2cad68",
   "metadata": {
    "slideshow": {
     "slide_type": "slide"
    }
   },
   "source": [
    "### Slicing\n",
    "\n",
    "To extract a portion of a string, called a substring\n",
    "\n",
    "* Insert a colon between two index numbers `my_string[0:5]`.\n",
    " * <font color='red'>A slice of `[x:y]` starts from the character at index `x` , and goes up to, but does not include the character at the index `y` .</font>\n",
    " \n",
    " \n",
    "* Omitting the index before the colon, starts with first character. `my_string[0:4] == my_string[:4]`\n",
    "* Omitting the index after the colon, ends with the last character.`my_string[3:9] == my_string[3:]`\n",
    "* Omitting both indexes returns the whole string `my_string[:]`.\n",
    "* Negative slicing is possible"
   ]
  },
  {
   "cell_type": "code",
   "execution_count": 29,
   "id": "7e31da85",
   "metadata": {
    "slideshow": {
     "slide_type": "fragment"
    }
   },
   "outputs": [
    {
     "name": "stdout",
     "output_type": "stream",
     "text": [
      "apple\n",
      "pie\n"
     ]
    }
   ],
   "source": [
    "dessert = \"apple pie\"\n",
    "print(dessert[0:5])\n",
    "print(dessert[6:9])"
   ]
  },
  {
   "cell_type": "code",
   "execution_count": 31,
   "id": "49697a57",
   "metadata": {},
   "outputs": [
    {
     "data": {
      "text/plain": [
       "' pie'"
      ]
     },
     "execution_count": 31,
     "metadata": {},
     "output_type": "execute_result"
    }
   ],
   "source": [
    " dessert[5:25]"
   ]
  },
  {
   "cell_type": "code",
   "execution_count": 30,
   "id": "b1cabe78",
   "metadata": {},
   "outputs": [
    {
     "data": {
      "text/plain": [
       "'apple pie'"
      ]
     },
     "execution_count": 30,
     "metadata": {},
     "output_type": "execute_result"
    }
   ],
   "source": [
    "dessert[:5] + dessert[5:]"
   ]
  },
  {
   "cell_type": "code",
   "execution_count": 19,
   "id": "c236dc95",
   "metadata": {},
   "outputs": [],
   "source": [
    "assert dessert[0:5] == dessert[:5]\n",
    "assert dessert[6:9] == dessert[6:]"
   ]
  },
  {
   "cell_type": "code",
   "execution_count": 23,
   "id": "5eb59d53",
   "metadata": {},
   "outputs": [
    {
     "data": {
      "text/plain": [
       "''"
      ]
     },
     "execution_count": 23,
     "metadata": {},
     "output_type": "execute_result"
    }
   ],
   "source": [
    "# dessert[10] # This is an IndexError\n",
    "dessert[100:140] # This is not an Error. Simply returns an empty string"
   ]
  },
  {
   "cell_type": "code",
   "execution_count": null,
   "id": "0a479f27",
   "metadata": {
    "slideshow": {
     "slide_type": "fragment"
    }
   },
   "outputs": [],
   "source": [
    "great_city = 'AUSTIN'\n",
    "great_city[:3] "
   ]
  },
  {
   "cell_type": "markdown",
   "id": "bda5f374",
   "metadata": {
    "slideshow": {
     "slide_type": "fragment"
    }
   },
   "source": [
    "For slicing, indices behave more like boundaries around characters"
   ]
  },
  {
   "cell_type": "markdown",
   "id": "c684f517",
   "metadata": {
    "slideshow": {
     "slide_type": "fragment"
    }
   },
   "source": [
    "<img src=\".\\images\\string_slicing.PNG\" width=300/>"
   ]
  },
  {
   "cell_type": "markdown",
   "id": "2410cc7b",
   "metadata": {},
   "source": [
    "Negative Slicing"
   ]
  },
  {
   "cell_type": "code",
   "execution_count": 26,
   "id": "59deffbe",
   "metadata": {},
   "outputs": [
    {
     "data": {
      "text/plain": [
       "'this_is_a_report'"
      ]
     },
     "execution_count": 26,
     "metadata": {},
     "output_type": "execute_result"
    }
   ],
   "source": [
    "filename = 'this_is_a_report.pdf'\n",
    "filename[:-4]"
   ]
  },
  {
   "cell_type": "code",
   "execution_count": 32,
   "id": "42c3593c",
   "metadata": {},
   "outputs": [
    {
     "data": {
      "text/plain": [
       "'is_a_report'"
      ]
     },
     "execution_count": 32,
     "metadata": {},
     "output_type": "execute_result"
    }
   ],
   "source": [
    "filename[-15:-4] # Works but kind of nonsense"
   ]
  },
  {
   "cell_type": "markdown",
   "id": "362f97ce",
   "metadata": {},
   "source": [
    "## String are immutable\n",
    "\n",
    "* To alter a string, you must create a new one\n",
    "* This creates a new string object through assignment"
   ]
  },
  {
   "cell_type": "code",
   "execution_count": 44,
   "id": "7bde93ac",
   "metadata": {},
   "outputs": [
    {
     "ename": "TypeError",
     "evalue": "'str' object does not support item assignment",
     "output_type": "error",
     "traceback": [
      "\u001b[1;31m---------------------------------------------------------------------\u001b[0m",
      "\u001b[1;31mTypeError\u001b[0m                           Traceback (most recent call last)",
      "Cell \u001b[1;32mIn [44], line 2\u001b[0m\n\u001b[0;32m      1\u001b[0m word \u001b[38;5;241m=\u001b[39m \u001b[38;5;124m'\u001b[39m\u001b[38;5;124mboil\u001b[39m\u001b[38;5;124m'\u001b[39m\n\u001b[1;32m----> 2\u001b[0m \u001b[43mword\u001b[49m\u001b[43m[\u001b[49m\u001b[38;5;241;43m0\u001b[39;49m\u001b[43m]\u001b[49m \u001b[38;5;241m=\u001b[39m \u001b[38;5;124m'\u001b[39m\u001b[38;5;124ms\u001b[39m\u001b[38;5;124m'\u001b[39m\n",
      "\u001b[1;31mTypeError\u001b[0m: 'str' object does not support item assignment"
     ]
    }
   ],
   "source": [
    "word = 'boil'\n",
    "word[0] = 's'"
   ]
  },
  {
   "cell_type": "code",
   "execution_count": 46,
   "id": "67aad689",
   "metadata": {},
   "outputs": [
    {
     "data": {
      "text/plain": [
       "'soil'"
      ]
     },
     "execution_count": 46,
     "metadata": {},
     "output_type": "execute_result"
    }
   ],
   "source": [
    "word = 'boil'\n",
    "word = 's'  + word[1:] # Or simply word = 'soil'\n",
    "word"
   ]
  },
  {
   "cell_type": "markdown",
   "id": "83582cb2",
   "metadata": {},
   "source": [
    "## String methods"
   ]
  },
  {
   "cell_type": "markdown",
   "id": "4fa13ec6",
   "metadata": {},
   "source": [
    "#### Capitalization & Whitespace"
   ]
  },
  {
   "cell_type": "markdown",
   "id": "34f41bbe",
   "metadata": {},
   "source": [
    "`.lower()` - Converts a string to all lowercase letters \\\n",
    "`.upper()` - Converts a string to all uppercase letters \\\n",
    "`.rstrip()` - Removes trailing spaces from right side of string \\\n",
    "`.lstrip()` - Removes preceding spaces from left side of string. \\\n",
    "`.strip()` - Removes whitespaces from both left and right sides.\n",
    "\n",
    "*Whitespace* is any character that is printed as blank space. This includes things like spaces, tabs, and even line feeds, which are special characters that move output to a newline.\n",
    "\n",
    "See [Python Library](https://docs.python.org/3/library/stdtypes.html#string-methods) for more"
   ]
  },
  {
   "cell_type": "code",
   "execution_count": 2,
   "id": "0857807b",
   "metadata": {},
   "outputs": [
    {
     "data": {
      "text/plain": [
       "'my name is pablo'"
      ]
     },
     "execution_count": 2,
     "metadata": {},
     "output_type": "execute_result"
    }
   ],
   "source": [
    "\"My Name Is Pablo\".lower()"
   ]
  },
  {
   "cell_type": "code",
   "execution_count": 3,
   "id": "3568ef7d",
   "metadata": {},
   "outputs": [
    {
     "data": {
      "text/plain": [
       "'my name is pablo'"
      ]
     },
     "execution_count": 3,
     "metadata": {},
     "output_type": "execute_result"
    }
   ],
   "source": [
    "name = \"My Name Is Pablo\"\n",
    "name.lower()"
   ]
  },
  {
   "cell_type": "markdown",
   "id": "6c35ceb6",
   "metadata": {},
   "source": [
    "#### Starting or Ending with"
   ]
  },
  {
   "cell_type": "markdown",
   "id": "46b0c729",
   "metadata": {},
   "source": [
    "Determining if a string starts or ends with a particular string \\\n",
    "`.startswith()` \\\n",
    "`.endswith()`\n",
    "\n",
    "Both are case sensitive!!"
   ]
  },
  {
   "cell_type": "code",
   "execution_count": 5,
   "id": "b05fd9f0",
   "metadata": {},
   "outputs": [
    {
     "name": "stdout",
     "output_type": "stream",
     "text": [
      "False\n",
      "True\n"
     ]
    }
   ],
   "source": [
    "car_model = \"Tesla\"\n",
    "print(car_model.startswith('t'))\n",
    "print(car_model.startswith('Te'))"
   ]
  },
  {
   "cell_type": "markdown",
   "id": "3489a8aa",
   "metadata": {},
   "source": [
    "**Recall strings are how strings are immutable** \\\n",
    "Most string methods alter a string like `.upper()` and `.lower()`, but they actually return copies of the original string with those modifications."
   ]
  },
  {
   "cell_type": "code",
   "execution_count": 6,
   "id": "bc2400c1",
   "metadata": {},
   "outputs": [
    {
     "data": {
      "text/plain": [
       "'my name is pablo'"
      ]
     },
     "execution_count": 6,
     "metadata": {},
     "output_type": "execute_result"
    }
   ],
   "source": [
    "name = \"My Name Is Pablo\"\n",
    "name.lower()"
   ]
  },
  {
   "cell_type": "code",
   "execution_count": 7,
   "id": "850b41c6",
   "metadata": {},
   "outputs": [
    {
     "data": {
      "text/plain": [
       "'My Name Is Pablo'"
      ]
     },
     "execution_count": 7,
     "metadata": {},
     "output_type": "execute_result"
    }
   ],
   "source": [
    "name"
   ]
  },
  {
   "cell_type": "markdown",
   "id": "212f6466",
   "metadata": {},
   "source": [
    "Compare that to a mutable data type like a `list`"
   ]
  },
  {
   "cell_type": "code",
   "execution_count": 11,
   "id": "499c0345",
   "metadata": {},
   "outputs": [],
   "source": [
    "my_cars = ['Audi A3', 'Ford F150', 'Aston Martin']\n",
    "my_cars.append('Toyota 4Runner')"
   ]
  },
  {
   "cell_type": "code",
   "execution_count": 12,
   "id": "3d2635d8",
   "metadata": {},
   "outputs": [
    {
     "data": {
      "text/plain": [
       "['Audi A3', 'Ford F150', 'Aston Martin', 'Toyota 4Runner']"
      ]
     },
     "execution_count": 12,
     "metadata": {},
     "output_type": "execute_result"
    }
   ],
   "source": [
    "my_cars"
   ]
  },
  {
   "cell_type": "markdown",
   "id": "99f731ee",
   "metadata": {},
   "source": [
    "#### Find a String in a String\n",
    "`.find()` - finds the location of one string within another string (a substring)"
   ]
  },
  {
   "cell_type": "code",
   "execution_count": 18,
   "id": "7ba06f81",
   "metadata": {},
   "outputs": [
    {
     "data": {
      "text/plain": [
       "9"
      ]
     },
     "execution_count": 18,
     "metadata": {},
     "output_type": "execute_result"
    }
   ],
   "source": [
    "phrase = \"Today is very hot in Austin\"\n",
    "phrase.find('very')"
   ]
  },
  {
   "cell_type": "code",
   "execution_count": 19,
   "id": "eb698dcd",
   "metadata": {},
   "outputs": [
    {
     "data": {
      "text/plain": [
       "-1"
      ]
     },
     "execution_count": 19,
     "metadata": {},
     "output_type": "execute_result"
    }
   ],
   "source": [
    "phrase.find('Atlanta')"
   ]
  },
  {
   "cell_type": "markdown",
   "id": "60add8fa",
   "metadata": {},
   "source": [
    "`.replace()` - replaces each instance of a substring with another string. \\\n",
    "`.replace(<old>, <new>)`\n"
   ]
  },
  {
   "cell_type": "code",
   "execution_count": 27,
   "id": "5d55fc92",
   "metadata": {},
   "outputs": [
    {
     "data": {
      "text/plain": [
       "'I do not like commas'"
      ]
     },
     "execution_count": 27,
     "metadata": {},
     "output_type": "execute_result"
    }
   ],
   "source": [
    "\"I, do, not, like, commas\".replace(\",\", \"\")"
   ]
  },
  {
   "cell_type": "markdown",
   "id": "ca734115",
   "metadata": {},
   "source": [
    "#### The in Operator"
   ]
  },
  {
   "cell_type": "code",
   "execution_count": 21,
   "id": "48cff8d4",
   "metadata": {},
   "outputs": [
    {
     "data": {
      "text/plain": [
       "True"
      ]
     },
     "execution_count": 21,
     "metadata": {},
     "output_type": "execute_result"
    }
   ],
   "source": [
    "s = 'foo'\n",
    "s in \"That's food for thought.\""
   ]
  },
  {
   "cell_type": "code",
   "execution_count": 22,
   "id": "8e37d474",
   "metadata": {
    "scrolled": true
   },
   "outputs": [
    {
     "data": {
      "text/plain": [
       "True"
      ]
     },
     "execution_count": 22,
     "metadata": {},
     "output_type": "execute_result"
    }
   ],
   "source": [
    "'z' not in 'abc'"
   ]
  },
  {
   "cell_type": "markdown",
   "id": "75e1ad42",
   "metadata": {},
   "source": [
    "#### Converting Between Strings and Lists\n",
    "\n",
    "`.join()` \\\n",
    "`.partition()` \\\n",
    "`.split()`"
   ]
  },
  {
   "cell_type": "code",
   "execution_count": 39,
   "id": "11175874",
   "metadata": {},
   "outputs": [
    {
     "data": {
      "text/plain": [
       "'foo:bar:baz:qux'"
      ]
     },
     "execution_count": 39,
     "metadata": {},
     "output_type": "execute_result"
    }
   ],
   "source": [
    "a_list = ['foo', 'bar', 'baz', 'qux']\n",
    "':'.join(a_list)"
   ]
  },
  {
   "cell_type": "code",
   "execution_count": 40,
   "id": "5cefeb24",
   "metadata": {},
   "outputs": [
    {
     "data": {
      "text/plain": [
       "('foo', '.', 'bar')"
      ]
     },
     "execution_count": 40,
     "metadata": {},
     "output_type": "execute_result"
    }
   ],
   "source": [
    " 'foo.bar'.partition('.')"
   ]
  },
  {
   "cell_type": "code",
   "execution_count": 44,
   "id": "38501e22",
   "metadata": {},
   "outputs": [
    {
     "data": {
      "text/plain": [
       "['1', '2', '3']"
      ]
     },
     "execution_count": 44,
     "metadata": {},
     "output_type": "execute_result"
    }
   ],
   "source": [
    "'1,2,3'.split(',')"
   ]
  },
  {
   "cell_type": "markdown",
   "id": "45ce2e10",
   "metadata": {},
   "source": [
    "#### Working With Strings and Numbers"
   ]
  },
  {
   "cell_type": "markdown",
   "id": "0b636a68",
   "metadata": {},
   "source": [
    "`str()` - returns a string version of an object \\\n",
    "`int()` - converts objects into whole numbers \\\n",
    "`float()` - converts objects into numbers with decimal points"
   ]
  },
  {
   "cell_type": "markdown",
   "id": "ccb47c37",
   "metadata": {},
   "source": [
    "## Variables Into a String"
   ]
  },
  {
   "cell_type": "code",
   "execution_count": 33,
   "id": "d2a120f1",
   "metadata": {},
   "outputs": [
    {
     "name": "stdout",
     "output_type": "stream",
     "text": [
      "The product of 20 and 25 is 500\n"
     ]
    }
   ],
   "source": [
    "# Motivating example - Works but cumbersome\n",
    "n = 20\n",
    "m = 25\n",
    "prod = n * m\n",
    "print('The product of', n, 'and', m, 'is', prod)"
   ]
  },
  {
   "cell_type": "markdown",
   "id": "47218f92",
   "metadata": {},
   "source": [
    "Using **f-strings**"
   ]
  },
  {
   "cell_type": "code",
   "execution_count": 34,
   "id": "7da8d863",
   "metadata": {},
   "outputs": [
    {
     "name": "stdout",
     "output_type": "stream",
     "text": [
      "The product of 20 and 25 is 500\n"
     ]
    }
   ],
   "source": [
    "print(f'The product of {n} and {m} is {prod}')"
   ]
  },
  {
   "cell_type": "code",
   "execution_count": 36,
   "id": "017a3e5e",
   "metadata": {},
   "outputs": [
    {
     "name": "stdout",
     "output_type": "stream",
     "text": [
      "The product of 20 and 25 is 500\n",
      "The product of 20 and 25 is 500\n"
     ]
    }
   ],
   "source": [
    "# Any of Python’s  quoting mechanisms can be used to define an f-string:\n",
    "print(f\"The product of {n} and {m} is {prod}\")\n",
    "print(f'''The product of {n} and {m} is {prod}''')"
   ]
  },
  {
   "cell_type": "markdown",
   "id": "b4ad6fb1",
   "metadata": {},
   "source": [
    "They are evaluated at runtime so you can have any expressions"
   ]
  },
  {
   "cell_type": "code",
   "execution_count": 48,
   "id": "294dfe86",
   "metadata": {},
   "outputs": [
    {
     "name": "stdout",
     "output_type": "stream",
     "text": [
      "The product of 20 and 25 is 500\n"
     ]
    }
   ],
   "source": [
    "print(f\"The product of {n} and {m} is {n*m}\")"
   ]
  },
  {
   "cell_type": "code",
   "execution_count": 49,
   "id": "3baae749",
   "metadata": {},
   "outputs": [
    {
     "name": "stdout",
     "output_type": "stream",
     "text": [
      "He is Carlos Sanchez\n"
     ]
    }
   ],
   "source": [
    "my_name = 'carlos sanchez'\n",
    "print(f\"He is {my_name.title()}\")"
   ]
  },
  {
   "cell_type": "code",
   "execution_count": null,
   "id": "2e3d9f93",
   "metadata": {},
   "outputs": [],
   "source": []
  }
 ],
 "metadata": {
  "kernelspec": {
   "display_name": "python_workshop",
   "language": "python",
   "name": "python_workshop"
  },
  "language_info": {
   "codemirror_mode": {
    "name": "ipython",
    "version": 3
   },
   "file_extension": ".py",
   "mimetype": "text/x-python",
   "name": "python",
   "nbconvert_exporter": "python",
   "pygments_lexer": "ipython3",
   "version": "3.10.2"
  }
 },
 "nbformat": 4,
 "nbformat_minor": 5
}
