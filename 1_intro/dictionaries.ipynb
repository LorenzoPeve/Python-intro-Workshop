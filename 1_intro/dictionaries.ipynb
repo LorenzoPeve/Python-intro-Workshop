{
 "cells": [
  {
   "cell_type": "markdown",
   "id": "f2e74913",
   "metadata": {},
   "source": [
    "# Dictionaries"
   ]
  },
  {
   "cell_type": "markdown",
   "id": "20bc9896",
   "metadata": {},
   "source": [
    "A dictionary consists of a collection of key-value pairs. Each key-value pair maps the key to its associated value."
   ]
  },
  {
   "cell_type": "markdown",
   "id": "2290f6b4",
   "metadata": {},
   "source": [
    "## 1.1 Creation"
   ]
  },
  {
   "cell_type": "markdown",
   "id": "aec352d6",
   "metadata": {},
   "source": [
    "* **Keys must be immutable and UNIQUE** (tuple, int, float, string)\n",
    "* The values or keys contained in the dictionary don’t need to be the same type\n",
    "* There are no restrictions on dictionary values. (literally!)"
   ]
  },
  {
   "cell_type": "markdown",
   "id": "a8a560a1",
   "metadata": {},
   "source": [
    "`{key : value}`"
   ]
  },
  {
   "cell_type": "code",
   "execution_count": null,
   "id": "8b21c3af",
   "metadata": {},
   "outputs": [],
   "source": [
    "MLB_team = {\n",
    "    'Colorado' : 'Rockies',\n",
    "    'Boston'   : 'Red Sox',\n",
    "    'Minnesota': 'Twins',\n",
    "    'Milwaukee': 'Brewers',\n",
    "    'Seattle'  : 'Mariners'\n",
    "}"
   ]
  },
  {
   "cell_type": "markdown",
   "id": "54927917",
   "metadata": {},
   "source": [
    "`dict()`"
   ]
  },
  {
   "cell_type": "code",
   "execution_count": null,
   "id": "17a41649",
   "metadata": {},
   "outputs": [],
   "source": [
    "dict([('foo', 100), ('bar', 200)])"
   ]
  },
  {
   "cell_type": "code",
   "execution_count": 4,
   "id": "69e56fd2",
   "metadata": {},
   "outputs": [],
   "source": [
    "dict(foo=100, bar=200) # If the key values are simple strings"
   ]
  },
  {
   "cell_type": "code",
   "execution_count": 20,
   "id": "5cabe7a8",
   "metadata": {},
   "outputs": [],
   "source": [
    "foo = {42: 'aaa', 2.78: 'bbb', 'passcode': 'ccc'}"
   ]
  },
  {
   "cell_type": "code",
   "execution_count": 22,
   "id": "0a83644d",
   "metadata": {},
   "outputs": [
    {
     "data": {
      "text/plain": [
       "{'Colorado': 'Mariners',\n",
       " 'Boston': 'Red Sox',\n",
       " 'Minnesota': 'Twins',\n",
       " 'Milwaukee': 'Brewers'}"
      ]
     },
     "execution_count": 22,
     "metadata": {},
     "output_type": "execute_result"
    }
   ],
   "source": [
    "MLB_team"
   ]
  },
  {
   "cell_type": "markdown",
   "id": "82ae1104",
   "metadata": {},
   "source": [
    "## 1.2 Inspection"
   ]
  },
  {
   "cell_type": "code",
   "execution_count": 5,
   "id": "3373b193",
   "metadata": {},
   "outputs": [
    {
     "data": {
      "text/plain": [
       "dict"
      ]
     },
     "execution_count": 5,
     "metadata": {},
     "output_type": "execute_result"
    }
   ],
   "source": [
    "type(MLB_team)"
   ]
  },
  {
   "cell_type": "code",
   "execution_count": 6,
   "id": "f4207aad",
   "metadata": {},
   "outputs": [
    {
     "data": {
      "text/plain": [
       "{'Colorado': 'Rockies', 'Boston': 'Red Sox'}"
      ]
     },
     "execution_count": 6,
     "metadata": {},
     "output_type": "execute_result"
    }
   ],
   "source": [
    "MLB_team"
   ]
  },
  {
   "cell_type": "markdown",
   "id": "cfb07bdf",
   "metadata": {},
   "source": [
    "## 1.3 Accessing Dictionary Values"
   ]
  },
  {
   "cell_type": "markdown",
   "id": "e7268aed",
   "metadata": {},
   "source": [
    "`d[key]` Raises a `KeyError` if key is not in the map."
   ]
  },
  {
   "cell_type": "code",
   "execution_count": 8,
   "id": "4f49b22b",
   "metadata": {},
   "outputs": [
    {
     "data": {
      "text/plain": [
       "'Rockies'"
      ]
     },
     "execution_count": 8,
     "metadata": {},
     "output_type": "execute_result"
    }
   ],
   "source": [
    "MLB_team['Colorado']"
   ]
  },
  {
   "cell_type": "code",
   "execution_count": 11,
   "id": "c004075f",
   "metadata": {},
   "outputs": [
    {
     "data": {
      "text/plain": [
       "'a'"
      ]
     },
     "execution_count": 11,
     "metadata": {},
     "output_type": "execute_result"
    }
   ],
   "source": [
    "d = {0: 'a', 1: 'b', 2: 'c', 3: 'd'}\n",
    "d[0]     # has nothing to do with the order of the items in the dictionary"
   ]
  },
  {
   "cell_type": "markdown",
   "id": "bc78f0dc",
   "metadata": {},
   "source": [
    "## 1.4 Behavior"
   ]
  },
  {
   "cell_type": "markdown",
   "id": "280226ac",
   "metadata": {},
   "source": [
    "[docs](https://docs.python.org/3/library/stdtypes.html#mapping-types-dict)"
   ]
  },
  {
   "attachments": {},
   "cell_type": "markdown",
   "id": "f32d0e64",
   "metadata": {},
   "source": [
    "* Dictionaries are mutable. \n",
    " * Key:value pairs can be added\n",
    " * Values can be updated/replaced"
   ]
  },
  {
   "cell_type": "code",
   "execution_count": 13,
   "id": "5785b23a",
   "metadata": {},
   "outputs": [
    {
     "data": {
      "text/plain": [
       "dict"
      ]
     },
     "execution_count": 13,
     "metadata": {},
     "output_type": "execute_result"
    }
   ],
   "source": [
    "programmer = {}\n",
    "type(programmer)"
   ]
  },
  {
   "cell_type": "code",
   "execution_count": 15,
   "id": "f5df332c",
   "metadata": {},
   "outputs": [
    {
     "data": {
      "text/plain": [
       "{'fname': 'Joe',\n",
       " 'lname': 'Gomez',\n",
       " 'age': 32,\n",
       " 'language': ['Python', 'Java', 'SQL', 'C++']}"
      ]
     },
     "execution_count": 15,
     "metadata": {},
     "output_type": "execute_result"
    }
   ],
   "source": [
    "programmer['fname'] = 'Joe'\n",
    "programmer['lname'] = 'Gomez'\n",
    "programmer['age'] = 32\n",
    "programmer['language'] = ['Python', 'Java' , 'SQL', 'C++']\n",
    "programmer"
   ]
  },
  {
   "cell_type": "markdown",
   "id": "928bc8c9",
   "metadata": {},
   "source": [
    "Retrieving the values in the sublist"
   ]
  },
  {
   "cell_type": "code",
   "execution_count": 17,
   "id": "dcd7c2a0",
   "metadata": {},
   "outputs": [],
   "source": [
    "programmer['language'].append('SQL')"
   ]
  },
  {
   "cell_type": "code",
   "execution_count": 18,
   "id": "f9f59375",
   "metadata": {},
   "outputs": [
    {
     "data": {
      "text/plain": [
       "{'fname': 'Joe',\n",
       " 'lname': 'Gomez',\n",
       " 'age': 32,\n",
       " 'language': ['Python', 'Java', 'SQL', 'C++', 'SQL']}"
      ]
     },
     "execution_count": 18,
     "metadata": {},
     "output_type": "execute_result"
    }
   ],
   "source": [
    "programmer"
   ]
  },
  {
   "cell_type": "code",
   "execution_count": null,
   "id": "5eccc16e",
   "metadata": {},
   "outputs": [],
   "source": [
    "programmer['age'] = 44"
   ]
  },
  {
   "cell_type": "markdown",
   "id": "f8366027",
   "metadata": {},
   "source": [
    "# Operators and Built-in Functions"
   ]
  },
  {
   "cell_type": "code",
   "execution_count": 26,
   "id": "856949b0",
   "metadata": {},
   "outputs": [],
   "source": [
    "MLB_team = {\n",
    "    'Colorado' : 'Rockies',\n",
    "    'Boston'   : 'Red Sox',\n",
    "    'Minnesota': 'Twins',\n",
    "    'Milwaukee': 'Brewers',\n",
    "    'Seattle'  : 'Mariners'\n",
    "}"
   ]
  },
  {
   "cell_type": "code",
   "execution_count": 28,
   "id": "b0aca2fc",
   "metadata": {},
   "outputs": [
    {
     "data": {
      "text/plain": [
       "5"
      ]
     },
     "execution_count": 28,
     "metadata": {},
     "output_type": "execute_result"
    }
   ],
   "source": [
    "len(MLB_team)"
   ]
  },
  {
   "cell_type": "code",
   "execution_count": 27,
   "id": "c14ebee7",
   "metadata": {
    "scrolled": true
   },
   "outputs": [
    {
     "data": {
      "text/plain": [
       "True"
      ]
     },
     "execution_count": 27,
     "metadata": {},
     "output_type": "execute_result"
    }
   ],
   "source": [
    "'Milwaukee' in MLB_team"
   ]
  },
  {
   "cell_type": "markdown",
   "id": "c0738dc3",
   "metadata": {},
   "source": [
    "`get()`"
   ]
  },
  {
   "cell_type": "code",
   "execution_count": 30,
   "id": "f7332f75",
   "metadata": {},
   "outputs": [],
   "source": [
    "d = {'a': 10, 'b': 20, 'c': 30}"
   ]
  },
  {
   "cell_type": "code",
   "execution_count": 31,
   "id": "6ac587e8",
   "metadata": {},
   "outputs": [
    {
     "name": "stdout",
     "output_type": "stream",
     "text": [
      "20\n"
     ]
    }
   ],
   "source": [
    "print(d.get('b'))"
   ]
  },
  {
   "cell_type": "code",
   "execution_count": 32,
   "id": "1f9b5894",
   "metadata": {},
   "outputs": [
    {
     "name": "stdout",
     "output_type": "stream",
     "text": [
      "None\n"
     ]
    }
   ],
   "source": [
    "print(d.get(12453))"
   ]
  },
  {
   "cell_type": "code",
   "execution_count": 33,
   "id": "6701d2e5",
   "metadata": {},
   "outputs": [
    {
     "ename": "KeyError",
     "evalue": "'x'",
     "output_type": "error",
     "traceback": [
      "\u001b[1;31m---------------------------------------------------------------------------\u001b[0m",
      "\u001b[1;31mKeyError\u001b[0m                                  Traceback (most recent call last)",
      "Input \u001b[1;32mIn [33]\u001b[0m, in \u001b[0;36m<cell line: 1>\u001b[1;34m()\u001b[0m\n\u001b[1;32m----> 1\u001b[0m \u001b[43md\u001b[49m\u001b[43m[\u001b[49m\u001b[38;5;124;43m'\u001b[39;49m\u001b[38;5;124;43mx\u001b[39;49m\u001b[38;5;124;43m'\u001b[39;49m\u001b[43m]\u001b[49m\n",
      "\u001b[1;31mKeyError\u001b[0m: 'x'"
     ]
    }
   ],
   "source": [
    "d['x'] # an error in purpose"
   ]
  },
  {
   "cell_type": "markdown",
   "id": "cbb08f53",
   "metadata": {},
   "source": [
    "`items(), keys(), values()`"
   ]
  },
  {
   "cell_type": "code",
   "execution_count": 34,
   "id": "2c77c8a0",
   "metadata": {},
   "outputs": [
    {
     "data": {
      "text/plain": [
       "dict_items([('a', 10), ('b', 20), ('c', 30)])"
      ]
     },
     "execution_count": 34,
     "metadata": {},
     "output_type": "execute_result"
    }
   ],
   "source": [
    "d.items()"
   ]
  },
  {
   "cell_type": "code",
   "execution_count": 35,
   "id": "e857bca1",
   "metadata": {},
   "outputs": [
    {
     "data": {
      "text/plain": [
       "dict_keys(['a', 'b', 'c'])"
      ]
     },
     "execution_count": 35,
     "metadata": {},
     "output_type": "execute_result"
    }
   ],
   "source": [
    "d.keys()"
   ]
  },
  {
   "cell_type": "code",
   "execution_count": 36,
   "id": "3070bae3",
   "metadata": {},
   "outputs": [
    {
     "data": {
      "text/plain": [
       "dict_values([10, 20, 30])"
      ]
     },
     "execution_count": 36,
     "metadata": {},
     "output_type": "execute_result"
    }
   ],
   "source": [
    "d.values()"
   ]
  },
  {
   "cell_type": "markdown",
   "id": "824b5744",
   "metadata": {},
   "source": [
    "`pop()`"
   ]
  },
  {
   "cell_type": "code",
   "execution_count": 37,
   "id": "5e3f0d68",
   "metadata": {},
   "outputs": [
    {
     "data": {
      "text/plain": [
       "'Mariners'"
      ]
     },
     "execution_count": 37,
     "metadata": {},
     "output_type": "execute_result"
    }
   ],
   "source": [
    "MLB_team = {\n",
    "    'Colorado' : 'Rockies',\n",
    "    'Boston'   : 'Red Sox',\n",
    "    'Minnesota': 'Twins',\n",
    "    'Milwaukee': 'Brewers',\n",
    "    'Seattle'  : 'Mariners'\n",
    "}\n",
    "MLB_team.pop('Seattle')"
   ]
  },
  {
   "cell_type": "code",
   "execution_count": 39,
   "id": "c83eaed8",
   "metadata": {
    "scrolled": true
   },
   "outputs": [
    {
     "data": {
      "text/plain": [
       "{'Colorado': 'Rockies',\n",
       " 'Boston': 'Red Sox',\n",
       " 'Minnesota': 'Twins',\n",
       " 'Milwaukee': 'Brewers'}"
      ]
     },
     "execution_count": 39,
     "metadata": {},
     "output_type": "execute_result"
    }
   ],
   "source": [
    "MLB_team"
   ]
  },
  {
   "cell_type": "markdown",
   "id": "7bebb254",
   "metadata": {},
   "source": [
    "`update()`"
   ]
  },
  {
   "cell_type": "code",
   "execution_count": 40,
   "id": "589fdd97",
   "metadata": {},
   "outputs": [],
   "source": [
    "d1 = {'a': 10, 'b': 20, 'c': 30}\n",
    "d2 = {'b': 200, 'd': 400}"
   ]
  },
  {
   "cell_type": "code",
   "execution_count": 41,
   "id": "babbaea9",
   "metadata": {},
   "outputs": [
    {
     "data": {
      "text/plain": [
       "{'a': 10, 'b': 20, 'c': 30}"
      ]
     },
     "execution_count": 41,
     "metadata": {},
     "output_type": "execute_result"
    }
   ],
   "source": [
    "d1"
   ]
  },
  {
   "cell_type": "code",
   "execution_count": 42,
   "id": "4820cb11",
   "metadata": {},
   "outputs": [
    {
     "data": {
      "text/plain": [
       "{'b': 200, 'd': 400}"
      ]
     },
     "execution_count": 42,
     "metadata": {},
     "output_type": "execute_result"
    }
   ],
   "source": [
    "d2"
   ]
  },
  {
   "cell_type": "code",
   "execution_count": 43,
   "id": "051f72b9",
   "metadata": {},
   "outputs": [],
   "source": [
    "d1.update(d2)"
   ]
  },
  {
   "cell_type": "code",
   "execution_count": 44,
   "id": "4cb2770b",
   "metadata": {},
   "outputs": [
    {
     "data": {
      "text/plain": [
       "{'a': 10, 'b': 200, 'c': 30, 'd': 400}"
      ]
     },
     "execution_count": 44,
     "metadata": {},
     "output_type": "execute_result"
    }
   ],
   "source": [
    "d1 # key 'b' already exists in d1, so its value is updated to 200"
   ]
  }
 ],
 "metadata": {
  "kernelspec": {
   "display_name": "venv",
   "language": "python",
   "name": "venv"
  },
  "language_info": {
   "codemirror_mode": {
    "name": "ipython",
    "version": 3
   },
   "file_extension": ".py",
   "mimetype": "text/x-python",
   "name": "python",
   "nbconvert_exporter": "python",
   "pygments_lexer": "ipython3",
   "version": "3.10.2"
  }
 },
 "nbformat": 4,
 "nbformat_minor": 5
}
