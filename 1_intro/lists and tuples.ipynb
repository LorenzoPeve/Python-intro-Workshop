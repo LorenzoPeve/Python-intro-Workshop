{
 "cells": [
  {
   "cell_type": "markdown",
   "id": "70911c7d",
   "metadata": {},
   "source": [
    "# Lists"
   ]
  },
  {
   "cell_type": "markdown",
   "id": "af4f22d4",
   "metadata": {},
   "source": [
    "A list is a collection of arbitrary objects, much like an array in other\n",
    "programming languages"
   ]
  },
  {
   "cell_type": "code",
   "execution_count": 1,
   "id": "9289a62a",
   "metadata": {},
   "outputs": [
    {
     "data": {
      "text/plain": [
       "list"
      ]
     },
     "execution_count": 1,
     "metadata": {},
     "output_type": "execute_result"
    }
   ],
   "source": [
    "cities = ['Dallas', 'Austin', 'San Antonio', 'Houston']\n",
    "type(cities)"
   ]
  },
  {
   "cell_type": "markdown",
   "id": "2f3e8904",
   "metadata": {},
   "source": [
    "* Lists are ordered"
   ]
  },
  {
   "cell_type": "code",
   "execution_count": 2,
   "id": "a567c14d",
   "metadata": {},
   "outputs": [],
   "source": [
    "cities = ['Dallas', 'Austin', 'San Antonio', 'Houston']\n",
    "cities2 = ['Austin', 'Dallas', 'San Antonio', 'Houston']"
   ]
  },
  {
   "cell_type": "code",
   "execution_count": 3,
   "id": "0e0f5588",
   "metadata": {},
   "outputs": [
    {
     "data": {
      "text/plain": [
       "False"
      ]
     },
     "execution_count": 3,
     "metadata": {},
     "output_type": "execute_result"
    }
   ],
   "source": [
    "cities == cities2"
   ]
  },
  {
   "cell_type": "markdown",
   "id": "b3105837",
   "metadata": {},
   "source": [
    "* Lists can contain any arbitrary objects"
   ]
  },
  {
   "cell_type": "code",
   "execution_count": 4,
   "id": "835a9847",
   "metadata": {},
   "outputs": [],
   "source": [
    "project_numbers = [11424, 12345, 12407, 11776]"
   ]
  },
  {
   "cell_type": "code",
   "execution_count": 5,
   "id": "5dd04a25",
   "metadata": {},
   "outputs": [],
   "source": [
    "a_complex_list = [147, 'Sony', [12.5, 435], sum, abs]"
   ]
  },
  {
   "cell_type": "code",
   "execution_count": 6,
   "id": "5a2848c1",
   "metadata": {},
   "outputs": [
    {
     "data": {
      "text/plain": [
       "41"
      ]
     },
     "execution_count": 6,
     "metadata": {},
     "output_type": "execute_result"
    }
   ],
   "source": [
    "a_complex_list[-1](-41)"
   ]
  },
  {
   "cell_type": "markdown",
   "id": "68318508",
   "metadata": {},
   "source": [
    "* A list can contain any number of objects"
   ]
  },
  {
   "cell_type": "code",
   "execution_count": 7,
   "id": "93f0ac31",
   "metadata": {},
   "outputs": [],
   "source": [
    "list1 = [1,2,3,4]\n",
    "list2 = []\n",
    "list3 = list(range(0,100_000))"
   ]
  },
  {
   "cell_type": "code",
   "execution_count": 8,
   "id": "24ebeddc",
   "metadata": {},
   "outputs": [
    {
     "data": {
      "text/plain": [
       "True"
      ]
     },
     "execution_count": 8,
     "metadata": {},
     "output_type": "execute_result"
    }
   ],
   "source": [
    "type(list1) == type(list2) == type(list3)"
   ]
  },
  {
   "cell_type": "markdown",
   "id": "250d7373",
   "metadata": {},
   "source": [
    "* List elements can be accessed by index and also sliced\n",
    "\n",
    "`mylist[m]` \\\n",
    "`mylist[m:n]` Starting with position *m* and up to but not including position *n*"
   ]
  },
  {
   "cell_type": "code",
   "execution_count": 9,
   "id": "6710292e",
   "metadata": {},
   "outputs": [
    {
     "data": {
      "text/plain": [
       "3333"
      ]
     },
     "execution_count": 9,
     "metadata": {},
     "output_type": "execute_result"
    }
   ],
   "source": [
    "project_numbers = [1111, 2222, 3333, 5554]\n",
    "project_numbers[2]"
   ]
  },
  {
   "cell_type": "code",
   "execution_count": 10,
   "id": "f88b6c8a",
   "metadata": {},
   "outputs": [
    {
     "data": {
      "text/plain": [
       "[1111, 2222]"
      ]
     },
     "execution_count": 10,
     "metadata": {},
     "output_type": "execute_result"
    }
   ],
   "source": [
    "project_numbers[0:2] # same as project_numbers[:2]"
   ]
  },
  {
   "cell_type": "code",
   "execution_count": 11,
   "id": "c1d0448e",
   "metadata": {},
   "outputs": [],
   "source": [
    "projects = project_numbers[:] # Omitting both indexes a[:] returns a SHALLOW COPY copy of the entire list"
   ]
  },
  {
   "cell_type": "code",
   "execution_count": 12,
   "id": "934d08d7",
   "metadata": {},
   "outputs": [
    {
     "data": {
      "text/plain": [
       "True"
      ]
     },
     "execution_count": 12,
     "metadata": {},
     "output_type": "execute_result"
    }
   ],
   "source": [
    "projects == project_numbers"
   ]
  },
  {
   "cell_type": "code",
   "execution_count": 13,
   "id": "218ca914",
   "metadata": {},
   "outputs": [
    {
     "data": {
      "text/plain": [
       "False"
      ]
     },
     "execution_count": 13,
     "metadata": {},
     "output_type": "execute_result"
    }
   ],
   "source": [
    "id(projects) == id(project_numbers)"
   ]
  },
  {
   "cell_type": "code",
   "execution_count": 14,
   "id": "0fe69862",
   "metadata": {},
   "outputs": [
    {
     "data": {
      "text/plain": [
       "[0, 1, 2, 3, 4, 5, 6, 7, 8, 9]"
      ]
     },
     "execution_count": 14,
     "metadata": {},
     "output_type": "execute_result"
    }
   ],
   "source": [
    "list1 = list(range(10))\n",
    "list1"
   ]
  },
  {
   "cell_type": "code",
   "execution_count": 15,
   "id": "ed9154e1",
   "metadata": {},
   "outputs": [
    {
     "data": {
      "text/plain": [
       "[0, 2, 4, 6, 8]"
      ]
     },
     "execution_count": 15,
     "metadata": {},
     "output_type": "execute_result"
    }
   ],
   "source": [
    "list1[::2]"
   ]
  },
  {
   "cell_type": "code",
   "execution_count": 16,
   "id": "76b443a4",
   "metadata": {
    "scrolled": true
   },
   "outputs": [
    {
     "data": {
      "text/plain": [
       "2515330217984"
      ]
     },
     "execution_count": 16,
     "metadata": {},
     "output_type": "execute_result"
    }
   ],
   "source": [
    "id(list1[::-1])"
   ]
  },
  {
   "cell_type": "markdown",
   "id": "e05a6144",
   "metadata": {},
   "source": [
    "* Lists can be nested to arbitrary depth"
   ]
  },
  {
   "cell_type": "code",
   "execution_count": 17,
   "id": "b18bb1c9",
   "metadata": {},
   "outputs": [
    {
     "data": {
      "text/plain": [
       "3"
      ]
     },
     "execution_count": 17,
     "metadata": {},
     "output_type": "execute_result"
    }
   ],
   "source": [
    "my_list=[[1,2],[3,4],[5,6,7]]\n",
    "len(my_list)"
   ]
  },
  {
   "cell_type": "code",
   "execution_count": 18,
   "id": "45eee96f",
   "metadata": {},
   "outputs": [
    {
     "data": {
      "text/plain": [
       "6"
      ]
     },
     "execution_count": 18,
     "metadata": {},
     "output_type": "execute_result"
    }
   ],
   "source": [
    "my_list[2][1]"
   ]
  },
  {
   "cell_type": "markdown",
   "id": "73c1a4e6",
   "metadata": {},
   "source": [
    "* Lists are mutable   (and assignment never copies data!)    \n",
    "[demo](https://pythontutor.com/)"
   ]
  },
  {
   "cell_type": "code",
   "execution_count": 19,
   "id": "41d1a95f",
   "metadata": {},
   "outputs": [],
   "source": [
    "my_list = [1,2,3 ,4 ,5, 6, 7, 8, 9]"
   ]
  },
  {
   "cell_type": "code",
   "execution_count": 20,
   "id": "5c727a28",
   "metadata": {},
   "outputs": [],
   "source": [
    "my_list[0] = 888"
   ]
  },
  {
   "cell_type": "code",
   "execution_count": 21,
   "id": "1a992d12",
   "metadata": {},
   "outputs": [
    {
     "data": {
      "text/plain": [
       "[888, 2, 3, 4, 5, 6, 7, 8, 9]"
      ]
     },
     "execution_count": 21,
     "metadata": {},
     "output_type": "execute_result"
    }
   ],
   "source": [
    "my_list"
   ]
  },
  {
   "cell_type": "code",
   "execution_count": 22,
   "id": "bd78105a",
   "metadata": {},
   "outputs": [],
   "source": [
    "my_name = 'lorenzo' # my_name.title()"
   ]
  },
  {
   "cell_type": "code",
   "execution_count": 23,
   "id": "ca52537e",
   "metadata": {},
   "outputs": [
    {
     "ename": "TypeError",
     "evalue": "'str' object does not support item assignment",
     "output_type": "error",
     "traceback": [
      "\u001b[1;31m---------------------------------------------------------------------------\u001b[0m",
      "\u001b[1;31mTypeError\u001b[0m                                 Traceback (most recent call last)",
      "Cell \u001b[1;32mIn [23], line 1\u001b[0m\n\u001b[1;32m----> 1\u001b[0m \u001b[43mmy_name\u001b[49m\u001b[43m[\u001b[49m\u001b[38;5;241;43m0\u001b[39;49m\u001b[43m]\u001b[49m \u001b[38;5;241m=\u001b[39m \u001b[38;5;124m'\u001b[39m\u001b[38;5;124mL\u001b[39m\u001b[38;5;124m'\u001b[39m\n",
      "\u001b[1;31mTypeError\u001b[0m: 'str' object does not support item assignment"
     ]
    }
   ],
   "source": [
    "my_name[0] = 'L' # an error in purpose"
   ]
  },
  {
   "cell_type": "code",
   "execution_count": 14,
   "id": "05910a9f",
   "metadata": {},
   "outputs": [
    {
     "name": "stdout",
     "output_type": "stream",
     "text": [
      "[1, 2, 3, 4, 5]\n"
     ]
    }
   ],
   "source": [
    "nums = [1, 2, 3, 4]\n",
    "other = nums\n",
    "nums.append(5)\n",
    "print(other)"
   ]
  },
  {
   "cell_type": "code",
   "execution_count": 24,
   "id": "5388db90",
   "metadata": {},
   "outputs": [],
   "source": [
    "my_list = [1,2,3 ,4 ,5, 6, 7, 8, 9]"
   ]
  },
  {
   "cell_type": "code",
   "execution_count": 25,
   "id": "087cd39a",
   "metadata": {},
   "outputs": [],
   "source": [
    "my_list[3:5] = ['Hello', 'Wonderful', 'World', '!', ]"
   ]
  },
  {
   "cell_type": "code",
   "execution_count": 26,
   "id": "aadb5efc",
   "metadata": {},
   "outputs": [
    {
     "data": {
      "text/plain": [
       "[1, 2, 3, 'Hello', 'Wonderful', 'World', '!', 6, 7, 8, 9]"
      ]
     },
     "execution_count": 26,
     "metadata": {},
     "output_type": "execute_result"
    }
   ],
   "source": [
    "my_list"
   ]
  },
  {
   "cell_type": "markdown",
   "id": "187472fe",
   "metadata": {},
   "source": [
    "* Lists are dynamic"
   ]
  },
  {
   "cell_type": "code",
   "execution_count": 27,
   "id": "e2f276db",
   "metadata": {},
   "outputs": [],
   "source": [
    "my_list = [1,2,3 ,4 ,5, 6, 7, 8, 9]\n",
    "my_list.extend([11,43,4321, 76])"
   ]
  },
  {
   "cell_type": "code",
   "execution_count": 28,
   "id": "65037246",
   "metadata": {},
   "outputs": [
    {
     "data": {
      "text/plain": [
       "[1, 2, 3, 4, 5, 6, 7, 8, 9, 11, 43, 4321, 76]"
      ]
     },
     "execution_count": 28,
     "metadata": {},
     "output_type": "execute_result"
    }
   ],
   "source": [
    "my_list"
   ]
  },
  {
   "cell_type": "markdown",
   "id": "c7b92f75",
   "metadata": {},
   "source": [
    "## Lists Operators"
   ]
  },
  {
   "cell_type": "markdown",
   "id": "1d0825d9",
   "metadata": {},
   "source": [
    "* `in` and `not in` membership operator"
   ]
  },
  {
   "cell_type": "code",
   "execution_count": null,
   "id": "a71e812d",
   "metadata": {},
   "outputs": [],
   "source": [
    "cities = ['Dallas', 'Austin', 'San Antonio', 'Houston']\n",
    "'El Paso' in cities"
   ]
  },
  {
   "cell_type": "markdown",
   "id": "7d16f314",
   "metadata": {},
   "source": [
    "* `+` Concatenation\n",
    "* `*` Replication  (Creates multiple concatenated copies)"
   ]
  },
  {
   "cell_type": "code",
   "execution_count": 37,
   "id": "81997c4f",
   "metadata": {},
   "outputs": [],
   "source": [
    "list1 = [1,2,3,4,5,6]"
   ]
  },
  {
   "cell_type": "code",
   "execution_count": null,
   "id": "5c05e899",
   "metadata": {},
   "outputs": [],
   "source": [
    "list2 = [10,20,30,40]"
   ]
  },
  {
   "cell_type": "code",
   "execution_count": null,
   "id": "45aa0a32",
   "metadata": {},
   "outputs": [],
   "source": [
    "list1 + list2"
   ]
  },
  {
   "cell_type": "code",
   "execution_count": null,
   "id": "7592f494",
   "metadata": {},
   "outputs": [],
   "source": [
    "list1 = [1,2,3,4,5,6]"
   ]
  },
  {
   "cell_type": "code",
   "execution_count": null,
   "id": "0b9f4b53",
   "metadata": {},
   "outputs": [],
   "source": [
    "list1*4"
   ]
  },
  {
   "cell_type": "markdown",
   "id": "374fd8d2",
   "metadata": {},
   "source": [
    "## Built-in Functions"
   ]
  },
  {
   "cell_type": "markdown",
   "id": "a4d5b51e",
   "metadata": {},
   "source": [
    "* `len()` Returns the length of the list\n",
    "* `min()` or `max()` Returns the object from the list with minimum/maximum value\n",
    "\n",
    "Note: To use min() or max() list should be homogeneous"
   ]
  },
  {
   "cell_type": "code",
   "execution_count": null,
   "id": "56882772",
   "metadata": {},
   "outputs": [],
   "source": [
    "list1 = [1,2,3,4,5,6, 'golf']"
   ]
  },
  {
   "cell_type": "markdown",
   "id": "c61e49c4",
   "metadata": {},
   "source": [
    "## List methods"
   ]
  },
  {
   "cell_type": "markdown",
   "id": "5fdb66ea",
   "metadata": {},
   "source": [
    "[docs](https://docs.python.org/3/library/stdtypes.html#sequence-types-list-tuple-range)"
   ]
  },
  {
   "cell_type": "code",
   "execution_count": 41,
   "id": "361ba558",
   "metadata": {},
   "outputs": [
    {
     "data": {
      "text/plain": [
       "[1, 2, 3, 4, 5]"
      ]
     },
     "execution_count": 41,
     "metadata": {},
     "output_type": "execute_result"
    }
   ],
   "source": [
    "list1 = [1,2,3,4]\n",
    "list1.append(5)\n",
    "list1"
   ]
  },
  {
   "cell_type": "code",
   "execution_count": 43,
   "id": "a29cf2de",
   "metadata": {},
   "outputs": [
    {
     "name": "stdout",
     "output_type": "stream",
     "text": [
      "None\n"
     ]
    }
   ],
   "source": [
    "x = list1.append(5)\n",
    "print(x)"
   ]
  },
  {
   "cell_type": "code",
   "execution_count": 44,
   "id": "9b47f180",
   "metadata": {},
   "outputs": [
    {
     "data": {
      "text/plain": [
       "[1, 2, 3, 4, 5, 5, 5, 10, 11, 12, 13]"
      ]
     },
     "execution_count": 44,
     "metadata": {},
     "output_type": "execute_result"
    }
   ],
   "source": [
    "list1.extend([10, 11, 12, 13])\n",
    "list1"
   ]
  },
  {
   "cell_type": "code",
   "execution_count": 45,
   "id": "0fbc993d",
   "metadata": {},
   "outputs": [],
   "source": [
    "list1 = [1,2,3,4]\n",
    "list1.insert(1, 'Hello')\n",
    "list1"
   ]
  },
  {
   "cell_type": "code",
   "execution_count": 46,
   "id": "eaa2ab75",
   "metadata": {},
   "outputs": [
    {
     "data": {
      "text/plain": [
       "[1, 2, 4]"
      ]
     },
     "execution_count": 46,
     "metadata": {},
     "output_type": "execute_result"
    }
   ],
   "source": [
    "list1 = [1,2,3,4]\n",
    "list1.remove(3)\n",
    "list1"
   ]
  },
  {
   "cell_type": "code",
   "execution_count": 47,
   "id": "d90181b0",
   "metadata": {},
   "outputs": [
    {
     "ename": "ValueError",
     "evalue": "list.remove(x): x not in list",
     "output_type": "error",
     "traceback": [
      "\u001b[1;31m---------------------------------------------------------------------------\u001b[0m",
      "\u001b[1;31mValueError\u001b[0m                                Traceback (most recent call last)",
      "Cell \u001b[1;32mIn [47], line 2\u001b[0m\n\u001b[0;32m      1\u001b[0m list1 \u001b[38;5;241m=\u001b[39m [\u001b[38;5;241m1\u001b[39m,\u001b[38;5;241m2\u001b[39m,\u001b[38;5;241m3\u001b[39m,\u001b[38;5;241m4\u001b[39m]\n\u001b[1;32m----> 2\u001b[0m \u001b[43mlist1\u001b[49m\u001b[38;5;241;43m.\u001b[39;49m\u001b[43mremove\u001b[49m\u001b[43m(\u001b[49m\u001b[38;5;241;43m5\u001b[39;49m\u001b[43m)\u001b[49m\n\u001b[0;32m      3\u001b[0m list1\n",
      "\u001b[1;31mValueError\u001b[0m: list.remove(x): x not in list"
     ]
    }
   ],
   "source": [
    "list1 = [1,2,3,4]\n",
    "list1.remove(5)\n",
    "list1"
   ]
  },
  {
   "cell_type": "code",
   "execution_count": 48,
   "id": "c96fc770",
   "metadata": {},
   "outputs": [
    {
     "data": {
      "text/plain": [
       "[1, 3, 2]"
      ]
     },
     "execution_count": 48,
     "metadata": {},
     "output_type": "execute_result"
    }
   ],
   "source": [
    "list1 = [1,2,3,2]\n",
    "list1.remove(2)\n",
    "list1"
   ]
  },
  {
   "cell_type": "code",
   "execution_count": 53,
   "id": "810ef096",
   "metadata": {},
   "outputs": [
    {
     "name": "stdout",
     "output_type": "stream",
     "text": [
      "[11, 22, 44]\n",
      "33\n"
     ]
    }
   ],
   "source": [
    "list1 = [11, 22, 33, 44]\n",
    "n = list1.pop(2) # You specify the index of the item to remove, rather than the object itself.\n",
    "             # The method returns a value: the item that was removed.\n",
    "print(list1)\n",
    "print(n)"
   ]
  },
  {
   "cell_type": "code",
   "execution_count": 59,
   "id": "ce9b9a61",
   "metadata": {},
   "outputs": [
    {
     "data": {
      "text/plain": [
       "[908, 796, 760, 748, 712, 711, 624, 614, 486, 360, 352, 327, 298, 271, 124]"
      ]
     },
     "execution_count": 59,
     "metadata": {},
     "output_type": "execute_result"
    }
   ],
   "source": [
    "list1 = [760, 796, 624, 711, 298, 486, 748, 614, 352, 908, 360, 271, 712, 327, 124]\n",
    "list1.sort(reverse = True)   # sort(key, reverse)\n",
    "list1"
   ]
  },
  {
   "cell_type": "code",
   "execution_count": 62,
   "id": "db59b163",
   "metadata": {},
   "outputs": [
    {
     "data": {
      "text/plain": [
       "['avocado', 'bacon', 'Cream cheese', 'Eggs', 'latte']"
      ]
     },
     "execution_count": 62,
     "metadata": {},
     "output_type": "execute_result"
    }
   ],
   "source": [
    "my_breakfast = ['bacon', 'Eggs', 'avocado', 'Cream cheese', 'latte']\n",
    "my_breakfast.sort(key = str.upper)\n",
    "my_breakfast"
   ]
  },
  {
   "cell_type": "markdown",
   "id": "f8e0211e",
   "metadata": {},
   "source": [
    "# Tuples"
   ]
  },
  {
   "cell_type": "code",
   "execution_count": null,
   "id": "4ce911fe",
   "metadata": {},
   "outputs": [],
   "source": []
  },
  {
   "attachments": {},
   "cell_type": "markdown",
   "id": "0562c4b6",
   "metadata": {},
   "source": [
    "Tuples are very similar to lists in all respects, except:\n",
    "* Defined differently\n",
    "\n",
    "`a = ('spam', 'egg', 'bacon', 'tomato')`\n",
    "* Tuples are immutable\n",
    "* Unpacking and Packing\n",
    "\n",
    "Use case: Mostly when you don’t want data modified"
   ]
  },
  {
   "cell_type": "code",
   "execution_count": 66,
   "id": "2053b024",
   "metadata": {},
   "outputs": [],
   "source": [
    "cities_list =  ['Dallas', 'Austin', 'San Antonio', 'Houston']"
   ]
  },
  {
   "cell_type": "code",
   "execution_count": 68,
   "id": "c83b23d5",
   "metadata": {},
   "outputs": [
    {
     "data": {
      "text/plain": [
       "['Dallas', 'Austin', 'San_Antonio', 'Houston']"
      ]
     },
     "execution_count": 68,
     "metadata": {},
     "output_type": "execute_result"
    }
   ],
   "source": [
    "cities_list[2] = 'San_Antonio'\n",
    "cities_list"
   ]
  },
  {
   "cell_type": "code",
   "execution_count": 69,
   "id": "06795753",
   "metadata": {},
   "outputs": [
    {
     "data": {
      "text/plain": [
       "('Dallas', 'Austin', 'San Antonio', 'Houston')"
      ]
     },
     "execution_count": 69,
     "metadata": {},
     "output_type": "execute_result"
    }
   ],
   "source": [
    "cities_tuple =  ('Dallas', 'Austin', 'San Antonio', 'Houston')\n",
    "cities_tuple"
   ]
  },
  {
   "cell_type": "code",
   "execution_count": 70,
   "id": "a6a42ed1",
   "metadata": {},
   "outputs": [
    {
     "data": {
      "text/plain": [
       "'San Antonio'"
      ]
     },
     "execution_count": 70,
     "metadata": {},
     "output_type": "execute_result"
    }
   ],
   "source": [
    "cities_tuple[2]"
   ]
  },
  {
   "cell_type": "code",
   "execution_count": null,
   "id": "bd5b1329",
   "metadata": {},
   "outputs": [],
   "source": [
    "cities_tuple[2]  = 'San_Antonio'"
   ]
  },
  {
   "cell_type": "markdown",
   "id": "e0a17afd",
   "metadata": {},
   "source": [
    "## Singleton tuple"
   ]
  },
  {
   "cell_type": "code",
   "execution_count": 71,
   "id": "5e242e05",
   "metadata": {},
   "outputs": [
    {
     "data": {
      "text/plain": [
       "tuple"
      ]
     },
     "execution_count": 71,
     "metadata": {},
     "output_type": "execute_result"
    }
   ],
   "source": [
    "t = ()\n",
    "type(t)"
   ]
  },
  {
   "cell_type": "code",
   "execution_count": 72,
   "id": "a1f57290",
   "metadata": {},
   "outputs": [
    {
     "data": {
      "text/plain": [
       "tuple"
      ]
     },
     "execution_count": 72,
     "metadata": {},
     "output_type": "execute_result"
    }
   ],
   "source": [
    "t = (1, 2)\n",
    "type(t)"
   ]
  },
  {
   "cell_type": "code",
   "execution_count": 73,
   "id": "ca3a163d",
   "metadata": {},
   "outputs": [
    {
     "data": {
      "text/plain": [
       "tuple"
      ]
     },
     "execution_count": 73,
     "metadata": {},
     "output_type": "execute_result"
    }
   ],
   "source": [
    "t = (1, 2, 3, 4, 5)\n",
    "type(t)"
   ]
  },
  {
   "cell_type": "code",
   "execution_count": 74,
   "id": "a6a6b146",
   "metadata": {
    "scrolled": true
   },
   "outputs": [
    {
     "data": {
      "text/plain": [
       "int"
      ]
     },
     "execution_count": 74,
     "metadata": {},
     "output_type": "execute_result"
    }
   ],
   "source": [
    "t = (2)\n",
    "type(t)"
   ]
  },
  {
   "cell_type": "markdown",
   "id": "7948fa45",
   "metadata": {},
   "source": [
    "## Tuple Unpacking"
   ]
  },
  {
   "cell_type": "code",
   "execution_count": 75,
   "id": "e4ed4184",
   "metadata": {},
   "outputs": [
    {
     "data": {
      "text/plain": [
       "(1, 2)"
      ]
     },
     "execution_count": 75,
     "metadata": {},
     "output_type": "execute_result"
    }
   ],
   "source": [
    "1,2"
   ]
  },
  {
   "cell_type": "code",
   "execution_count": 76,
   "id": "d983aab4",
   "metadata": {},
   "outputs": [],
   "source": [
    "a, b = (1,2)\n",
    "\n",
    "print(a)\n",
    "print(b)"
   ]
  },
  {
   "cell_type": "code",
   "execution_count": 89,
   "id": "fadcc11a",
   "metadata": {},
   "outputs": [
    {
     "name": "stdout",
     "output_type": "stream",
     "text": [
      "1\n",
      "2\n"
     ]
    }
   ],
   "source": [
    "a, b = 1,2\n",
    "\n",
    "print(a)\n",
    "print(b)"
   ]
  },
  {
   "cell_type": "code",
   "execution_count": 90,
   "id": "156a9167",
   "metadata": {},
   "outputs": [
    {
     "name": "stdout",
     "output_type": "stream",
     "text": [
      "avocado\n",
      "egg\n",
      "bacon\n",
      "tomato\n"
     ]
    }
   ],
   "source": [
    "t = ('avocado', 'egg', 'bacon', 'tomato')\n",
    "(s1, s2, s3, s4) = t\n",
    "\n",
    "# s1, s2, s3, s4 = 'avocado', 'egg', 'bacon', 'tomato'\n",
    "print(s1)\n",
    "print(s2)\n",
    "print(s3)\n",
    "print(s4)"
   ]
  },
  {
   "cell_type": "code",
   "execution_count": 84,
   "id": "5d052881",
   "metadata": {},
   "outputs": [],
   "source": [
    "a = 4\n",
    "b = 3"
   ]
  },
  {
   "cell_type": "code",
   "execution_count": 86,
   "id": "3396e659",
   "metadata": {},
   "outputs": [
    {
     "name": "stdout",
     "output_type": "stream",
     "text": [
      "4\n",
      "3\n"
     ]
    }
   ],
   "source": [
    "temp = a\n",
    "a = b\n",
    "b = temp\n",
    "\n",
    "print(a)\n",
    "print(b)"
   ]
  },
  {
   "cell_type": "code",
   "execution_count": 87,
   "id": "488ae827",
   "metadata": {},
   "outputs": [],
   "source": [
    "a = 4\n",
    "b = 3\n",
    "\n",
    "a, b = b, a\n",
    "print(a)\n",
    "print(b)"
   ]
  }
 ],
 "metadata": {
  "kernelspec": {
   "display_name": "python_workshop",
   "language": "python",
   "name": "python_workshop"
  },
  "language_info": {
   "codemirror_mode": {
    "name": "ipython",
    "version": 3
   },
   "file_extension": ".py",
   "mimetype": "text/x-python",
   "name": "python",
   "nbconvert_exporter": "python",
   "pygments_lexer": "ipython3",
   "version": "3.10.2"
  }
 },
 "nbformat": 4,
 "nbformat_minor": 5
}
