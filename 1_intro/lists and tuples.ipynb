{
 "cells": [
  {
   "cell_type": "markdown",
   "id": "406624a4",
   "metadata": {},
   "source": [
    "# Lists"
   ]
  },
  {
   "cell_type": "markdown",
   "id": "b56e70dd",
   "metadata": {},
   "source": [
    "A list is a collection of arbitrary objects, much like an array in other\n",
    "programming languages"
   ]
  },
  {
   "cell_type": "code",
   "execution_count": 6,
   "id": "9289a62a",
   "metadata": {},
   "outputs": [
    {
     "data": {
      "text/plain": [
       "list"
      ]
     },
     "execution_count": 6,
     "metadata": {},
     "output_type": "execute_result"
    }
   ],
   "source": [
    "cities = ['Dallas', 'Austin', 'San Antonio', 'Houston']\n",
    "type(cities)"
   ]
  },
  {
   "cell_type": "markdown",
   "id": "d4f0bb97",
   "metadata": {},
   "source": [
    "* Lists are ordered"
   ]
  },
  {
   "cell_type": "code",
   "execution_count": 1,
   "id": "cdf0a9e2",
   "metadata": {},
   "outputs": [],
   "source": [
    "cities = ['Dallas', 'Austin', 'San Antonio', 'Houston']\n",
    "cities2 = ['Austin', 'Dallas', 'San Antonio', 'Houston']"
   ]
  },
  {
   "cell_type": "code",
   "execution_count": 2,
   "id": "b359c96a",
   "metadata": {},
   "outputs": [
    {
     "data": {
      "text/plain": [
       "False"
      ]
     },
     "execution_count": 2,
     "metadata": {},
     "output_type": "execute_result"
    }
   ],
   "source": [
    "cities == cities2"
   ]
  },
  {
   "cell_type": "markdown",
   "id": "e8938136",
   "metadata": {},
   "source": [
    "* Lists can contain any arbitrary objects"
   ]
  },
  {
   "cell_type": "code",
   "execution_count": null,
   "id": "1f562b72",
   "metadata": {},
   "outputs": [],
   "source": [
    "project_numbers = [11424, 12345, 12407, 11776]"
   ]
  },
  {
   "cell_type": "code",
   "execution_count": 4,
   "id": "cc5aca46",
   "metadata": {},
   "outputs": [],
   "source": [
    "a_complex_list = [147, 'Sony', [12.5, 435], sum, abs]"
   ]
  },
  {
   "cell_type": "code",
   "execution_count": 5,
   "id": "81334c11",
   "metadata": {},
   "outputs": [
    {
     "data": {
      "text/plain": [
       "41"
      ]
     },
     "execution_count": 5,
     "metadata": {},
     "output_type": "execute_result"
    }
   ],
   "source": [
    "a_complex_list[-1](-41)"
   ]
  },
  {
   "cell_type": "markdown",
   "id": "7e356c34",
   "metadata": {},
   "source": [
    "* A list can contain any number of objects"
   ]
  },
  {
   "cell_type": "code",
   "execution_count": 27,
   "id": "884a99a4",
   "metadata": {},
   "outputs": [],
   "source": [
    "list1 = [1,2,3,4]\n",
    "list2 = []\n",
    "list3 = list(range(0,100_000))"
   ]
  },
  {
   "cell_type": "code",
   "execution_count": 28,
   "id": "c021d278",
   "metadata": {},
   "outputs": [
    {
     "data": {
      "text/plain": [
       "True"
      ]
     },
     "execution_count": 28,
     "metadata": {},
     "output_type": "execute_result"
    }
   ],
   "source": [
    "type(list1) == type(list2) == type(list3)"
   ]
  },
  {
   "attachments": {},
   "cell_type": "markdown",
   "id": "5afee458",
   "metadata": {},
   "source": [
    "* List elements can be accessed by index and also sliced\n",
    "\n",
    "`mylist[m]` \\\n",
    "`mylist[m:n]` Starting with position *m* and up to but not including position *n*"
   ]
  },
  {
   "cell_type": "code",
   "execution_count": 11,
   "id": "11b453a3",
   "metadata": {},
   "outputs": [
    {
     "data": {
      "text/plain": [
       "3333"
      ]
     },
     "execution_count": 11,
     "metadata": {},
     "output_type": "execute_result"
    }
   ],
   "source": [
    "project_numbers = [1111, 2222, 3333, 5554]\n",
    "project_numbers[2]"
   ]
  },
  {
   "cell_type": "code",
   "execution_count": 12,
   "id": "c40b523a",
   "metadata": {},
   "outputs": [
    {
     "data": {
      "text/plain": [
       "[1111, 2222]"
      ]
     },
     "execution_count": 12,
     "metadata": {},
     "output_type": "execute_result"
    }
   ],
   "source": [
    "project_numbers[0:2] # same as project_numbers[:2]"
   ]
  },
  {
   "cell_type": "code",
   "execution_count": 17,
   "id": "718fd5bd",
   "metadata": {},
   "outputs": [],
   "source": [
    "projects = project_numbers[:]"
   ]
  },
  {
   "cell_type": "code",
   "execution_count": 20,
   "id": "8ec8d313",
   "metadata": {},
   "outputs": [
    {
     "data": {
      "text/plain": [
       "True"
      ]
     },
     "execution_count": 20,
     "metadata": {},
     "output_type": "execute_result"
    }
   ],
   "source": [
    "projects == project_numbers"
   ]
  },
  {
   "cell_type": "code",
   "execution_count": 18,
   "id": "f4746669",
   "metadata": {},
   "outputs": [
    {
     "data": {
      "text/plain": [
       "False"
      ]
     },
     "execution_count": 18,
     "metadata": {},
     "output_type": "execute_result"
    }
   ],
   "source": [
    "id(projects) == id(project_numbers)"
   ]
  },
  {
   "cell_type": "code",
   "execution_count": 22,
   "id": "3d7e4430",
   "metadata": {},
   "outputs": [
    {
     "data": {
      "text/plain": [
       "[0, 1, 2, 3, 4, 5, 6, 7, 8, 9]"
      ]
     },
     "execution_count": 22,
     "metadata": {},
     "output_type": "execute_result"
    }
   ],
   "source": [
    "list1 = list(range(10))\n",
    "list1"
   ]
  },
  {
   "cell_type": "code",
   "execution_count": 23,
   "id": "5c86e389",
   "metadata": {},
   "outputs": [
    {
     "data": {
      "text/plain": [
       "[0, 2, 4, 6, 8]"
      ]
     },
     "execution_count": 23,
     "metadata": {},
     "output_type": "execute_result"
    }
   ],
   "source": [
    "list1[::2]"
   ]
  },
  {
   "cell_type": "code",
   "execution_count": 25,
   "id": "090ddad0",
   "metadata": {
    "scrolled": true
   },
   "outputs": [
    {
     "data": {
      "text/plain": [
       "1872692026240"
      ]
     },
     "execution_count": 25,
     "metadata": {},
     "output_type": "execute_result"
    }
   ],
   "source": [
    "id(list1[::-1])"
   ]
  },
  {
   "cell_type": "markdown",
   "id": "17c9d574",
   "metadata": {},
   "source": [
    "* Lists can be nested to arbitrary depth"
   ]
  },
  {
   "cell_type": "code",
   "execution_count": 30,
   "id": "106268dc",
   "metadata": {},
   "outputs": [
    {
     "data": {
      "text/plain": [
       "3"
      ]
     },
     "execution_count": 30,
     "metadata": {},
     "output_type": "execute_result"
    }
   ],
   "source": [
    "my_list=[[1,2],[3,4],[5,6,7]]\n",
    "len(my_list)"
   ]
  },
  {
   "cell_type": "code",
   "execution_count": 32,
   "id": "f1054efc",
   "metadata": {},
   "outputs": [
    {
     "data": {
      "text/plain": [
       "6"
      ]
     },
     "execution_count": 32,
     "metadata": {},
     "output_type": "execute_result"
    }
   ],
   "source": [
    "my_list[2][1]"
   ]
  },
  {
   "cell_type": "markdown",
   "id": "1a26a7d4",
   "metadata": {},
   "source": [
    "* Lists are mutable"
   ]
  },
  {
   "cell_type": "code",
   "execution_count": 33,
   "id": "9d9dfdf5",
   "metadata": {},
   "outputs": [],
   "source": [
    "my_list = [1,2,3 ,4 ,5, 6, 7, 8, 9]"
   ]
  },
  {
   "cell_type": "code",
   "execution_count": 34,
   "id": "080fa473",
   "metadata": {},
   "outputs": [],
   "source": [
    "my_list[0] = 888"
   ]
  },
  {
   "cell_type": "code",
   "execution_count": 35,
   "id": "b9a0cb71",
   "metadata": {},
   "outputs": [
    {
     "data": {
      "text/plain": [
       "[888, 2, 3, 4, 5, 6, 7, 8, 9]"
      ]
     },
     "execution_count": 35,
     "metadata": {},
     "output_type": "execute_result"
    }
   ],
   "source": [
    "my_list"
   ]
  },
  {
   "cell_type": "code",
   "execution_count": 36,
   "id": "1e06ecf5",
   "metadata": {},
   "outputs": [],
   "source": [
    "my_name = 'lorenzo' # my_name.title()"
   ]
  },
  {
   "cell_type": "code",
   "execution_count": 38,
   "id": "054edd5e",
   "metadata": {},
   "outputs": [
    {
     "ename": "TypeError",
     "evalue": "'str' object does not support item assignment",
     "output_type": "error",
     "traceback": [
      "\u001b[1;31m---------------------------------------------------------------------------\u001b[0m",
      "\u001b[1;31mTypeError\u001b[0m                                 Traceback (most recent call last)",
      "Cell \u001b[1;32mIn [38], line 1\u001b[0m\n\u001b[1;32m----> 1\u001b[0m \u001b[43mmy_name\u001b[49m\u001b[43m[\u001b[49m\u001b[38;5;241;43m0\u001b[39;49m\u001b[43m]\u001b[49m \u001b[38;5;241m=\u001b[39m \u001b[38;5;124m'\u001b[39m\u001b[38;5;124mL\u001b[39m\u001b[38;5;124m'\u001b[39m\n",
      "\u001b[1;31mTypeError\u001b[0m: 'str' object does not support item assignment"
     ]
    }
   ],
   "source": [
    "my_name[0] = 'L' # an error in purpose"
   ]
  },
  {
   "cell_type": "markdown",
   "id": "1c8d5d52",
   "metadata": {},
   "source": [
    "* Lists are dynamic"
   ]
  },
  {
   "cell_type": "code",
   "execution_count": 39,
   "id": "369866c8",
   "metadata": {},
   "outputs": [],
   "source": [
    "my_list = [1,2,3 ,4 ,5, 6, 7, 8, 9]\n",
    "my_list.extend([11,43,4321, 76])"
   ]
  },
  {
   "cell_type": "code",
   "execution_count": 40,
   "id": "ea83dece",
   "metadata": {},
   "outputs": [
    {
     "data": {
      "text/plain": [
       "[1, 2, 3, 4, 5, 6, 7, 8, 9, 11, 43, 4321, 76]"
      ]
     },
     "execution_count": 40,
     "metadata": {},
     "output_type": "execute_result"
    }
   ],
   "source": [
    "my_list"
   ]
  },
  {
   "cell_type": "markdown",
   "id": "27567cad",
   "metadata": {},
   "source": [
    "## Lists Operators"
   ]
  },
  {
   "cell_type": "markdown",
   "id": "45dae4e0",
   "metadata": {},
   "source": [
    "* `in` and `not in` membership operator"
   ]
  },
  {
   "cell_type": "code",
   "execution_count": 41,
   "id": "c824ed4d",
   "metadata": {},
   "outputs": [
    {
     "data": {
      "text/plain": [
       "False"
      ]
     },
     "execution_count": 41,
     "metadata": {},
     "output_type": "execute_result"
    }
   ],
   "source": [
    "cities = ['Dallas', 'Austin', 'San Antonio', 'Houston']\n",
    "'El Paso' in cities"
   ]
  },
  {
   "cell_type": "markdown",
   "id": "e2fac541",
   "metadata": {},
   "source": [
    "* `+` Concatenation\n",
    "* `*` Replication  (Creates multiple concatenated copies)"
   ]
  },
  {
   "cell_type": "code",
   "execution_count": 43,
   "id": "ddf9895c",
   "metadata": {},
   "outputs": [],
   "source": [
    "list1 = [1,2,3,4,5,6]"
   ]
  },
  {
   "cell_type": "code",
   "execution_count": 44,
   "id": "5ba2ecba",
   "metadata": {},
   "outputs": [],
   "source": [
    "list2 = [10,20,30,40]"
   ]
  },
  {
   "cell_type": "code",
   "execution_count": 45,
   "id": "8a02283b",
   "metadata": {},
   "outputs": [
    {
     "data": {
      "text/plain": [
       "[1, 2, 3, 4, 5, 6, 10, 20, 30, 40]"
      ]
     },
     "execution_count": 45,
     "metadata": {},
     "output_type": "execute_result"
    }
   ],
   "source": [
    "list1 + list2"
   ]
  },
  {
   "cell_type": "code",
   "execution_count": 46,
   "id": "8032d020",
   "metadata": {},
   "outputs": [],
   "source": [
    "list1 = [1,2,3,4,5,6]"
   ]
  },
  {
   "cell_type": "code",
   "execution_count": 48,
   "id": "7bf66050",
   "metadata": {},
   "outputs": [
    {
     "data": {
      "text/plain": [
       "1872695515072"
      ]
     },
     "execution_count": 48,
     "metadata": {},
     "output_type": "execute_result"
    }
   ],
   "source": [
    "id(list1)"
   ]
  },
  {
   "cell_type": "code",
   "execution_count": 50,
   "id": "596381ae",
   "metadata": {},
   "outputs": [
    {
     "data": {
      "text/plain": [
       "[1, 2, 3, 4, 5, 6, 1, 2, 3, 4, 5, 6, 1, 2, 3, 4, 5, 6, 1, 2, 3, 4, 5, 6]"
      ]
     },
     "execution_count": 50,
     "metadata": {},
     "output_type": "execute_result"
    }
   ],
   "source": [
    "list1* 4"
   ]
  },
  {
   "cell_type": "markdown",
   "id": "e39b3074",
   "metadata": {},
   "source": [
    "## Built-in Functions"
   ]
  },
  {
   "cell_type": "markdown",
   "id": "de8cac2e",
   "metadata": {},
   "source": [
    "* `len()` Returns the length of the list\n",
    "* `min()` or `max()` Returns the object from the list with minimum/maximum value\n",
    "max()"
   ]
  },
  {
   "cell_type": "code",
   "execution_count": null,
   "id": "4b8a307a",
   "metadata": {},
   "outputs": [],
   "source": []
  },
  {
   "cell_type": "code",
   "execution_count": null,
   "id": "ac352162",
   "metadata": {},
   "outputs": [],
   "source": []
  },
  {
   "cell_type": "markdown",
   "id": "c2a7e60c",
   "metadata": {},
   "source": [
    "my_list = [1,2,3 ,4 ,5, 6, 7, 8, 9]"
   ]
  },
  {
   "cell_type": "markdown",
   "id": "d32f26d1",
   "metadata": {},
   "source": [
    "# Tuples"
   ]
  },
  {
   "cell_type": "code",
   "execution_count": null,
   "id": "d87cec3a",
   "metadata": {},
   "outputs": [],
   "source": [
    "Tuples are identical to lists in all respects, except\n",
    "○ Defined differently\n",
    "○ Tuples are immutable\n",
    "○ Unpacking and Packing\n"
   ]
  }
 ],
 "metadata": {
  "kernelspec": {
   "display_name": "python_workshop",
   "language": "python",
   "name": "python_workshop"
  },
  "language_info": {
   "codemirror_mode": {
    "name": "ipython",
    "version": 3
   },
   "file_extension": ".py",
   "mimetype": "text/x-python",
   "name": "python",
   "nbconvert_exporter": "python",
   "pygments_lexer": "ipython3",
   "version": "3.10.2"
  }
 },
 "nbformat": 4,
 "nbformat_minor": 5
}
