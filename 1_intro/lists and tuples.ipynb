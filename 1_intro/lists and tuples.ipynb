{
 "cells": [
  {
   "cell_type": "markdown",
   "id": "5c4134b5",
   "metadata": {},
   "source": [
    "# Lists"
   ]
  },
  {
   "cell_type": "markdown",
   "id": "e2724a86",
   "metadata": {},
   "source": [
    "A list is a collection of arbitrary objects, much like an array in other\n",
    "programming languages"
   ]
  },
  {
   "cell_type": "code",
   "execution_count": 1,
   "id": "9289a62a",
   "metadata": {},
   "outputs": [
    {
     "data": {
      "text/plain": [
       "list"
      ]
     },
     "execution_count": 1,
     "metadata": {},
     "output_type": "execute_result"
    }
   ],
   "source": [
    "cities = ['Dallas', 'Austin', 'San Antonio', 'Houston']\n",
    "type(cities)"
   ]
  },
  {
   "cell_type": "markdown",
   "id": "ff1bf38f",
   "metadata": {},
   "source": [
    "* Lists are ordered"
   ]
  },
  {
   "cell_type": "code",
   "execution_count": 2,
   "id": "05c52160",
   "metadata": {},
   "outputs": [],
   "source": [
    "cities = ['Dallas', 'Austin', 'San Antonio', 'Houston']\n",
    "cities2 = ['Austin', 'Dallas', 'San Antonio', 'Houston']"
   ]
  },
  {
   "cell_type": "code",
   "execution_count": 3,
   "id": "715125c9",
   "metadata": {},
   "outputs": [
    {
     "data": {
      "text/plain": [
       "False"
      ]
     },
     "execution_count": 3,
     "metadata": {},
     "output_type": "execute_result"
    }
   ],
   "source": [
    "cities == cities2"
   ]
  },
  {
   "cell_type": "markdown",
   "id": "ba2ea480",
   "metadata": {},
   "source": [
    "* Lists can contain any arbitrary objects"
   ]
  },
  {
   "cell_type": "code",
   "execution_count": 4,
   "id": "c77f605f",
   "metadata": {},
   "outputs": [],
   "source": [
    "project_numbers = [11424, 12345, 12407, 11776]"
   ]
  },
  {
   "cell_type": "code",
   "execution_count": 5,
   "id": "ab6fb2b1",
   "metadata": {},
   "outputs": [],
   "source": [
    "a_complex_list = [147, 'Sony', [12.5, 435], sum, abs]"
   ]
  },
  {
   "cell_type": "code",
   "execution_count": 6,
   "id": "c547a262",
   "metadata": {},
   "outputs": [
    {
     "data": {
      "text/plain": [
       "41"
      ]
     },
     "execution_count": 6,
     "metadata": {},
     "output_type": "execute_result"
    }
   ],
   "source": [
    "a_complex_list[-1](-41)"
   ]
  },
  {
   "cell_type": "markdown",
   "id": "6e0bc97f",
   "metadata": {},
   "source": [
    "* A list can contain any number of objects"
   ]
  },
  {
   "cell_type": "code",
   "execution_count": 7,
   "id": "8474d935",
   "metadata": {},
   "outputs": [],
   "source": [
    "list1 = [1,2,3,4]\n",
    "list2 = []\n",
    "list3 = list(range(0,100_000))"
   ]
  },
  {
   "cell_type": "code",
   "execution_count": 8,
   "id": "0a7e95ea",
   "metadata": {},
   "outputs": [
    {
     "data": {
      "text/plain": [
       "True"
      ]
     },
     "execution_count": 8,
     "metadata": {},
     "output_type": "execute_result"
    }
   ],
   "source": [
    "type(list1) == type(list2) == type(list3)"
   ]
  },
  {
   "attachments": {},
   "cell_type": "markdown",
   "id": "74bd0b24",
   "metadata": {},
   "source": [
    "* List elements can be accessed by index and also sliced\n",
    "\n",
    "`mylist[m]` \\\n",
    "`mylist[m:n]` Starting with position *m* and up to but not including position *n*"
   ]
  },
  {
   "cell_type": "code",
   "execution_count": 9,
   "id": "43e34e4e",
   "metadata": {},
   "outputs": [
    {
     "data": {
      "text/plain": [
       "3333"
      ]
     },
     "execution_count": 9,
     "metadata": {},
     "output_type": "execute_result"
    }
   ],
   "source": [
    "project_numbers = [1111, 2222, 3333, 5554]\n",
    "project_numbers[2]"
   ]
  },
  {
   "cell_type": "code",
   "execution_count": 10,
   "id": "62f7d462",
   "metadata": {},
   "outputs": [
    {
     "data": {
      "text/plain": [
       "[1111, 2222]"
      ]
     },
     "execution_count": 10,
     "metadata": {},
     "output_type": "execute_result"
    }
   ],
   "source": [
    "project_numbers[0:2] # same as project_numbers[:2]"
   ]
  },
  {
   "cell_type": "code",
   "execution_count": 11,
   "id": "597ad57b",
   "metadata": {},
   "outputs": [],
   "source": [
    "projects = project_numbers[:]"
   ]
  },
  {
   "cell_type": "code",
   "execution_count": 12,
   "id": "e1311faf",
   "metadata": {},
   "outputs": [
    {
     "data": {
      "text/plain": [
       "True"
      ]
     },
     "execution_count": 12,
     "metadata": {},
     "output_type": "execute_result"
    }
   ],
   "source": [
    "projects == project_numbers"
   ]
  },
  {
   "cell_type": "code",
   "execution_count": 13,
   "id": "05a932d4",
   "metadata": {},
   "outputs": [
    {
     "data": {
      "text/plain": [
       "False"
      ]
     },
     "execution_count": 13,
     "metadata": {},
     "output_type": "execute_result"
    }
   ],
   "source": [
    "id(projects) == id(project_numbers)"
   ]
  },
  {
   "cell_type": "code",
   "execution_count": 14,
   "id": "47408057",
   "metadata": {},
   "outputs": [
    {
     "data": {
      "text/plain": [
       "[0, 1, 2, 3, 4, 5, 6, 7, 8, 9]"
      ]
     },
     "execution_count": 14,
     "metadata": {},
     "output_type": "execute_result"
    }
   ],
   "source": [
    "list1 = list(range(10))\n",
    "list1"
   ]
  },
  {
   "cell_type": "code",
   "execution_count": 15,
   "id": "c8690147",
   "metadata": {},
   "outputs": [
    {
     "data": {
      "text/plain": [
       "[0, 2, 4, 6, 8]"
      ]
     },
     "execution_count": 15,
     "metadata": {},
     "output_type": "execute_result"
    }
   ],
   "source": [
    "list1[::2]"
   ]
  },
  {
   "cell_type": "code",
   "execution_count": 16,
   "id": "947dbfaa",
   "metadata": {
    "scrolled": true
   },
   "outputs": [
    {
     "data": {
      "text/plain": [
       "2515330217984"
      ]
     },
     "execution_count": 16,
     "metadata": {},
     "output_type": "execute_result"
    }
   ],
   "source": [
    "id(list1[::-1])"
   ]
  },
  {
   "cell_type": "markdown",
   "id": "5de980fa",
   "metadata": {},
   "source": [
    "* Lists can be nested to arbitrary depth"
   ]
  },
  {
   "cell_type": "code",
   "execution_count": 17,
   "id": "038f25ba",
   "metadata": {},
   "outputs": [
    {
     "data": {
      "text/plain": [
       "3"
      ]
     },
     "execution_count": 17,
     "metadata": {},
     "output_type": "execute_result"
    }
   ],
   "source": [
    "my_list=[[1,2],[3,4],[5,6,7]]\n",
    "len(my_list)"
   ]
  },
  {
   "cell_type": "code",
   "execution_count": 18,
   "id": "0f4cfa80",
   "metadata": {},
   "outputs": [
    {
     "data": {
      "text/plain": [
       "6"
      ]
     },
     "execution_count": 18,
     "metadata": {},
     "output_type": "execute_result"
    }
   ],
   "source": [
    "my_list[2][1]"
   ]
  },
  {
   "cell_type": "markdown",
   "id": "0d83b1da",
   "metadata": {},
   "source": [
    "* Lists are mutable"
   ]
  },
  {
   "cell_type": "code",
   "execution_count": 19,
   "id": "1facc1a6",
   "metadata": {},
   "outputs": [],
   "source": [
    "my_list = [1,2,3 ,4 ,5, 6, 7, 8, 9]"
   ]
  },
  {
   "cell_type": "code",
   "execution_count": 20,
   "id": "6e605c68",
   "metadata": {},
   "outputs": [],
   "source": [
    "my_list[0] = 888"
   ]
  },
  {
   "cell_type": "code",
   "execution_count": 21,
   "id": "87016ce6",
   "metadata": {},
   "outputs": [
    {
     "data": {
      "text/plain": [
       "[888, 2, 3, 4, 5, 6, 7, 8, 9]"
      ]
     },
     "execution_count": 21,
     "metadata": {},
     "output_type": "execute_result"
    }
   ],
   "source": [
    "my_list"
   ]
  },
  {
   "cell_type": "code",
   "execution_count": 22,
   "id": "c5d10cb8",
   "metadata": {},
   "outputs": [],
   "source": [
    "my_name = 'lorenzo' # my_name.title()"
   ]
  },
  {
   "cell_type": "code",
   "execution_count": 23,
   "id": "38243f91",
   "metadata": {},
   "outputs": [
    {
     "ename": "TypeError",
     "evalue": "'str' object does not support item assignment",
     "output_type": "error",
     "traceback": [
      "\u001b[1;31m---------------------------------------------------------------------------\u001b[0m",
      "\u001b[1;31mTypeError\u001b[0m                                 Traceback (most recent call last)",
      "Cell \u001b[1;32mIn [23], line 1\u001b[0m\n\u001b[1;32m----> 1\u001b[0m \u001b[43mmy_name\u001b[49m\u001b[43m[\u001b[49m\u001b[38;5;241;43m0\u001b[39;49m\u001b[43m]\u001b[49m \u001b[38;5;241m=\u001b[39m \u001b[38;5;124m'\u001b[39m\u001b[38;5;124mL\u001b[39m\u001b[38;5;124m'\u001b[39m\n",
      "\u001b[1;31mTypeError\u001b[0m: 'str' object does not support item assignment"
     ]
    }
   ],
   "source": [
    "my_name[0] = 'L' # an error in purpose"
   ]
  },
  {
   "cell_type": "code",
   "execution_count": 24,
   "id": "c506fcd7",
   "metadata": {},
   "outputs": [],
   "source": [
    "my_list = [1,2,3 ,4 ,5, 6, 7, 8, 9]"
   ]
  },
  {
   "cell_type": "code",
   "execution_count": 25,
   "id": "0cb36a3b",
   "metadata": {},
   "outputs": [],
   "source": [
    "my_list[3:5] = ['Hello', 'Wonderful', 'World', '!', ]"
   ]
  },
  {
   "cell_type": "code",
   "execution_count": 26,
   "id": "c30bc4a2",
   "metadata": {},
   "outputs": [
    {
     "data": {
      "text/plain": [
       "[1, 2, 3, 'Hello', 'Wonderful', 'World', '!', 6, 7, 8, 9]"
      ]
     },
     "execution_count": 26,
     "metadata": {},
     "output_type": "execute_result"
    }
   ],
   "source": [
    "my_list"
   ]
  },
  {
   "cell_type": "markdown",
   "id": "f1b079fb",
   "metadata": {},
   "source": [
    "* Lists are dynamic"
   ]
  },
  {
   "cell_type": "code",
   "execution_count": 27,
   "id": "521310ad",
   "metadata": {},
   "outputs": [],
   "source": [
    "my_list = [1,2,3 ,4 ,5, 6, 7, 8, 9]\n",
    "my_list.extend([11,43,4321, 76])"
   ]
  },
  {
   "cell_type": "code",
   "execution_count": 28,
   "id": "7a962d3c",
   "metadata": {},
   "outputs": [
    {
     "data": {
      "text/plain": [
       "[1, 2, 3, 4, 5, 6, 7, 8, 9, 11, 43, 4321, 76]"
      ]
     },
     "execution_count": 28,
     "metadata": {},
     "output_type": "execute_result"
    }
   ],
   "source": [
    "my_list"
   ]
  },
  {
   "cell_type": "markdown",
   "id": "9d608e0e",
   "metadata": {},
   "source": [
    "## Lists Operators"
   ]
  },
  {
   "cell_type": "markdown",
   "id": "c3eda23e",
   "metadata": {},
   "source": [
    "* `in` and `not in` membership operator"
   ]
  },
  {
   "cell_type": "code",
   "execution_count": null,
   "id": "3607e4c0",
   "metadata": {},
   "outputs": [],
   "source": [
    "cities = ['Dallas', 'Austin', 'San Antonio', 'Houston']\n",
    "'El Paso' in cities"
   ]
  },
  {
   "cell_type": "markdown",
   "id": "9ed9d81e",
   "metadata": {},
   "source": [
    "* `+` Concatenation\n",
    "* `*` Replication  (Creates multiple concatenated copies)"
   ]
  },
  {
   "cell_type": "code",
   "execution_count": 37,
   "id": "c7e7dc58",
   "metadata": {},
   "outputs": [],
   "source": [
    "list1 = [1,2,3,4,5,6]"
   ]
  },
  {
   "cell_type": "code",
   "execution_count": null,
   "id": "867160c3",
   "metadata": {},
   "outputs": [],
   "source": [
    "list2 = [10,20,30,40]"
   ]
  },
  {
   "cell_type": "code",
   "execution_count": null,
   "id": "8b36b120",
   "metadata": {},
   "outputs": [],
   "source": [
    "list1 + list2"
   ]
  },
  {
   "cell_type": "code",
   "execution_count": null,
   "id": "e8412e80",
   "metadata": {},
   "outputs": [],
   "source": [
    "list1 = [1,2,3,4,5,6]"
   ]
  },
  {
   "cell_type": "code",
   "execution_count": null,
   "id": "821cd1a3",
   "metadata": {},
   "outputs": [],
   "source": [
    "list1*4"
   ]
  },
  {
   "cell_type": "markdown",
   "id": "4bc1f981",
   "metadata": {},
   "source": [
    "## Built-in Functions"
   ]
  },
  {
   "cell_type": "markdown",
   "id": "72ac812b",
   "metadata": {},
   "source": [
    "* `len()` Returns the length of the list\n",
    "* `min()` or `max()` Returns the object from the list with minimum/maximum value\n",
    "\n",
    "Note: To use min() or max() list should be homogeneous"
   ]
  },
  {
   "cell_type": "code",
   "execution_count": null,
   "id": "e3ccd1c5",
   "metadata": {},
   "outputs": [],
   "source": [
    "list1 = [1,2,3,4,5,6, 'golf']"
   ]
  },
  {
   "cell_type": "markdown",
   "id": "6b8f7735",
   "metadata": {},
   "source": [
    "## List methods"
   ]
  },
  {
   "cell_type": "markdown",
   "id": "a5ff892c",
   "metadata": {},
   "source": [
    "[docs](https://docs.python.org/3/library/stdtypes.html#sequence-types-list-tuple-range)"
   ]
  },
  {
   "cell_type": "code",
   "execution_count": 41,
   "id": "d7635505",
   "metadata": {},
   "outputs": [
    {
     "data": {
      "text/plain": [
       "[1, 2, 3, 4, 5]"
      ]
     },
     "execution_count": 41,
     "metadata": {},
     "output_type": "execute_result"
    }
   ],
   "source": [
    "list1 = [1,2,3,4]\n",
    "list1.append(5)\n",
    "list1"
   ]
  },
  {
   "cell_type": "code",
   "execution_count": 43,
   "id": "51bc6d8c",
   "metadata": {},
   "outputs": [
    {
     "name": "stdout",
     "output_type": "stream",
     "text": [
      "None\n"
     ]
    }
   ],
   "source": [
    "x = list1.append(5)\n",
    "print(x)"
   ]
  },
  {
   "cell_type": "code",
   "execution_count": 44,
   "id": "55a98076",
   "metadata": {},
   "outputs": [
    {
     "data": {
      "text/plain": [
       "[1, 2, 3, 4, 5, 5, 5, 10, 11, 12, 13]"
      ]
     },
     "execution_count": 44,
     "metadata": {},
     "output_type": "execute_result"
    }
   ],
   "source": [
    "list1.extend([10, 11, 12, 13])\n",
    "list1"
   ]
  },
  {
   "cell_type": "code",
   "execution_count": 45,
   "id": "d161f231",
   "metadata": {},
   "outputs": [],
   "source": [
    "list1 = [1,2,3,4]\n",
    "list1.insert(1, 'Hello')\n",
    "list1"
   ]
  },
  {
   "cell_type": "code",
   "execution_count": 46,
   "id": "2f97297b",
   "metadata": {},
   "outputs": [
    {
     "data": {
      "text/plain": [
       "[1, 2, 4]"
      ]
     },
     "execution_count": 46,
     "metadata": {},
     "output_type": "execute_result"
    }
   ],
   "source": [
    "list1 = [1,2,3,4]\n",
    "list1.remove(3)\n",
    "list1"
   ]
  },
  {
   "cell_type": "code",
   "execution_count": 47,
   "id": "cd2be785",
   "metadata": {},
   "outputs": [
    {
     "ename": "ValueError",
     "evalue": "list.remove(x): x not in list",
     "output_type": "error",
     "traceback": [
      "\u001b[1;31m---------------------------------------------------------------------------\u001b[0m",
      "\u001b[1;31mValueError\u001b[0m                                Traceback (most recent call last)",
      "Cell \u001b[1;32mIn [47], line 2\u001b[0m\n\u001b[0;32m      1\u001b[0m list1 \u001b[38;5;241m=\u001b[39m [\u001b[38;5;241m1\u001b[39m,\u001b[38;5;241m2\u001b[39m,\u001b[38;5;241m3\u001b[39m,\u001b[38;5;241m4\u001b[39m]\n\u001b[1;32m----> 2\u001b[0m \u001b[43mlist1\u001b[49m\u001b[38;5;241;43m.\u001b[39;49m\u001b[43mremove\u001b[49m\u001b[43m(\u001b[49m\u001b[38;5;241;43m5\u001b[39;49m\u001b[43m)\u001b[49m\n\u001b[0;32m      3\u001b[0m list1\n",
      "\u001b[1;31mValueError\u001b[0m: list.remove(x): x not in list"
     ]
    }
   ],
   "source": [
    "list1 = [1,2,3,4]\n",
    "list1.remove(5)\n",
    "list1"
   ]
  },
  {
   "cell_type": "code",
   "execution_count": 48,
   "id": "7870ea94",
   "metadata": {},
   "outputs": [
    {
     "data": {
      "text/plain": [
       "[1, 3, 2]"
      ]
     },
     "execution_count": 48,
     "metadata": {},
     "output_type": "execute_result"
    }
   ],
   "source": [
    "list1 = [1,2,3,2]\n",
    "list1.remove(2)\n",
    "list1"
   ]
  },
  {
   "cell_type": "code",
   "execution_count": 53,
   "id": "ddd37549",
   "metadata": {},
   "outputs": [
    {
     "name": "stdout",
     "output_type": "stream",
     "text": [
      "[11, 22, 44]\n",
      "33\n"
     ]
    }
   ],
   "source": [
    "list1 = [11, 22, 33, 44]\n",
    "n = list1.pop(2) # You specify the index of the item to remove, rather than the object itself.\n",
    "             # The method returns a value: the item that was removed.\n",
    "print(list1)\n",
    "print(n)"
   ]
  },
  {
   "cell_type": "code",
   "execution_count": 59,
   "id": "af7e08a7",
   "metadata": {},
   "outputs": [
    {
     "data": {
      "text/plain": [
       "[908, 796, 760, 748, 712, 711, 624, 614, 486, 360, 352, 327, 298, 271, 124]"
      ]
     },
     "execution_count": 59,
     "metadata": {},
     "output_type": "execute_result"
    }
   ],
   "source": [
    "list1 = [760, 796, 624, 711, 298, 486, 748, 614, 352, 908, 360, 271, 712, 327, 124]\n",
    "list1.sort(reverse = True)   # sort(key, reverse)\n",
    "list1"
   ]
  },
  {
   "cell_type": "code",
   "execution_count": 62,
   "id": "4b97f31c",
   "metadata": {},
   "outputs": [
    {
     "data": {
      "text/plain": [
       "['avocado', 'bacon', 'Cream cheese', 'Eggs', 'latte']"
      ]
     },
     "execution_count": 62,
     "metadata": {},
     "output_type": "execute_result"
    }
   ],
   "source": [
    "my_breakfast = ['bacon', 'Eggs', 'avocado', 'Cream cheese', 'latte']\n",
    "my_breakfast.sort(key = str.upper)\n",
    "my_breakfast"
   ]
  },
  {
   "cell_type": "markdown",
   "id": "0552e614",
   "metadata": {},
   "source": [
    "# Tuples"
   ]
  },
  {
   "cell_type": "code",
   "execution_count": null,
   "id": "99282058",
   "metadata": {},
   "outputs": [],
   "source": [
    "Tuples are identical to lists in all respects, except\n",
    "○ Defined differently\n",
    "○ Tuples are immutable\n",
    "○ Unpacking and Packing\n"
   ]
  }
 ],
 "metadata": {
  "kernelspec": {
   "display_name": "python_workshop",
   "language": "python",
   "name": "python_workshop"
  },
  "language_info": {
   "codemirror_mode": {
    "name": "ipython",
    "version": 3
   },
   "file_extension": ".py",
   "mimetype": "text/x-python",
   "name": "python",
   "nbconvert_exporter": "python",
   "pygments_lexer": "ipython3",
   "version": "3.10.2"
  }
 },
 "nbformat": 4,
 "nbformat_minor": 5
}
