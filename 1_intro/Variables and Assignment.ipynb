{
 "cells": [
  {
   "cell_type": "markdown",
   "id": "271df3a8",
   "metadata": {
    "slideshow": {
     "slide_type": "slide"
    }
   },
   "source": [
    "# 1.0 Creating variables"
   ]
  },
  {
   "cell_type": "markdown",
   "id": "ed39ec9b",
   "metadata": {
    "slideshow": {
     "slide_type": "fragment"
    }
   },
   "source": [
    "In Python, **variables** are names that can be assigned a value and then used to refer to that value throughout your code."
   ]
  },
  {
   "cell_type": "markdown",
   "id": "a15f513c",
   "metadata": {
    "slideshow": {
     "slide_type": "fragment"
    }
   },
   "source": [
    "*Variables are fundamental to programming for two reasons:* \n",
    "1. Variables keep values accessible. (Variable names are case-sensitive)\n",
    "2. Variables give values context"
   ]
  },
  {
   "cell_type": "code",
   "execution_count": 1,
   "id": "d175ba5f",
   "metadata": {
    "slideshow": {
     "slide_type": "-"
    }
   },
   "outputs": [
    {
     "name": "stdout",
     "output_type": "stream",
     "text": [
      "Earth\n"
     ]
    }
   ],
   "source": [
    "planet = 'Earth'\n",
    "print(planet)"
   ]
  },
  {
   "cell_type": "markdown",
   "id": "6dbb73e3",
   "metadata": {},
   "source": [
    "## 1.1 The Assignment Operator `=`"
   ]
  },
  {
   "cell_type": "markdown",
   "id": "e0ab0fa0",
   "metadata": {},
   "source": [
    "The `=` operator takes the value to the right of the operator and assigns it to\n",
    "the name on the left (i.e., binding the name to the value)"
   ]
  },
  {
   "cell_type": "markdown",
   "id": "aea20318",
   "metadata": {},
   "source": [
    "#### Rules for Valid Variable Names\n",
    "* May contain uppercase and lowercase letters ( A-Z , a-z )\n",
    "* Digits ( 0-9 )\n",
    "* Underscores ( _ )\n",
    "* Cannot begin with a digit\n",
    "\n",
    "Valid Python names:\n",
    "* `soilboring1`\n",
    "* `_drilling`\n",
    "* `list_of_boreholes`\n",
    "\n",
    "Invalid Python names:\n",
    "* `2nd_chance`\n",
    "* `50cent`"
   ]
  },
  {
   "cell_type": "markdown",
   "id": "523feb02",
   "metadata": {},
   "source": [
    "#### Python variable naming conventions"
   ]
  },
  {
   "cell_type": "markdown",
   "id": "c1a23c8b",
   "metadata": {},
   "source": [
    "*mixedCase*\n",
    " * numStudents, listOfNames, secondsPerHour\n",
    " \n",
    "*lower_case_with_underscores*\n",
    " * seconds_per_hour\n",
    " \n",
    "[PEP 8](https://peps.python.org/pep-0008/#class-names) - Widely regarded as the official style guide for writing Python"
   ]
  },
  {
   "cell_type": "markdown",
   "id": "aa987b85",
   "metadata": {},
   "source": [
    "#### Descriptive Names Are Better Than Short Names"
   ]
  },
  {
   "cell_type": "code",
   "execution_count": 2,
   "id": "61c00b55",
   "metadata": {},
   "outputs": [],
   "source": [
    "s = 3600\n",
    "seconds = 3600\n",
    "seconds_per_hour = 3600"
   ]
  },
  {
   "cell_type": "markdown",
   "id": "d5ddd770",
   "metadata": {},
   "source": [
    "## 1.2 Inspecting Values"
   ]
  },
  {
   "cell_type": "code",
   "execution_count": 3,
   "id": "31602085",
   "metadata": {},
   "outputs": [
    {
     "data": {
      "text/plain": [
       "3600"
      ]
     },
     "execution_count": 3,
     "metadata": {},
     "output_type": "execute_result"
    }
   ],
   "source": [
    "seconds_per_hour"
   ]
  },
  {
   "cell_type": "markdown",
   "id": "a66323e3",
   "metadata": {},
   "source": [
    "Type the name of the variable by itself at the prompt"
   ]
  },
  {
   "cell_type": "code",
   "execution_count": 4,
   "id": "12245d06",
   "metadata": {},
   "outputs": [
    {
     "data": {
      "text/plain": [
       "3600"
      ]
     },
     "execution_count": 4,
     "metadata": {},
     "output_type": "execute_result"
    }
   ],
   "source": [
    "seconds_per_hour"
   ]
  },
  {
   "cell_type": "markdown",
   "id": "7fdb5a0f",
   "metadata": {},
   "source": [
    "You may see a different output displayed compared to using `print()`"
   ]
  },
  {
   "cell_type": "code",
   "execution_count": 5,
   "id": "97cb73e8",
   "metadata": {},
   "outputs": [],
   "source": [
    "import datetime\n",
    "today = datetime.datetime.now().date() "
   ]
  },
  {
   "cell_type": "code",
   "execution_count": 6,
   "id": "caa34a68",
   "metadata": {},
   "outputs": [
    {
     "data": {
      "text/plain": [
       "datetime.date(2022, 10, 30)"
      ]
     },
     "execution_count": 6,
     "metadata": {},
     "output_type": "execute_result"
    }
   ],
   "source": [
    "today                            # uses the __repr__ method"
   ]
  },
  {
   "cell_type": "code",
   "execution_count": 7,
   "id": "40560dd9",
   "metadata": {},
   "outputs": [
    {
     "name": "stdout",
     "output_type": "stream",
     "text": [
      "2022-10-30\n"
     ]
    }
   ],
   "source": [
    "print(today)                    # uses the __str__ method"
   ]
  },
  {
   "cell_type": "markdown",
   "id": "c5620934",
   "metadata": {},
   "source": [
    "You can also learn more about a variable by using type()"
   ]
  },
  {
   "cell_type": "code",
   "execution_count": 9,
   "id": "fbc5cd51",
   "metadata": {},
   "outputs": [
    {
     "data": {
      "text/plain": [
       "int"
      ]
     },
     "execution_count": 9,
     "metadata": {},
     "output_type": "execute_result"
    }
   ],
   "source": [
    "type(seconds_per_hour)"
   ]
  },
  {
   "cell_type": "markdown",
   "id": "32ce7612",
   "metadata": {},
   "source": [
    "# 2.0 How to Write a Comment"
   ]
  },
  {
   "cell_type": "markdown",
   "id": "b89fafa9",
   "metadata": {},
   "source": [
    "Using the `#`"
   ]
  },
  {
   "cell_type": "code",
   "execution_count": 10,
   "id": "be4ac9cc",
   "metadata": {},
   "outputs": [],
   "source": [
    "# This is a block comment.\n",
    "greeting = \"Hello, World\""
   ]
  },
  {
   "cell_type": "code",
   "execution_count": 11,
   "id": "06f02d28",
   "metadata": {},
   "outputs": [
    {
     "name": "stdout",
     "output_type": "stream",
     "text": [
      "Hello, World\n"
     ]
    }
   ],
   "source": [
    "print(greeting) # This is an inline comment"
   ]
  }
 ],
 "metadata": {
  "kernelspec": {
   "display_name": "python_workshop",
   "language": "python",
   "name": "python_workshop"
  },
  "language_info": {
   "codemirror_mode": {
    "name": "ipython",
    "version": 3
   },
   "file_extension": ".py",
   "mimetype": "text/x-python",
   "name": "python",
   "nbconvert_exporter": "python",
   "pygments_lexer": "ipython3",
   "version": "3.10.2"
  }
 },
 "nbformat": 4,
 "nbformat_minor": 5
}
