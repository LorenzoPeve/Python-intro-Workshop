{
 "cells": [
  {
   "cell_type": "markdown",
   "id": "fb93c9ab",
   "metadata": {
    "slideshow": {
     "slide_type": "slide"
    }
   },
   "source": [
    "# 1.0 Creating variables"
   ]
  },
  {
   "cell_type": "markdown",
   "id": "630d6cf6",
   "metadata": {
    "slideshow": {
     "slide_type": "fragment"
    }
   },
   "source": [
    "In Python, **variables** are names (references) that can be assigned a value and then used to refer to that value throughout your code."
   ]
  },
  {
   "cell_type": "markdown",
   "id": "83d5d2c0",
   "metadata": {
    "slideshow": {
     "slide_type": "fragment"
    }
   },
   "source": [
    "*Variables are fundamental to programming for two reasons:* \n",
    "1. Variables keep values accessible. (Variable names are case-sensitive)\n",
    "2. Variables give values context"
   ]
  },
  {
   "cell_type": "markdown",
   "id": "23c4d5e8",
   "metadata": {},
   "source": [
    "## 1.1 The Assignment Operator `=`"
   ]
  },
  {
   "cell_type": "markdown",
   "id": "51a17682",
   "metadata": {},
   "source": [
    "The `=` operator takes the value to the right of the operator and assigns it to\n",
    "the name on the left (i.e., binding the name to the value)"
   ]
  },
  {
   "cell_type": "code",
   "execution_count": 8,
   "id": "a6d8b505",
   "metadata": {
    "scrolled": true,
    "slideshow": {
     "slide_type": "-"
    }
   },
   "outputs": [
    {
     "name": "stdout",
     "output_type": "stream",
     "text": [
      "Earth\n"
     ]
    }
   ],
   "source": [
    "planet = 'Earth'  # This reads as “planet is assigned the value 'Earth'.”\n",
    "print(planet)"
   ]
  },
  {
   "cell_type": "markdown",
   "id": "201dbe89",
   "metadata": {},
   "source": [
    "#### Rules for Valid Variable Names\n",
    "* May contain uppercase and lowercase letters ( A-Z , a-z )\n",
    "* Digits ( 0-9 )\n",
    "* Underscores ( _ )\n",
    "* Cannot begin with a digit\n",
    "* Cannot be reserved [keywords](https://docs.python.org/3.8/reference/lexical_analysis.html#keywords)\n",
    "\n",
    "Valid Python names:\n",
    "* `soilboring1`\n",
    "* `_drilling`\n",
    "* `list_of_boreholes`\n",
    "\n",
    "Invalid Python names:\n",
    "* `2nd_chance`\n",
    "* `50cent`\n",
    "* `myname!`"
   ]
  },
  {
   "cell_type": "markdown",
   "id": "5087498d",
   "metadata": {},
   "source": [
    "#### Python variable naming conventions"
   ]
  },
  {
   "cell_type": "markdown",
   "id": "ae7287e4",
   "metadata": {},
   "source": [
    "*mixedCase*\n",
    " * numStudents, listOfNames, secondsPerHour\n",
    " \n",
    "*lower_case_with_underscores*\n",
    " * seconds_per_hour\n",
    " \n",
    "[PEP 8](https://peps.python.org/pep-0008/#class-names) - Widely regarded as the official style guide for writing Python"
   ]
  },
  {
   "cell_type": "markdown",
   "id": "22ccd676",
   "metadata": {},
   "source": [
    "#### Descriptive Names Are Better Than Short Names"
   ]
  },
  {
   "cell_type": "code",
   "execution_count": 2,
   "id": "e5cc7b37",
   "metadata": {},
   "outputs": [],
   "source": [
    "s = 3600\n",
    "seconds = 3600\n",
    "seconds_per_hour = 3600"
   ]
  },
  {
   "cell_type": "markdown",
   "id": "f2199bfd",
   "metadata": {},
   "source": [
    "## 1.2 Python is dynamically typed"
   ]
  },
  {
   "cell_type": "markdown",
   "id": "328065cf",
   "metadata": {},
   "source": [
    "In JAVA  variables are statically typed\n",
    "```{java}\n",
    "String name = \"John\";\n",
    "System.out.println(name);\n",
    "\n",
    "int myNum = 15;\n",
    "System.out.println(myNum);\n",
    "```"
   ]
  },
  {
   "cell_type": "code",
   "execution_count": null,
   "id": "f0aa76bb",
   "metadata": {},
   "outputs": [],
   "source": [
    "n = 300\n",
    "n = 'JupyterNotebook'"
   ]
  },
  {
   "cell_type": "markdown",
   "id": "cc555298",
   "metadata": {},
   "source": [
    "## 1.3 Inspecting Values"
   ]
  },
  {
   "cell_type": "code",
   "execution_count": 3,
   "id": "68d8bfbf",
   "metadata": {},
   "outputs": [
    {
     "data": {
      "text/plain": [
       "3600"
      ]
     },
     "execution_count": 3,
     "metadata": {},
     "output_type": "execute_result"
    }
   ],
   "source": [
    "seconds_per_hour"
   ]
  },
  {
   "cell_type": "markdown",
   "id": "cbf6271f",
   "metadata": {},
   "source": [
    "Type the name of the variable by itself at the prompt"
   ]
  },
  {
   "cell_type": "code",
   "execution_count": 4,
   "id": "308179e1",
   "metadata": {},
   "outputs": [
    {
     "data": {
      "text/plain": [
       "3600"
      ]
     },
     "execution_count": 4,
     "metadata": {},
     "output_type": "execute_result"
    }
   ],
   "source": [
    "seconds_per_hour"
   ]
  },
  {
   "cell_type": "markdown",
   "id": "5a3908eb",
   "metadata": {},
   "source": [
    "`NameError`"
   ]
  },
  {
   "cell_type": "code",
   "execution_count": 5,
   "id": "dfa5ca6b",
   "metadata": {},
   "outputs": [
    {
     "ename": "NameError",
     "evalue": "name 'favorite_number' is not defined",
     "output_type": "error",
     "traceback": [
      "\u001b[1;31m---------------------------------------------------------------------------\u001b[0m",
      "\u001b[1;31mNameError\u001b[0m                                 Traceback (most recent call last)",
      "Cell \u001b[1;32mIn [5], line 1\u001b[0m\n\u001b[1;32m----> 1\u001b[0m \u001b[43mfavorite_number\u001b[49m\n",
      "\u001b[1;31mNameError\u001b[0m: name 'favorite_number' is not defined"
     ]
    }
   ],
   "source": [
    "favorite_number  # an error in purpose"
   ]
  },
  {
   "cell_type": "markdown",
   "id": "8dac5420",
   "metadata": {},
   "source": [
    "You may see a different output displayed compared to using `print()`"
   ]
  },
  {
   "cell_type": "code",
   "execution_count": 6,
   "id": "648dcb41",
   "metadata": {},
   "outputs": [],
   "source": [
    "import datetime\n",
    "today = datetime.datetime.now().date() "
   ]
  },
  {
   "cell_type": "code",
   "execution_count": 7,
   "id": "21f9fd56",
   "metadata": {},
   "outputs": [
    {
     "data": {
      "text/plain": [
       "datetime.date(2022, 10, 30)"
      ]
     },
     "execution_count": 7,
     "metadata": {},
     "output_type": "execute_result"
    }
   ],
   "source": [
    "today                            # uses the __repr__ method"
   ]
  },
  {
   "cell_type": "code",
   "execution_count": 8,
   "id": "6730195d",
   "metadata": {},
   "outputs": [
    {
     "name": "stdout",
     "output_type": "stream",
     "text": [
      "2022-10-30\n"
     ]
    }
   ],
   "source": [
    "print(today)                    # uses the __str__ method"
   ]
  },
  {
   "cell_type": "markdown",
   "id": "16f2d6f2",
   "metadata": {},
   "source": [
    "You can also learn more about a variable by using type()"
   ]
  },
  {
   "cell_type": "code",
   "execution_count": 9,
   "id": "60461a73",
   "metadata": {},
   "outputs": [
    {
     "data": {
      "text/plain": [
       "int"
      ]
     },
     "execution_count": 9,
     "metadata": {},
     "output_type": "execute_result"
    }
   ],
   "source": [
    "type(seconds_per_hour)"
   ]
  },
  {
   "cell_type": "markdown",
   "id": "fe9b7279",
   "metadata": {},
   "source": [
    "# 2.0 How to Write a Comment"
   ]
  },
  {
   "cell_type": "markdown",
   "id": "53f123e4",
   "metadata": {},
   "source": [
    "Using the `#`"
   ]
  },
  {
   "cell_type": "code",
   "execution_count": 10,
   "id": "332125db",
   "metadata": {},
   "outputs": [],
   "source": [
    "# This is a block comment.\n",
    "greeting = \"Hello, World\""
   ]
  },
  {
   "cell_type": "code",
   "execution_count": 11,
   "id": "1b3825a6",
   "metadata": {},
   "outputs": [
    {
     "name": "stdout",
     "output_type": "stream",
     "text": [
      "Hello, World\n"
     ]
    }
   ],
   "source": [
    "print(greeting) # This is an inline comment"
   ]
  },
  {
   "cell_type": "markdown",
   "id": "1a1582fa",
   "metadata": {},
   "source": [
    "# Object References"
   ]
  },
  {
   "cell_type": "markdown",
   "id": "2dfe1189",
   "metadata": {},
   "source": [
    "https://pythontutor.com/    "
   ]
  },
  {
   "cell_type": "code",
   "execution_count": 17,
   "id": "2de6140b",
   "metadata": {},
   "outputs": [],
   "source": [
    "# n = 300\n",
    "# m = n \n",
    "# m = 400"
   ]
  },
  {
   "cell_type": "markdown",
   "id": "d363af8b",
   "metadata": {},
   "source": [
    "# Object Identity"
   ]
  },
  {
   "cell_type": "markdown",
   "id": "e3611d11",
   "metadata": {},
   "source": [
    "Object's **value** versus object's **identity**"
   ]
  },
  {
   "cell_type": "code",
   "execution_count": 1,
   "id": "05b86582",
   "metadata": {},
   "outputs": [],
   "source": [
    "l = [1,2,3,4]"
   ]
  },
  {
   "cell_type": "code",
   "execution_count": 2,
   "id": "99f09c8f",
   "metadata": {},
   "outputs": [],
   "source": [
    "f = [1,2,3,4]"
   ]
  },
  {
   "cell_type": "code",
   "execution_count": 3,
   "id": "1d0c1ef6",
   "metadata": {},
   "outputs": [],
   "source": [
    "assert l == f"
   ]
  },
  {
   "cell_type": "code",
   "execution_count": 5,
   "id": "f1c73e21",
   "metadata": {},
   "outputs": [
    {
     "data": {
      "text/plain": [
       "False"
      ]
     },
     "execution_count": 5,
     "metadata": {},
     "output_type": "execute_result"
    }
   ],
   "source": [
    "l is f"
   ]
  },
  {
   "cell_type": "markdown",
   "id": "b9725678",
   "metadata": {},
   "source": [
    "The only instance that is not correct is with **small integers** because of *\"Small Integer Caching\"*"
   ]
  },
  {
   "cell_type": "code",
   "execution_count": 6,
   "id": "00c4e883",
   "metadata": {
    "scrolled": true
   },
   "outputs": [
    {
     "data": {
      "text/plain": [
       "True"
      ]
     },
     "execution_count": 6,
     "metadata": {},
     "output_type": "execute_result"
    }
   ],
   "source": [
    "n = 20\n",
    "m = 20\n",
    "n == m\n",
    "id(n) == id(m) "
   ]
  },
  {
   "cell_type": "code",
   "execution_count": null,
   "id": "71cd6bd3",
   "metadata": {},
   "outputs": [],
   "source": []
  },
  {
   "cell_type": "code",
   "execution_count": 10,
   "id": "d4d93868",
   "metadata": {},
   "outputs": [],
   "source": [
    "n = 300\n",
    "m = n"
   ]
  },
  {
   "cell_type": "code",
   "execution_count": 11,
   "id": "ec768b6c",
   "metadata": {},
   "outputs": [
    {
     "data": {
      "text/plain": [
       "2307376233072"
      ]
     },
     "execution_count": 11,
     "metadata": {},
     "output_type": "execute_result"
    }
   ],
   "source": [
    "id(n)"
   ]
  },
  {
   "cell_type": "code",
   "execution_count": 12,
   "id": "84eb17d1",
   "metadata": {},
   "outputs": [
    {
     "data": {
      "text/plain": [
       "2307376233072"
      ]
     },
     "execution_count": 12,
     "metadata": {},
     "output_type": "execute_result"
    }
   ],
   "source": [
    "id(m)"
   ]
  },
  {
   "cell_type": "code",
   "execution_count": 13,
   "id": "5e12a482",
   "metadata": {},
   "outputs": [
    {
     "data": {
      "text/plain": [
       "True"
      ]
     },
     "execution_count": 13,
     "metadata": {},
     "output_type": "execute_result"
    }
   ],
   "source": [
    "id(n) == id(m)"
   ]
  },
  {
   "cell_type": "code",
   "execution_count": 14,
   "id": "df1b14fc",
   "metadata": {},
   "outputs": [
    {
     "data": {
      "text/plain": [
       "True"
      ]
     },
     "execution_count": 14,
     "metadata": {},
     "output_type": "execute_result"
    }
   ],
   "source": [
    "m is n"
   ]
  },
  {
   "cell_type": "code",
   "execution_count": 15,
   "id": "3c4b4fef",
   "metadata": {},
   "outputs": [],
   "source": [
    "m = 400"
   ]
  },
  {
   "cell_type": "code",
   "execution_count": 16,
   "id": "09124bb5",
   "metadata": {},
   "outputs": [
    {
     "data": {
      "text/plain": [
       "False"
      ]
     },
     "execution_count": 16,
     "metadata": {},
     "output_type": "execute_result"
    }
   ],
   "source": [
    "m is n"
   ]
  },
  {
   "cell_type": "code",
   "execution_count": 18,
   "id": "b744143b",
   "metadata": {},
   "outputs": [],
   "source": [
    "n = 300"
   ]
  },
  {
   "cell_type": "markdown",
   "id": "aa06251c",
   "metadata": {},
   "source": []
  },
  {
   "cell_type": "code",
   "execution_count": 17,
   "id": "1d7a5239",
   "metadata": {},
   "outputs": [
    {
     "data": {
      "text/plain": [
       "False"
      ]
     },
     "execution_count": 17,
     "metadata": {},
     "output_type": "execute_result"
    }
   ],
   "source": [
    "id(n) is id(m)"
   ]
  },
  {
   "cell_type": "code",
   "execution_count": 19,
   "id": "4cf3b754",
   "metadata": {},
   "outputs": [],
   "source": [
    "n = [1,2,3,4]"
   ]
  },
  {
   "cell_type": "code",
   "execution_count": 20,
   "id": "c49881eb",
   "metadata": {},
   "outputs": [],
   "source": [
    "m = n"
   ]
  },
  {
   "cell_type": "code",
   "execution_count": 21,
   "id": "0fdbf265",
   "metadata": {},
   "outputs": [],
   "source": [
    "n[0]  = 55"
   ]
  },
  {
   "cell_type": "code",
   "execution_count": 22,
   "id": "a712dd84",
   "metadata": {},
   "outputs": [
    {
     "data": {
      "text/plain": [
       "[55, 2, 3, 4]"
      ]
     },
     "execution_count": 22,
     "metadata": {},
     "output_type": "execute_result"
    }
   ],
   "source": [
    "m"
   ]
  }
 ],
 "metadata": {
  "kernelspec": {
   "display_name": "python_workshop",
   "language": "python",
   "name": "python_workshop"
  },
  "language_info": {
   "codemirror_mode": {
    "name": "ipython",
    "version": 3
   },
   "file_extension": ".py",
   "mimetype": "text/x-python",
   "name": "python",
   "nbconvert_exporter": "python",
   "pygments_lexer": "ipython3",
   "version": "3.10.2"
  }
 },
 "nbformat": 4,
 "nbformat_minor": 5
}
