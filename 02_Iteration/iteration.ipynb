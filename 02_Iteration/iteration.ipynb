{
 "cells": [
  {
   "cell_type": "code",
   "execution_count": null,
   "id": "969d04ee",
   "metadata": {},
   "outputs": [],
   "source": []
  },
  {
   "cell_type": "markdown",
   "id": "e6c93e19",
   "metadata": {},
   "source": [
    "**Iteration** means executing the same block of code over and over, potentially many times. A programming structure that implements iteration is called a **loop**.\n",
    "\n",
    "In programming, there are two types of iteration, indefinite and definite:\n",
    "\n",
    "* With **definite** iteration, the number of times the code block is executed is specified up front.\n",
    "* With **indefinite** iteration, the code block is executed as long as some condition is met."
   ]
  },
  {
   "cell_type": "markdown",
   "id": "1356a0a2",
   "metadata": {},
   "source": [
    "## The Python `for` Loop"
   ]
  },
  {
   "cell_type": "markdown",
   "id": "45ee394b",
   "metadata": {},
   "source": [
    "```\n",
    "for <var> in <iterable>:\n",
    "    <statement(s)>\n",
    "```"
   ]
  },
  {
   "cell_type": "code",
   "execution_count": 1,
   "id": "1106f6c4",
   "metadata": {},
   "outputs": [],
   "source": [
    "a = ['foo', 'bar', 'baz']"
   ]
  },
  {
   "cell_type": "code",
   "execution_count": 2,
   "id": "e1dffa3d",
   "metadata": {},
   "outputs": [
    {
     "name": "stdout",
     "output_type": "stream",
     "text": [
      "foo\n",
      "bar\n",
      "baz\n"
     ]
    }
   ],
   "source": [
    "for i in a:\n",
    "    print(i)"
   ]
  },
  {
   "cell_type": "code",
   "execution_count": 3,
   "id": "5cb19b19",
   "metadata": {},
   "outputs": [
    {
     "name": "stdout",
     "output_type": "stream",
     "text": [
      "foo\n",
      "bar\n",
      "baz\n"
     ]
    }
   ],
   "source": [
    "for whatever in a:\n",
    "    print(whatever)"
   ]
  },
  {
   "cell_type": "code",
   "execution_count": 1,
   "id": "38927fbc",
   "metadata": {},
   "outputs": [
    {
     "name": "stdout",
     "output_type": "stream",
     "text": [
      "1 2\n",
      "3 4\n",
      "5 6\n"
     ]
    }
   ],
   "source": [
    "for i, j in [(1, 2), (3, 4), (5, 6)]:\n",
    "    print(i, j)"
   ]
  },
  {
   "cell_type": "markdown",
   "id": "38bdccb0",
   "metadata": {},
   "source": [
    "### Iterating Through a Dictionary"
   ]
  },
  {
   "cell_type": "code",
   "execution_count": 3,
   "id": "b50bc588",
   "metadata": {},
   "outputs": [],
   "source": [
    "d = {'foo': 1, 'bar': 2, 'baz': 3}"
   ]
  },
  {
   "cell_type": "code",
   "execution_count": 4,
   "id": "84c3c617",
   "metadata": {},
   "outputs": [
    {
     "name": "stdout",
     "output_type": "stream",
     "text": [
      "foo\n",
      "bar\n",
      "baz\n"
     ]
    }
   ],
   "source": [
    "for key in d:\n",
    "    print(key)"
   ]
  },
  {
   "cell_type": "code",
   "execution_count": 6,
   "id": "999abfb7",
   "metadata": {},
   "outputs": [
    {
     "name": "stdout",
     "output_type": "stream",
     "text": [
      "1\n",
      "2\n",
      "3\n"
     ]
    }
   ],
   "source": [
    "for v in d.values():\n",
    "    print(v)"
   ]
  },
  {
   "cell_type": "code",
   "execution_count": 11,
   "id": "63f911cd",
   "metadata": {},
   "outputs": [
    {
     "name": "stdout",
     "output_type": "stream",
     "text": [
      "foo: 1\n",
      "bar: 2\n",
      "baz: 3\n"
     ]
    }
   ],
   "source": [
    "for key, v in d.items():\n",
    "    print(f'{key}: {v}')"
   ]
  },
  {
   "cell_type": "markdown",
   "id": "fb084bf2",
   "metadata": {},
   "source": [
    "### The `range()` Function"
   ]
  },
  {
   "cell_type": "code",
   "execution_count": 12,
   "id": "acc34228",
   "metadata": {},
   "outputs": [
    {
     "name": "stdout",
     "output_type": "stream",
     "text": [
      "0\n",
      "1\n",
      "2\n",
      "3\n",
      "4\n"
     ]
    }
   ],
   "source": [
    "for n in (0, 1, 2, 3, 4):\n",
    "    print(n)"
   ]
  },
  {
   "cell_type": "markdown",
   "id": "214fe89c",
   "metadata": {},
   "source": [
    "### The `enumerate()` function"
   ]
  },
  {
   "cell_type": "code",
   "execution_count": 23,
   "id": "ff72fe2e",
   "metadata": {},
   "outputs": [
    {
     "name": "stdout",
     "output_type": "stream",
     "text": [
      "0 tic\n",
      "1 tac\n",
      "2 toe\n"
     ]
    }
   ],
   "source": [
    "for i, v in enumerate(['tic', 'tac', 'toe']):\n",
    "    print(i, v)"
   ]
  },
  {
   "cell_type": "markdown",
   "id": "189b7cae",
   "metadata": {},
   "source": [
    "### The `zip()` function"
   ]
  },
  {
   "cell_type": "code",
   "execution_count": null,
   "id": "634fd8e7",
   "metadata": {},
   "outputs": [],
   "source": [
    "questions = ['name', 'quest', 'favorite color']\n",
    "answers = ['lancelot', 'the holy grail', 'blue']\n",
    "for q, a in zip(questions, answers):\n",
    "    print('What is your {0}?  It is {1}.'.format(q, a)"
   ]
  },
  {
   "cell_type": "markdown",
   "id": "41b8d28b",
   "metadata": {},
   "source": [
    "### Nested Loops"
   ]
  },
  {
   "cell_type": "code",
   "execution_count": 22,
   "id": "b4c592ac",
   "metadata": {},
   "outputs": [
    {
     "name": "stdout",
     "output_type": "stream",
     "text": [
      "Hello John\n",
      "Hello Nick\n",
      "Hello Julia\n",
      "Hola John\n",
      "Hola Nick\n",
      "Hola Julia\n",
      "ciao John\n",
      "ciao Nick\n",
      "ciao Julia\n",
      "salut John\n",
      "salut Nick\n",
      "salut Julia\n"
     ]
    }
   ],
   "source": [
    "for greeting in ['Hello', 'Hola', 'ciao','salut']:\n",
    "    for name in ['John', 'Nick', 'Julia']:\n",
    "        print(greeting, name)"
   ]
  },
  {
   "cell_type": "markdown",
   "id": "38178a9a",
   "metadata": {},
   "source": [
    "### Breaking Out of a loop with `break`"
   ]
  },
  {
   "cell_type": "code",
   "execution_count": 13,
   "id": "22937854",
   "metadata": {},
   "outputs": [],
   "source": [
    "cities = ['Austin', 'Dallas', 'San Antonio', ' Houston']"
   ]
  },
  {
   "cell_type": "code",
   "execution_count": 15,
   "id": "182161c6",
   "metadata": {},
   "outputs": [
    {
     "name": "stdout",
     "output_type": "stream",
     "text": [
      "Austin\n",
      "Dallas\n"
     ]
    }
   ],
   "source": [
    "for i in cities:\n",
    "    if i == 'San Antonio':\n",
    "        break\n",
    "    print(i)"
   ]
  },
  {
   "cell_type": "code",
   "execution_count": 17,
   "id": "6627a30b",
   "metadata": {},
   "outputs": [
    {
     "name": "stdout",
     "output_type": "stream",
     "text": [
      "Austin\n",
      "Dallas\n",
      "0\n",
      "Austin\n",
      "Dallas\n",
      "1\n",
      "Austin\n",
      "Dallas\n",
      "2\n",
      "Austin\n",
      "Dallas\n",
      "3\n",
      "Austin\n",
      "Dallas\n",
      "4\n",
      "Austin\n",
      "Dallas\n",
      "5\n",
      "Austin\n",
      "Dallas\n",
      "6\n",
      "Austin\n",
      "Dallas\n",
      "7\n",
      "Austin\n",
      "Dallas\n",
      "8\n",
      "Austin\n",
      "Dallas\n",
      "9\n"
     ]
    }
   ],
   "source": [
    "for num in range(10):\n",
    "    for i in cities:\n",
    "        if i == 'San Antonio':\n",
    "            break\n",
    "        print(i)\n",
    "    print(num)"
   ]
  },
  {
   "cell_type": "markdown",
   "id": "11600674",
   "metadata": {},
   "source": [
    "## `continue`"
   ]
  },
  {
   "cell_type": "code",
   "execution_count": null,
   "id": "47e74edb",
   "metadata": {},
   "outputs": [],
   "source": [
    "for num in range(2, 10):\n",
    "    if num % 2 == 0:\n",
    "        print(\"Found an even number\", num)\n",
    "        continue\n",
    "    print(\"Found an odd number\", num)"
   ]
  },
  {
   "cell_type": "markdown",
   "id": "1593dccd",
   "metadata": {},
   "source": [
    "## The Python `while` Loop"
   ]
  },
  {
   "attachments": {},
   "cell_type": "markdown",
   "id": "169afb5a",
   "metadata": {},
   "source": [
    "```\n",
    "while <expr>:\n",
    "    <statement(s)>\n",
    "```"
   ]
  },
  {
   "cell_type": "code",
   "execution_count": 18,
   "id": "f32d14db",
   "metadata": {},
   "outputs": [
    {
     "name": "stdout",
     "output_type": "stream",
     "text": [
      "4\n",
      "3\n",
      "2\n",
      "1\n",
      "0\n"
     ]
    }
   ],
   "source": [
    "n = 5\n",
    "while n > 0:\n",
    "    n -= 1\n",
    "    print(n)"
   ]
  },
  {
   "cell_type": "code",
   "execution_count": 19,
   "id": "448b5075",
   "metadata": {},
   "outputs": [],
   "source": [
    "# This never executes\n",
    "n = 0\n",
    "while n > 0:\n",
    "    n -= 1\n",
    "    print(n)"
   ]
  },
  {
   "cell_type": "code",
   "execution_count": 20,
   "id": "18f0e1ab",
   "metadata": {},
   "outputs": [
    {
     "name": "stdout",
     "output_type": "stream",
     "text": [
      "Didn't execute\n"
     ]
    }
   ],
   "source": [
    "# This never executes\n",
    "n = 0\n",
    "while n > 0:\n",
    "    n -= 1\n",
    "    print(n)\n",
    "else:\n",
    "    print(\"Didn't execute\")"
   ]
  },
  {
   "cell_type": "markdown",
   "id": "dee043d8",
   "metadata": {},
   "source": [
    "## Infinite Loops"
   ]
  },
  {
   "cell_type": "code",
   "execution_count": 21,
   "id": "863bcbb6",
   "metadata": {},
   "outputs": [
    {
     "data": {
      "text/plain": [
       "0"
      ]
     },
     "execution_count": 21,
     "metadata": {},
     "output_type": "execute_result"
    }
   ],
   "source": [
    "# while True:\n",
    "#     print('Hello')"
   ]
  },
  {
   "cell_type": "code",
   "execution_count": null,
   "id": "e695ba0a",
   "metadata": {},
   "outputs": [],
   "source": []
  }
 ],
 "metadata": {
  "kernelspec": {
   "display_name": "LR",
   "language": "python",
   "name": "lr"
  },
  "language_info": {
   "codemirror_mode": {
    "name": "ipython",
    "version": 3
   },
   "file_extension": ".py",
   "mimetype": "text/x-python",
   "name": "python",
   "nbconvert_exporter": "python",
   "pygments_lexer": "ipython3",
   "version": "3.10.2"
  }
 },
 "nbformat": 4,
 "nbformat_minor": 5
}
