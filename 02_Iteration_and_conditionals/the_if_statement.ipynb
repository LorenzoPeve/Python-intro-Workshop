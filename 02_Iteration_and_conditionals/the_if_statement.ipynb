{
 "cells": [
  {
   "cell_type": "markdown",
   "id": "27ddc43a",
   "metadata": {},
   "source": [
    "## Introduction to the if Statement"
   ]
  },
  {
   "cell_type": "markdown",
   "id": "fdf98953",
   "metadata": {},
   "source": [
    "```\n",
    "if <expr>:\n",
    "    <statement>\n",
    "```"
   ]
  },
  {
   "cell_type": "code",
   "execution_count": 1,
   "id": "d4b4c66d",
   "metadata": {},
   "outputs": [],
   "source": [
    "x = 0\n",
    "y = 5"
   ]
  },
  {
   "cell_type": "code",
   "execution_count": 2,
   "id": "c76b9199",
   "metadata": {},
   "outputs": [
    {
     "name": "stdout",
     "output_type": "stream",
     "text": [
      "yes\n"
     ]
    }
   ],
   "source": [
    "if x < y:\n",
    "    print('yes')"
   ]
  },
  {
   "cell_type": "code",
   "execution_count": 3,
   "id": "6437c031",
   "metadata": {},
   "outputs": [],
   "source": [
    "if y < x:                           \n",
    "    print('yes')"
   ]
  },
  {
   "cell_type": "code",
   "execution_count": 4,
   "id": "ee2b3ab0",
   "metadata": {},
   "outputs": [
    {
     "name": "stdout",
     "output_type": "stream",
     "text": [
      "yes\n"
     ]
    }
   ],
   "source": [
    "if y:\n",
    "    print('yes')"
   ]
  },
  {
   "cell_type": "code",
   "execution_count": 5,
   "id": "2d1d1533",
   "metadata": {},
   "outputs": [],
   "source": [
    "if x:            #  zero values are false and non-zero values are true.\n",
    "    print('yes')"
   ]
  },
  {
   "cell_type": "code",
   "execution_count": 6,
   "id": "37bcf79c",
   "metadata": {},
   "outputs": [
    {
     "name": "stdout",
     "output_type": "stream",
     "text": [
      "yes\n"
     ]
    }
   ],
   "source": [
    "if x or y:\n",
    "    print('yes')"
   ]
  },
  {
   "cell_type": "code",
   "execution_count": 7,
   "id": "3a39865c",
   "metadata": {},
   "outputs": [],
   "source": [
    "if x and y:\n",
    "    print('yes')"
   ]
  },
  {
   "cell_type": "code",
   "execution_count": 8,
   "id": "52245b53",
   "metadata": {},
   "outputs": [
    {
     "name": "stdout",
     "output_type": "stream",
     "text": [
      "yes\n"
     ]
    }
   ],
   "source": [
    "if x == 0:\n",
    "    print('yes')\n",
    "else:\n",
    "    print('no')"
   ]
  },
  {
   "cell_type": "code",
   "execution_count": 9,
   "id": "5f9b823a",
   "metadata": {},
   "outputs": [
    {
     "name": "stdout",
     "output_type": "stream",
     "text": [
      "no\n"
     ]
    }
   ],
   "source": [
    "if not x == 0:\n",
    "    print('yes')\n",
    "else:\n",
    "    print('no')"
   ]
  },
  {
   "cell_type": "code",
   "execution_count": 10,
   "id": "549f0b0a",
   "metadata": {},
   "outputs": [
    {
     "name": "stdout",
     "output_type": "stream",
     "text": [
      "Expression was true\n"
     ]
    }
   ],
   "source": [
    "if 'foo' in ['bar', 'baz', 'foo','qux']:\n",
    "    print('Expression was true')"
   ]
  },
  {
   "cell_type": "code",
   "execution_count": 11,
   "id": "157bbd87",
   "metadata": {},
   "outputs": [],
   "source": [
    "if x is None:\n",
    "    print('here')"
   ]
  },
  {
   "cell_type": "code",
   "execution_count": 12,
   "id": "477cfaa2",
   "metadata": {},
   "outputs": [
    {
     "name": "stdout",
     "output_type": "stream",
     "text": [
      "here\n"
     ]
    }
   ],
   "source": [
    "my_list = ['bar', 'baz', 'foo','qux']\n",
    "if len(my_list) > 0:\n",
    "    print('here')"
   ]
  },
  {
   "cell_type": "markdown",
   "id": "ad79ba83",
   "metadata": {},
   "source": [
    "```\n",
    "if <expr>:\n",
    "    <statement(s)>\n",
    "else:\n",
    "    <statement(s)>\n",
    "```"
   ]
  },
  {
   "cell_type": "code",
   "execution_count": 13,
   "id": "25dd1c5a",
   "metadata": {},
   "outputs": [
    {
     "name": "stdout",
     "output_type": "stream",
     "text": [
      "We are in if clause\n",
      "x is small\n"
     ]
    }
   ],
   "source": [
    "x = 20\n",
    "\n",
    "if x < 50:\n",
    "    print('We are in if clause')\n",
    "    print('x is small')\n",
    "else:\n",
    "    print('We are in else clause')\n",
    "    print('x is large')"
   ]
  },
  {
   "cell_type": "markdown",
   "id": "4e94caeb",
   "metadata": {},
   "source": [
    "```\n",
    "if <expr>:\n",
    "    <statement(s)>\n",
    "elif <expr>:\n",
    "    <statement(s)>\n",
    "elif <expr>:\n",
    "    <statement(s)>\n",
    "    ...\n",
    "else:\n",
    "    <statement(s)>\n",
    "```"
   ]
  },
  {
   "cell_type": "code",
   "execution_count": 14,
   "id": "49c44b34",
   "metadata": {
    "scrolled": true
   },
   "outputs": [
    {
     "name": "stdout",
     "output_type": "stream",
     "text": [
      "Hello Joe\n"
     ]
    }
   ],
   "source": [
    "name = 'Joe'\n",
    "if name == 'Fred':\n",
    "    print('Hello Fred')\n",
    "elif name == 'Xander':\n",
    "    print('Hello Xander')\n",
    "elif name == 'Joe':\n",
    "    print('Hello Joe')\n",
    "elif name == 'Arnold':\n",
    "    print('Hello Arnold')\n",
    "else:\n",
    "    print(\"I don't know who you are!\")  # The else clause is optional"
   ]
  },
  {
   "cell_type": "markdown",
   "id": "505cdb0d",
   "metadata": {},
   "source": [
    "At most, one of the code blocks specified will be executed."
   ]
  },
  {
   "cell_type": "code",
   "execution_count": 15,
   "id": "e481c145",
   "metadata": {},
   "outputs": [
    {
     "name": "stdout",
     "output_type": "stream",
     "text": [
      "Hello Xander\n"
     ]
    }
   ],
   "source": [
    "name = 'Xander'\n",
    "if name == 'Fred':\n",
    "    print('Hello Fred')\n",
    "elif name == 'Xander':\n",
    "    print('Hello Xander')\n",
    "elif name == 'Joe':\n",
    "    print('Hello Joe')\n",
    "elif name == 'Xander':\n",
    "    print('Hello again Zander')\n",
    "else:\n",
    "    print(\"I don't know who you are!\")  # The else clause is optional"
   ]
  },
  {
   "cell_type": "markdown",
   "id": "8020bc6b",
   "metadata": {},
   "source": [
    "## Short-circuit evaluation"
   ]
  },
  {
   "cell_type": "code",
   "execution_count": 16,
   "id": "0310dabc",
   "metadata": {},
   "outputs": [],
   "source": [
    "x = 0"
   ]
  },
  {
   "cell_type": "code",
   "execution_count": 17,
   "id": "effe68ae",
   "metadata": {
    "scrolled": true
   },
   "outputs": [
    {
     "ename": "ZeroDivisionError",
     "evalue": "integer division or modulo by zero",
     "output_type": "error",
     "traceback": [
      "\u001b[1;31m---------------------------------------------------------------------------\u001b[0m",
      "\u001b[1;31mZeroDivisionError\u001b[0m                         Traceback (most recent call last)",
      "Input \u001b[1;32mIn [17]\u001b[0m, in \u001b[0;36m<cell line: 1>\u001b[1;34m()\u001b[0m\n\u001b[1;32m----> 1\u001b[0m \u001b[38;5;28;01mif\u001b[39;00m( \u001b[38;5;241;43m14\u001b[39;49m\u001b[43m \u001b[49m\u001b[38;5;241;43m%\u001b[39;49m\u001b[43m \u001b[49m\u001b[43mx\u001b[49m) \u001b[38;5;129;01mand\u001b[39;00m (\u001b[38;5;28mtype\u001b[39m(x) \u001b[38;5;241m==\u001b[39m \u001b[38;5;28mint\u001b[39m):\n\u001b[0;32m      2\u001b[0m     \u001b[38;5;28mprint\u001b[39m(\u001b[38;5;124m'\u001b[39m\u001b[38;5;124mhere\u001b[39m\u001b[38;5;124m'\u001b[39m)\n",
      "\u001b[1;31mZeroDivisionError\u001b[0m: integer division or modulo by zero"
     ]
    }
   ],
   "source": [
    "# an error in purpose\n",
    "if( 14 % x) and (type(x) == int):\n",
    "    print('here')"
   ]
  },
  {
   "cell_type": "code",
   "execution_count": 18,
   "id": "aa649b39",
   "metadata": {},
   "outputs": [],
   "source": [
    "if (x != 0 ) and (14 % x) and (type(x) == int):\n",
    "    print('here')"
   ]
  }
 ],
 "metadata": {
  "kernelspec": {
   "display_name": "Python 3 (ipykernel)",
   "language": "python",
   "name": "python3"
  },
  "language_info": {
   "codemirror_mode": {
    "name": "ipython",
    "version": 3
   },
   "file_extension": ".py",
   "mimetype": "text/x-python",
   "name": "python",
   "nbconvert_exporter": "python",
   "pygments_lexer": "ipython3",
   "version": "3.10.2"
  }
 },
 "nbformat": 4,
 "nbformat_minor": 5
}
