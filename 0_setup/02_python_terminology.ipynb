{
 "cells": [
  {
   "cell_type": "markdown",
   "id": "01592d7e",
   "metadata": {
    "slideshow": {
     "slide_type": "slide"
    }
   },
   "source": [
    "# Python Terminology"
   ]
  },
  {
   "cell_type": "markdown",
   "id": "80e461c6",
   "metadata": {
    "slideshow": {
     "slide_type": "slide"
    }
   },
   "source": [
    "## How to Run Python files"
   ]
  },
  {
   "cell_type": "markdown",
   "id": "968ebe7a",
   "metadata": {},
   "source": [
    " "
   ]
  },
  {
   "cell_type": "markdown",
   "id": "8de3b92b",
   "metadata": {
    "slideshow": {
     "slide_type": "fragment"
    }
   },
   "source": [
    "1. **Terminal or Command Line** (either very simple scripts or to start a process)\n",
    "2. **IDE** (<font color='#0070C0'>Visual Studio Code, PyCharm, Spyder, Atom, Eclipse</font>, etc)\n",
    "3. **Web-based interactive platforms** (<font color='#0070C0'>Jupyter, JupyterLab, Google Colab</font>)"
   ]
  },
  {
   "cell_type": "markdown",
   "id": "874b825a",
   "metadata": {
    "slideshow": {
     "slide_type": "fragment"
    }
   },
   "source": [
    "\\\n",
    "\\\n",
    "**Note**: IDE (*Integrated Development Environment*) is a program dedicated to software development. As the name implies, IDEs integrate several tools specifically designed for software development. These tools usually include:\n",
    "\n",
    "* An editor designed to handle code (with, for example, syntax highlighting and auto-completion)\n",
    "* Build, execution, and debugging tools\n",
    "* Some form of source control\n",
    "\n",
    "**Lorenzo's Note**: You cannot go wrong with either <font color='#0070C0'>Visual Studio Code</font> (what I use) or <font color='#0070C0'>PyCharm</font> (Nick's favorite!). <font color='#0070C0'>Spyder</font> may be preferred for folks coming from a MATLAB background."
   ]
  },
  {
   "cell_type": "markdown",
   "id": "d4d70a5f",
   "metadata": {
    "slideshow": {
     "slide_type": "slide"
    }
   },
   "source": [
    "## Have you heard any of these words?"
   ]
  },
  {
   "cell_type": "markdown",
   "id": "fa9620d4",
   "metadata": {
    "slideshow": {
     "slide_type": "-"
    }
   },
   "source": [
    "  "
   ]
  },
  {
   "cell_type": "markdown",
   "id": "45e33d84",
   "metadata": {
    "slideshow": {
     "slide_type": "fragment"
    }
   },
   "source": [
    "Python **script**, **module**, **package**, **library**"
   ]
  },
  {
   "cell_type": "markdown",
   "id": "bc4e1cce",
   "metadata": {
    "slideshow": {
     "slide_type": "slide"
    }
   },
   "source": [
    "### Python Script"
   ]
  },
  {
   "attachments": {},
   "cell_type": "markdown",
   "id": "24d7b091",
   "metadata": {
    "slideshow": {
     "slide_type": "fragment"
    }
   },
   "source": [
    "* Python file (.py) intended to be run directly.\n",
    "* Contains statements outside the scope of any class or function.\n",
    "* For a file to be considered a script, the program **should do something**, anything—when it’s run through the Python interpreter."
   ]
  },
  {
   "cell_type": "markdown",
   "id": "23a0efea",
   "metadata": {
    "slideshow": {
     "slide_type": "fragment"
    }
   },
   "source": [
    "### Python Module"
   ]
  },
  {
   "cell_type": "markdown",
   "id": "3d375a6e",
   "metadata": {
    "slideshow": {
     "slide_type": "fragment"
    }
   },
   "source": [
    "* Python file (.py) meant to be imported into scripts and other modules\n",
    "* Defines classes, functions, variables, and other members for use in scripts that import it"
   ]
  },
  {
   "cell_type": "markdown",
   "id": "0aba9925",
   "metadata": {
    "slideshow": {
     "slide_type": "fragment"
    }
   },
   "source": [
    "<font color='#0070C0'>**VS CODE DEMO** </font>"
   ]
  },
  {
   "cell_type": "markdown",
   "id": "ff44709e",
   "metadata": {
    "slideshow": {
     "slide_type": "slide"
    }
   },
   "source": [
    "### Packages"
   ]
  },
  {
   "attachments": {},
   "cell_type": "markdown",
   "id": "7b699c15",
   "metadata": {
    "slideshow": {
     "slide_type": "fragment"
    }
   },
   "source": [
    "* Collection of related modules.\n",
    "* Examples are: Numpy, Pandas, and Scipy."
   ]
  },
  {
   "cell_type": "markdown",
   "id": "f5cdeccb",
   "metadata": {
    "slideshow": {
     "slide_type": "fragment"
    }
   },
   "source": [
    "### Python Standard Library"
   ]
  },
  {
   "cell_type": "markdown",
   "id": "7bb6e3e6",
   "metadata": {
    "slideshow": {
     "slide_type": "fragment"
    }
   },
   "source": [
    "* Collection of modules and packages that come bundled with every installation of Python.\n",
    "* You do not need to download them.\n",
    "* [Pyhton Standard Library](#https://docs.python.org/3/library/index.html)"
   ]
  }
 ],
 "metadata": {
  "celltoolbar": "Slideshow",
  "kernelspec": {
   "display_name": "python_workshop",
   "language": "python",
   "name": "python_workshop"
  },
  "language_info": {
   "codemirror_mode": {
    "name": "ipython",
    "version": 3
   },
   "file_extension": ".py",
   "mimetype": "text/x-python",
   "name": "python",
   "nbconvert_exporter": "python",
   "pygments_lexer": "ipython3",
   "version": "3.10.2"
  }
 },
 "nbformat": 4,
 "nbformat_minor": 5
}
