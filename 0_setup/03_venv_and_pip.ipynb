{
 "cells": [
  {
   "cell_type": "markdown",
   "id": "a54a9c74",
   "metadata": {
    "slideshow": {
     "slide_type": "slide"
    }
   },
   "source": [
    "# Virtual Environments, PIP, and additional Libraries"
   ]
  },
  {
   "cell_type": "markdown",
   "id": "e3a66ca4",
   "metadata": {
    "slideshow": {
     "slide_type": "slide"
    }
   },
   "source": [
    "* A <font color='#0070C0'>virtual environment</font> is an isolated container with a Python interpreter, PIP executable, and site-packages directory.\n",
    "\n",
    "* Common practice is to use different <font color='#0070C0'>virtual environments</font> for each project.\n",
    " * This is especially helpful when two different projects require different versions of the same package. \n",
    " * Avoids dependency conflicts and version problems.\n",
    "\n",
    "\n",
    "\\\n",
    "<img src=\"venv.png\" width=1500/>"
   ]
  },
  {
   "cell_type": "markdown",
   "id": "1f95eb79",
   "metadata": {
    "slideshow": {
     "slide_type": "slide"
    }
   },
   "source": [
    "## 1.0 Process"
   ]
  },
  {
   "cell_type": "markdown",
   "id": "7f23be97",
   "metadata": {
    "slideshow": {
     "slide_type": "fragment"
    }
   },
   "source": [
    "1. Create a Python environment: `python -m venv venv`\n",
    "2. Activate the environment: `venv\\Scripts\\activate`\n",
    "3. Install Packages into it using `pip install *` Example: `pip install pandas`\n",
    "4. When you are done, deactivate: `deactivate`"
   ]
  },
  {
   "cell_type": "markdown",
   "id": "ac5585e0",
   "metadata": {
    "slideshow": {
     "slide_type": "fragment"
    }
   },
   "source": [
    "###  Try out\n",
    "```python\n",
    "import datetime\n",
    "datetime.datetime.now().date()\n",
    "\n",
    "import pandas as pd\n",
    "df = pd.DataFrame([1,2,3,4])\n",
    "df\n",
    "```"
   ]
  },
  {
   "cell_type": "code",
   "execution_count": null,
   "id": "5aad23c2",
   "metadata": {},
   "outputs": [],
   "source": []
  },
  {
   "cell_type": "markdown",
   "id": "9ab6c028",
   "metadata": {
    "slideshow": {
     "slide_type": "slide"
    }
   },
   "source": [
    "**Note for Advanced Users**: \n",
    "\n",
    "* You can create an environment with any desired version of Python. Assuming you have installed that version you simply do: \n",
    "\n",
    "        `<path_to_python_executable> -m venv <environment_name>`   (You don't need the < and >)\n",
    "\n",
    "* The **venv** module is part of Python’s standard library, and it’s the officially recommended way to create virtual environments since Python 3.5.\n",
    "\n",
    "        `python -m venv venv`\n",
    "\n",
    "* Some people use **conda**. For more info see: [conda_project](https://conda.io/projects/conda/en/latest/user-guide/tasks/manage-environments.html)\n"
   ]
  },
  {
   "cell_type": "code",
   "execution_count": null,
   "id": "307c6694",
   "metadata": {},
   "outputs": [],
   "source": []
  },
  {
   "cell_type": "markdown",
   "id": "21b58a90",
   "metadata": {
    "slideshow": {
     "slide_type": "slide"
    }
   },
   "source": [
    "## 2.0 What is `pip`?"
   ]
  },
  {
   "cell_type": "markdown",
   "id": "8f721d5f",
   "metadata": {
    "slideshow": {
     "slide_type": "-"
    }
   },
   "source": [
    "* Python's most used package manager"
   ]
  },
  {
   "cell_type": "markdown",
   "id": "8adf47cc",
   "metadata": {
    "slideshow": {
     "slide_type": "fragment"
    }
   },
   "source": [
    "* It allows you to install and manage additional packages that are not part of the Python standard library. "
   ]
  },
  {
   "cell_type": "markdown",
   "id": "db2db600",
   "metadata": {
    "slideshow": {
     "slide_type": "fragment"
    }
   },
   "source": [
    "* By default, pip searches what’s called [PyPI](https://pypi.org/), or the Python Package Index. This public repository contains thousands of packages written by the Python community."
   ]
  },
  {
   "cell_type": "markdown",
   "id": "75707dd6",
   "metadata": {
    "slideshow": {
     "slide_type": "fragment"
    }
   },
   "source": [
    "```python\n",
    "pip install name_of_package\n",
    "python -m pip install --upgrade pip\n",
    "```"
   ]
  },
  {
   "cell_type": "markdown",
   "id": "8ae93f4e",
   "metadata": {
    "slideshow": {
     "slide_type": "slide"
    }
   },
   "source": [
    "## 3.0 Keeping track of versions & Sharing Code"
   ]
  },
  {
   "cell_type": "markdown",
   "id": "4d0e3267",
   "metadata": {},
   "source": [
    "* Not only do you the code, but you also need the packages and their version"
   ]
  },
  {
   "cell_type": "markdown",
   "id": "040d60ee",
   "metadata": {
    "slideshow": {
     "slide_type": "fragment"
    }
   },
   "source": [
    "<img src=\"venv.png\" width=1500/>"
   ]
  },
  {
   "cell_type": "markdown",
   "id": "eab1e78e",
   "metadata": {
    "slideshow": {
     "slide_type": "slide"
    }
   },
   "source": [
    "With environment activated: `python -m pip freeze > requirements.txt`\n",
    "\n",
    "`pip install -r requirements.txt`"
   ]
  },
  {
   "cell_type": "markdown",
   "id": "090ebb69",
   "metadata": {
    "slideshow": {
     "slide_type": "slide"
    }
   },
   "source": [
    "## 4.0 Version Control Software"
   ]
  },
  {
   "cell_type": "markdown",
   "id": "35effa1e",
   "metadata": {
    "slideshow": {
     "slide_type": "fragment"
    }
   },
   "source": [
    "* Create a [GitHub account](https://github.com/)\n",
    "* [GitHub Desktop](https://desktop.github.com/)\n",
    "\n",
    "Note: **GitHub Desktop** is an application that enables GUI-based interaction with GitHub. **GitHub** is an Internet hosting service for software development and version control using Git."
   ]
  }
 ],
 "metadata": {
  "celltoolbar": "Slideshow",
  "kernelspec": {
   "display_name": "python_workshop",
   "language": "python",
   "name": "python_workshop"
  },
  "language_info": {
   "codemirror_mode": {
    "name": "ipython",
    "version": 3
   },
   "file_extension": ".py",
   "mimetype": "text/x-python",
   "name": "python",
   "nbconvert_exporter": "python",
   "pygments_lexer": "ipython3",
   "version": "3.10.2"
  }
 },
 "nbformat": 4,
 "nbformat_minor": 5
}
