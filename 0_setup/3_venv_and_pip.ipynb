{
 "cells": [
  {
   "cell_type": "markdown",
   "id": "a54a9c74",
   "metadata": {
    "slideshow": {
     "slide_type": "slide"
    }
   },
   "source": [
    "# Virtual Environments, PIP, and additional Libraries"
   ]
  },
  {
   "attachments": {},
   "cell_type": "markdown",
   "id": "d5ed705d",
   "metadata": {
    "slideshow": {
     "slide_type": "slide"
    }
   },
   "source": [
    "* A <font color='#0070C0'>virtual environment</font> is an isolated container with a Python interpreter, PIP executable, and site-packages directory.\n",
    "\n",
    "* Common practice is to use different <font color='#0070C0'>virtual environments</font> for each project.\n",
    " * This is especially helpful when two different projects require different versions of the same package. \n",
    " * Avoids dependency conflicts and version problems.\n",
    "\n",
    "\n",
    "\\\n",
    "<img src=\"venv.png\" width=1500/>"
   ]
  },
  {
   "cell_type": "markdown",
   "id": "a7e7ae2e",
   "metadata": {
    "slideshow": {
     "slide_type": "slide"
    }
   },
   "source": [
    "## 1.0 Process"
   ]
  },
  {
   "attachments": {},
   "cell_type": "markdown",
   "id": "e96e56dd",
   "metadata": {
    "slideshow": {
     "slide_type": "fragment"
    }
   },
   "source": [
    "1. Create a Python environment: `python -m venv venv`\n",
    "2. Activate the environment: `venv\\Scripts\\activate`\n",
    "3. Install Packages into it using `pip install *` Example: `pip install pandas`\n",
    "4. When you are done, deactivate: `deactivate`"
   ]
  },
  {
   "cell_type": "markdown",
   "id": "57dff693",
   "metadata": {
    "slideshow": {
     "slide_type": "fragment"
    }
   },
   "source": [
    "###  Try out\n",
    "```python\n",
    "import datetime\n",
    "datetime.datetime.now().date()\n",
    "\n",
    "import pandas as pd\n",
    "df = pd.DataFrame([1,2,3,4])\n",
    "df\n",
    "```"
   ]
  },
  {
   "attachments": {},
   "cell_type": "markdown",
   "id": "0d1c4fe5",
   "metadata": {
    "slideshow": {
     "slide_type": "slide"
    }
   },
   "source": [
    "**Note for Advanced Users**: \n",
    "\n",
    "* You can create an environment with any desired version of Python. Assuming you have installed that version you simply do: \n",
    "\n",
    "        `<path_to_python_executable> -m venv <environment_name>`   (You don't need the < and >)\n",
    "\n",
    "* The **venv** module is part of Python’s standard library, and it’s the officially recommended way to create virtual environments since Python 3.5.\n",
    "\n",
    "        `python -m venv venv`\n",
    "\n",
    "* Some people use **conda**. For more info see: [conda_project](https://conda.io/projects/conda/en/latest/user-guide/tasks/manage-environments.html)\n"
   ]
  },
  {
   "attachments": {},
   "cell_type": "markdown",
   "id": "c8e9b934",
   "metadata": {
    "slideshow": {
     "slide_type": "slide"
    }
   },
   "source": [
    "## 2.0 Caveats\n"
   ]
  },
  {
   "cell_type": "markdown",
   "id": "54879564",
   "metadata": {},
   "source": [
    "The **venv** module is part of Python’s standard library, and it’s the officially recommended way to create virtual environments since Python 3.5.\n",
    "\n",
    "```python\n",
    "python -m venv venv\n",
    "```"
   ]
  },
  {
   "cell_type": "markdown",
   "id": "14d3984c",
   "metadata": {},
   "source": [
    "Some people use **conda** \n",
    "\n",
    "```python\n",
    "python -m venv venv\n",
    "```"
   ]
  },
  {
   "cell_type": "code",
   "execution_count": null,
   "id": "b57a8c87",
   "metadata": {},
   "outputs": [],
   "source": []
  },
  {
   "cell_type": "markdown",
   "id": "21b58a90",
   "metadata": {
    "slideshow": {
     "slide_type": "slide"
    }
   },
   "source": [
    "## 2.0 What is `pip`?"
   ]
  },
  {
   "cell_type": "markdown",
   "id": "8f721d5f",
   "metadata": {
    "slideshow": {
     "slide_type": "-"
    }
   },
   "source": [
    "* Python's most used package manager"
   ]
  },
  {
   "cell_type": "markdown",
   "id": "8adf47cc",
   "metadata": {
    "slideshow": {
     "slide_type": "fragment"
    }
   },
   "source": [
    "* It allows you to install and manage additional packages that are not part of the Python standard library. "
   ]
  },
  {
   "cell_type": "code",
   "execution_count": null,
   "id": "35a271f0",
   "metadata": {},
   "outputs": [],
   "source": []
  },
  {
   "cell_type": "markdown",
   "id": "77241377",
   "metadata": {
    "slideshow": {
     "slide_type": "fragment"
    }
   },
   "source": [
    "```python\n",
    "python -m pip install --upgrade pip\n",
    "```"
   ]
  },
  {
   "cell_type": "markdown",
   "id": "34f5f4cf",
   "metadata": {
    "slideshow": {
     "slide_type": "fragment"
    }
   },
   "source": [
    "### Example"
   ]
  },
  {
   "cell_type": "code",
   "execution_count": 4,
   "id": "d368d963",
   "metadata": {
    "slideshow": {
     "slide_type": "fragment"
    }
   },
   "outputs": [
    {
     "data": {
      "text/plain": [
       "datetime.date(2022, 10, 15)"
      ]
     },
     "execution_count": 4,
     "metadata": {},
     "output_type": "execute_result"
    }
   ],
   "source": [
    "# Package that is part of the Python Standard library\n",
    "import datetime\n",
    "datetime.datetime.now().date()"
   ]
  },
  {
   "cell_type": "code",
   "execution_count": 1,
   "id": "8bdeb200",
   "metadata": {
    "slideshow": {
     "slide_type": "fragment"
    }
   },
   "outputs": [
    {
     "ename": "ModuleNotFoundError",
     "evalue": "No module named 'pandas'",
     "output_type": "error",
     "traceback": [
      "\u001b[1;31m---------------------------------------------------------------------------\u001b[0m",
      "\u001b[1;31mModuleNotFoundError\u001b[0m                       Traceback (most recent call last)",
      "Cell \u001b[1;32mIn [1], line 1\u001b[0m\n\u001b[1;32m----> 1\u001b[0m \u001b[38;5;28;01mimport\u001b[39;00m \u001b[38;5;21;01mpandas\u001b[39;00m \u001b[38;5;28;01mas\u001b[39;00m \u001b[38;5;21;01mpd\u001b[39;00m\n",
      "\u001b[1;31mModuleNotFoundError\u001b[0m: No module named 'pandas'"
     ]
    }
   ],
   "source": [
    "# Package that is not part of the Python Standard library\n",
    "import pandas as pd"
   ]
  },
  {
   "cell_type": "code",
   "execution_count": null,
   "id": "0e63bba5",
   "metadata": {},
   "outputs": [],
   "source": []
  }
 ],
 "metadata": {
  "celltoolbar": "Slideshow",
  "kernelspec": {
   "display_name": "python_workshop",
   "language": "python",
   "name": "python_workshop"
  },
  "language_info": {
   "codemirror_mode": {
    "name": "ipython",
    "version": 3
   },
   "file_extension": ".py",
   "mimetype": "text/x-python",
   "name": "python",
   "nbconvert_exporter": "python",
   "pygments_lexer": "ipython3",
   "version": "3.10.2"
  }
 },
 "nbformat": 4,
 "nbformat_minor": 5
}
