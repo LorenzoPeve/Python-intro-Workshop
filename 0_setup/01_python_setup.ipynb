{
 "cells": [
  {
   "cell_type": "markdown",
   "id": "f504ecb0",
   "metadata": {
    "slideshow": {
     "slide_type": "slide"
    }
   },
   "source": [
    "# Introduction to Python3 Workshop Part 1\n",
    "\n",
    "\n",
    "\n",
    "\n",
    "#### October 20, 2022"
   ]
  },
  {
   "cell_type": "markdown",
   "id": "df5f9f8c",
   "metadata": {
    "slideshow": {
     "slide_type": "slide"
    }
   },
   "source": [
    "# Setting Up Python on Windows"
   ]
  },
  {
   "cell_type": "markdown",
   "id": "9e4ac0e2",
   "metadata": {
    "slideshow": {
     "slide_type": "slide"
    }
   },
   "source": [
    "##   1. Downloading Python"
   ]
  },
  {
   "cell_type": "markdown",
   "id": "100717eb",
   "metadata": {
    "slideshow": {
     "slide_type": "-"
    }
   },
   "source": [
    "  "
   ]
  },
  {
   "cell_type": "markdown",
   "id": "43909f77",
   "metadata": {},
   "source": [
    "1. **Microsoft Store package**: The most straightforward installation method on Windows involves installing from the Microsoft Store app.\n",
    "2. **Python Org**: This approach involves downloading Python directly from the *[Python.org](https://www.python.org/downloads/)* website. **Recommended**.\n",
    "\n"
   ]
  },
  {
   "cell_type": "markdown",
   "id": "55a02806",
   "metadata": {
    "slideshow": {
     "slide_type": "slide"
    }
   },
   "source": [
    "## 2. Find your Python Version and Directory"
   ]
  },
  {
   "cell_type": "markdown",
   "id": "cef79af0",
   "metadata": {
    "slideshow": {
     "slide_type": "-"
    }
   },
   "source": [
    "  "
   ]
  },
  {
   "cell_type": "markdown",
   "id": "812245cc",
   "metadata": {
    "slideshow": {
     "slide_type": "fragment"
    }
   },
   "source": [
    "Open Command Prompt\n",
    "1. Press the Win key.\n",
    "2. Type Command Prompt.\n",
    "3. Press Enter.\n",
    "\n",
    "`python --version` or `python -V` \\\n",
    "\n",
    "Find Location where Python executable lives \\\n",
    "`where python`"
   ]
  },
  {
   "cell_type": "markdown",
   "id": "0ab6700f",
   "metadata": {
    "slideshow": {
     "slide_type": "slide"
    }
   },
   "source": [
    "## 3. How to Add Python to `PATH`"
   ]
  },
  {
   "cell_type": "markdown",
   "id": "afa32fec",
   "metadata": {
    "slideshow": {
     "slide_type": "-"
    }
   },
   "source": [
    "  "
   ]
  },
  {
   "cell_type": "markdown",
   "id": "a1e2573e",
   "metadata": {
    "slideshow": {
     "slide_type": "-"
    }
   },
   "source": [
    "* You may need to add Python to `PATH` if you’ve installed Python, but typing `python` on the command line doesn’t seem to work.\n",
    "* You may be getting a message saying that the term python isn’t recognized, or you may end up with the wrong version of Python running."
   ]
  },
  {
   "cell_type": "markdown",
   "id": "bce98506",
   "metadata": {
    "slideshow": {
     "slide_type": "slide"
    }
   },
   "source": [
    "### 3.1 But.... what is `PATH`?"
   ]
  },
  {
   "cell_type": "markdown",
   "id": "a9f96aff",
   "metadata": {
    "slideshow": {
     "slide_type": "fragment"
    }
   },
   "source": [
    "* A path is the address of a file or folder on your hard drive. "
   ]
  },
  {
   "cell_type": "markdown",
   "id": "84055404",
   "metadata": {
    "slideshow": {
     "slide_type": "fragment"
    }
   },
   "source": [
    "* The `PATH` environment variable, referred to as just PATH, is a list of paths to directories that your operating system keeps and uses to find executable scripts and programs."
   ]
  },
  {
   "cell_type": "markdown",
   "id": "b6a92504",
   "metadata": {
    "slideshow": {
     "slide_type": "slide"
    }
   },
   "source": [
    "### 3.2 Find Python Executable"
   ]
  },
  {
   "cell_type": "markdown",
   "id": "1410a734",
   "metadata": {
    "slideshow": {
     "slide_type": "-"
    }
   },
   "source": [
    "1. To find the Python executable, you’ll need to look for a file called `python.exe`, which could be in\n",
    " 1. ` C:\\Python\\`\n",
    " 1. `AppData\\` (i.e., `C:\\Users\\<USER>\\AppData\\Local\\Programs\\Python`)\n",
    "2. Once you’ve found the executable, make sure it works by double-clicking it and verifying that it starts up a Python REPL in a new window.\n",
    "3. If you’re struggling to find the right executable, you can use Windows Explorer’s search feature. (Very slow!)\n",
    "    1. **Be Careful** You may also encounter Python executables that are installed within the folder for a different program."
   ]
  },
  {
   "cell_type": "markdown",
   "id": "4013fb08",
   "metadata": {
    "slideshow": {
     "slide_type": "slide"
    }
   },
   "source": [
    "### 3.3 Environment Variables"
   ]
  },
  {
   "cell_type": "markdown",
   "id": "697ea0fd",
   "metadata": {},
   "source": [
    "1. Open the Start menu and search for `Edit the system environment variables`\n",
    "1. `Advanced` tab, click on the button `Environment Variables`.\n",
    "1. In the section entitled `User Variables`, double-click on the entry that says `Path`.\n",
    "1. Click the `New` button and paste the path to your *Python executable* there. \n",
    "1. Click the `Move Up` button until it’s at the top.\n",
    "\\\n",
    "\n",
    "*NOTE:  You may need to reboot your computer for the changes to take effect, but you should now be able to call python from the command line.*"
   ]
  }
 ],
 "metadata": {
  "celltoolbar": "Slideshow",
  "kernelspec": {
   "display_name": "python_workshop",
   "language": "python",
   "name": "python_workshop"
  },
  "language_info": {
   "codemirror_mode": {
    "name": "ipython",
    "version": 3
   },
   "file_extension": ".py",
   "mimetype": "text/x-python",
   "name": "python",
   "nbconvert_exporter": "python",
   "pygments_lexer": "ipython3",
   "version": "3.10.2"
  }
 },
 "nbformat": 4,
 "nbformat_minor": 5
}
