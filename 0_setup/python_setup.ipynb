{
 "cells": [
  {
   "cell_type": "markdown",
   "id": "f504ecb0",
   "metadata": {
    "slideshow": {
     "slide_type": "slide"
    }
   },
   "source": [
    "# Introduction to Python3 Workshop Part 1\n",
    "\n",
    "\n",
    "\n",
    "\n",
    "#### October 20, 2022"
   ]
  },
  {
   "cell_type": "markdown",
   "id": "df5f9f8c",
   "metadata": {
    "slideshow": {
     "slide_type": "slide"
    }
   },
   "source": [
    "# Setting Up Python on Windows"
   ]
  },
  {
   "cell_type": "markdown",
   "id": "9e4ac0e2",
   "metadata": {
    "slideshow": {
     "slide_type": "slide"
    }
   },
   "source": [
    "##   1. Setting Up Python on Windows"
   ]
  },
  {
   "cell_type": "markdown",
   "id": "054c8cb7",
   "metadata": {
    "slideshow": {
     "slide_type": "-"
    }
   },
   "source": [
    "  "
   ]
  },
  {
   "cell_type": "markdown",
   "id": "43909f77",
   "metadata": {},
   "source": [
    "1. **Microsoft Store package**: The most straightforward installation method on Windows involves installing from the Microsoft Store app.\n",
    "2. **Python Org**: This approach involves downloading Python directly from the *[Python.org](https://www.python.org/downloads/)* website. **Recommended**.\n",
    "\n"
   ]
  },
  {
   "cell_type": "markdown",
   "id": "55a02806",
   "metadata": {
    "slideshow": {
     "slide_type": "slide"
    }
   },
   "source": [
    "## 2. Find your Python Version and Directory"
   ]
  },
  {
   "cell_type": "markdown",
   "id": "84108157",
   "metadata": {
    "slideshow": {
     "slide_type": "-"
    }
   },
   "source": [
    "  "
   ]
  },
  {
   "cell_type": "markdown",
   "id": "7e53e6e7",
   "metadata": {
    "slideshow": {
     "slide_type": "fragment"
    }
   },
   "source": [
    "Open Powershell \\ \n",
    "1. Press the Win key.\n",
    "2. Type PowerShell.\n",
    "3. Press Enter.\n",
    "\n",
    "`python --version` or `python -V` \\\n",
    "\n",
    "Find Location where Python executable lives \\\n",
    "`where.exe python`"
   ]
  },
  {
   "cell_type": "markdown",
   "id": "435c5941",
   "metadata": {
    "slideshow": {
     "slide_type": "slide"
    }
   },
   "source": [
    "## 3. How to Add Python to `PATH`"
   ]
  },
  {
   "cell_type": "markdown",
   "id": "8c1e99f6",
   "metadata": {
    "slideshow": {
     "slide_type": "-"
    }
   },
   "source": [
    "  "
   ]
  },
  {
   "cell_type": "markdown",
   "id": "a4740f93",
   "metadata": {
    "slideshow": {
     "slide_type": "-"
    }
   },
   "source": [
    "* You may need to add Python to `PATH` if you’ve installed Python, but typing python on the command line doesn’t seem to work.\n",
    "* You may be getting a message saying that the term python isn’t recognized, or you may end up with the wrong version of Python running."
   ]
  },
  {
   "cell_type": "markdown",
   "id": "7b3b54ef",
   "metadata": {
    "slideshow": {
     "slide_type": "slide"
    }
   },
   "source": [
    "### 3.1 But.... what is `PATH`?"
   ]
  },
  {
   "cell_type": "markdown",
   "id": "0639fb20",
   "metadata": {
    "slideshow": {
     "slide_type": "fragment"
    }
   },
   "source": [
    "* A path is the address of a file or folder on your hard drive. "
   ]
  },
  {
   "cell_type": "markdown",
   "id": "27e9d8a3",
   "metadata": {
    "slideshow": {
     "slide_type": "fragment"
    }
   },
   "source": [
    "* The `PATH` environment variable, referred to as just PATH, is a list of paths to directories that your operating system keeps and uses to find executable scripts and programs."
   ]
  },
  {
   "cell_type": "markdown",
   "id": "f755d0c2",
   "metadata": {
    "slideshow": {
     "slide_type": "slide"
    }
   },
   "source": [
    "### 3.2 Find Python Executable"
   ]
  },
  {
   "cell_type": "markdown",
   "id": "00f29562",
   "metadata": {},
   "source": [
    "1. To find the Python executable, you’ll need to look for a file called `python.exe`, which could be in\n",
    " 1. ` C:\\Python\\`\n",
    " 1. `AppData\\` (i.e., `C:\\Users\\<USER>\\AppData\\Local\\Programs\\Python`)\n",
    "2. Once you’ve found the executable, make sure it works by double-clicking it and verifying that it starts up a Python REPL in a new window."
   ]
  },
  {
   "cell_type": "code",
   "execution_count": null,
   "id": "892fae67",
   "metadata": {},
   "outputs": [],
   "source": []
  }
 ],
 "metadata": {
  "celltoolbar": "Slideshow",
  "kernelspec": {
   "display_name": "python_workshop",
   "language": "python",
   "name": "python_workshop"
  },
  "language_info": {
   "codemirror_mode": {
    "name": "ipython",
    "version": 3
   },
   "file_extension": ".py",
   "mimetype": "text/x-python",
   "name": "python",
   "nbconvert_exporter": "python",
   "pygments_lexer": "ipython3",
   "version": "3.10.2"
  }
 },
 "nbformat": 4,
 "nbformat_minor": 5
}
